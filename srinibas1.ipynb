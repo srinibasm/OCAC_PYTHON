{
 "cells": [
  {
   "cell_type": "code",
   "execution_count": 2,
   "id": "e80c2a1d-44d4-43b3-ad36-75e234c8b269",
   "metadata": {},
   "outputs": [
    {
     "data": {
      "text/plain": [
       "' PAPAN '"
      ]
     },
     "execution_count": 2,
     "metadata": {},
     "output_type": "execute_result"
    }
   ],
   "source": [
    "A= ' PAPAN '\n",
    "A"
   ]
  },
  {
   "cell_type": "code",
   "execution_count": 3,
   "id": "863452e7-1e84-4885-8559-e1303e54fc39",
   "metadata": {},
   "outputs": [
    {
     "ename": "NameError",
     "evalue": "name 'b' is not defined",
     "output_type": "error",
     "traceback": [
      "\u001b[1;31m---------------------------------------------------------------------------\u001b[0m",
      "\u001b[1;31mNameError\u001b[0m                                 Traceback (most recent call last)",
      "Cell \u001b[1;32mIn[3], line 1\u001b[0m\n\u001b[1;32m----> 1\u001b[0m \u001b[38;5;28mprint\u001b[39m(b)\n",
      "\u001b[1;31mNameError\u001b[0m: name 'b' is not defined"
     ]
    }
   ],
   "source": [
    "print(b)"
   ]
  },
  {
   "cell_type": "code",
   "execution_count": 4,
   "id": "ec488b67-0979-4e14-b0c7-6ef6c20ab402",
   "metadata": {},
   "outputs": [
    {
     "data": {
      "text/plain": [
       "30"
      ]
     },
     "execution_count": 4,
     "metadata": {},
     "output_type": "execute_result"
    }
   ],
   "source": [
    "#single variable assignments\n",
    "x = 30\n",
    "x"
   ]
  },
  {
   "cell_type": "code",
   "execution_count": 5,
   "id": "862da3e2-8442-422f-9d64-0ad0a1ffc184",
   "metadata": {},
   "outputs": [
    {
     "data": {
      "text/plain": [
       "int"
      ]
     },
     "execution_count": 5,
     "metadata": {},
     "output_type": "execute_result"
    }
   ],
   "source": [
    "type(x)"
   ]
  },
  {
   "cell_type": "code",
   "execution_count": 6,
   "id": "04ed091f-b6d2-43b4-a4c5-b2a2cb364f82",
   "metadata": {},
   "outputs": [
    {
     "ename": "NameError",
     "evalue": "name 'y' is not defined",
     "output_type": "error",
     "traceback": [
      "\u001b[1;31m---------------------------------------------------------------------------\u001b[0m",
      "\u001b[1;31mNameError\u001b[0m                                 Traceback (most recent call last)",
      "Cell \u001b[1;32mIn[6], line 1\u001b[0m\n\u001b[1;32m----> 1\u001b[0m \u001b[38;5;28mtype\u001b[39m(y)\n",
      "\u001b[1;31mNameError\u001b[0m: name 'y' is not defined"
     ]
    }
   ],
   "source": [
    "type(y)"
   ]
  },
  {
   "cell_type": "code",
   "execution_count": 7,
   "id": "658d1eb1-8fe0-424e-b0d2-e71a112a5a79",
   "metadata": {},
   "outputs": [
    {
     "data": {
      "text/plain": [
       "'PAPAN'"
      ]
     },
     "execution_count": 7,
     "metadata": {},
     "output_type": "execute_result"
    }
   ],
   "source": [
    "a = 'PAPAN'\n",
    "a"
   ]
  },
  {
   "cell_type": "code",
   "execution_count": 8,
   "id": "46d63f5b-834f-4abd-90be-14e6bf7e992a",
   "metadata": {},
   "outputs": [
    {
     "data": {
      "text/plain": [
       "80"
      ]
     },
     "execution_count": 8,
     "metadata": {},
     "output_type": "execute_result"
    }
   ],
   "source": [
    "ia= 80\n",
    "ia"
   ]
  },
  {
   "cell_type": "code",
   "execution_count": 9,
   "id": "8dba6160-1e90-4b3b-a485-ba8c8d36508e",
   "metadata": {},
   "outputs": [
    {
     "data": {
      "text/plain": [
       "'55'"
      ]
     },
     "execution_count": 9,
     "metadata": {},
     "output_type": "execute_result"
    }
   ],
   "source": [
    "c = \"55\"\n",
    "c"
   ]
  },
  {
   "cell_type": "code",
   "execution_count": 10,
   "id": "3a869284-a63d-4569-bc79-2875805da6cc",
   "metadata": {},
   "outputs": [
    {
     "data": {
      "text/plain": [
       "str"
      ]
     },
     "execution_count": 10,
     "metadata": {},
     "output_type": "execute_result"
    }
   ],
   "source": [
    "type(c)"
   ]
  },
  {
   "cell_type": "code",
   "execution_count": 11,
   "id": "d527d90b-a612-42ec-84aa-686ba08d176c",
   "metadata": {},
   "outputs": [
    {
     "data": {
      "text/plain": [
       "'33x'"
      ]
     },
     "execution_count": 11,
     "metadata": {},
     "output_type": "execute_result"
    }
   ],
   "source": [
    "bc = \"33x\"\n",
    "bc"
   ]
  },
  {
   "cell_type": "code",
   "execution_count": 12,
   "id": "3341ecf0-4d8a-449f-8c58-e35f20a4808a",
   "metadata": {},
   "outputs": [
    {
     "data": {
      "text/plain": [
       "str"
      ]
     },
     "execution_count": 12,
     "metadata": {},
     "output_type": "execute_result"
    }
   ],
   "source": [
    "type(bc)"
   ]
  },
  {
   "cell_type": "code",
   "execution_count": 13,
   "id": "b291e1a6-2b91-4dba-bab4-19a7598d199b",
   "metadata": {},
   "outputs": [
    {
     "name": "stdout",
     "output_type": "stream",
     "text": [
      "['False', 'None', 'True', 'and', 'as', 'assert', 'async', 'await', 'break', 'class', 'continue', 'def', 'del', 'elif', 'else', 'except', 'finally', 'for', 'from', 'global', 'if', 'import', 'in', 'is', 'lambda', 'nonlocal', 'not', 'or', 'pass', 'raise', 'return', 'try', 'while', 'with', 'yield']\n"
     ]
    }
   ],
   "source": [
    "import keyword\n",
    "print(keyword.kwlist)"
   ]
  },
  {
   "cell_type": "code",
   "execution_count": 14,
   "id": "9cb8eb35-bf6d-4b52-8054-0d50827d8d95",
   "metadata": {},
   "outputs": [
    {
     "data": {
      "text/plain": [
       "35"
      ]
     },
     "execution_count": 14,
     "metadata": {},
     "output_type": "execute_result"
    }
   ],
   "source": [
    "len(keyword.kwlist)"
   ]
  },
  {
   "cell_type": "code",
   "execution_count": 15,
   "id": "3f94abb8-2cd2-40ad-b9f8-21c102a695c6",
   "metadata": {},
   "outputs": [
    {
     "ename": "SyntaxError",
     "evalue": "cannot assign to True (2265923158.py, line 1)",
     "output_type": "error",
     "traceback": [
      "\u001b[1;36m  Cell \u001b[1;32mIn[15], line 1\u001b[1;36m\u001b[0m\n\u001b[1;33m    True = \"3326\"\u001b[0m\n\u001b[1;37m    ^\u001b[0m\n\u001b[1;31mSyntaxError\u001b[0m\u001b[1;31m:\u001b[0m cannot assign to True\n"
     ]
    }
   ],
   "source": [
    "True = \"3326\"\n",
    "True"
   ]
  },
  {
   "cell_type": "code",
   "execution_count": 16,
   "id": "d39b1962-75de-40db-8d45-ef1e8102e4f7",
   "metadata": {},
   "outputs": [
    {
     "data": {
      "text/plain": [
       "57"
      ]
     },
     "execution_count": 16,
     "metadata": {},
     "output_type": "execute_result"
    }
   ],
   "source": [
    "x1 = 57\n",
    "x1"
   ]
  },
  {
   "cell_type": "code",
   "execution_count": 17,
   "id": "ebc0788f-ed8e-4e04-a74a-ce0deb6ed762",
   "metadata": {},
   "outputs": [
    {
     "ename": "SyntaxError",
     "evalue": "invalid decimal literal (2634145743.py, line 1)",
     "output_type": "error",
     "traceback": [
      "\u001b[1;36m  Cell \u001b[1;32mIn[17], line 1\u001b[1;36m\u001b[0m\n\u001b[1;33m    1y = 35\u001b[0m\n\u001b[1;37m    ^\u001b[0m\n\u001b[1;31mSyntaxError\u001b[0m\u001b[1;31m:\u001b[0m invalid decimal literal\n"
     ]
    }
   ],
   "source": [
    "1y = 35\n",
    "1y"
   ]
  },
  {
   "cell_type": "code",
   "execution_count": 18,
   "id": "d15c881d-4b5b-47b2-bbeb-c27dcf9f882e",
   "metadata": {},
   "outputs": [
    {
     "ename": "SyntaxError",
     "evalue": "invalid syntax (3992868082.py, line 1)",
     "output_type": "error",
     "traceback": [
      "\u001b[1;36m  Cell \u001b[1;32mIn[18], line 1\u001b[1;36m\u001b[0m\n\u001b[1;33m    y$5 =77\u001b[0m\n\u001b[1;37m     ^\u001b[0m\n\u001b[1;31mSyntaxError\u001b[0m\u001b[1;31m:\u001b[0m invalid syntax\n"
     ]
    }
   ],
   "source": [
    "y$5 =77\n",
    "y$5"
   ]
  },
  {
   "cell_type": "code",
   "execution_count": 19,
   "id": "d2fd6dc6-02d0-4246-9770-9277e8b42393",
   "metadata": {},
   "outputs": [
    {
     "data": {
      "text/plain": [
       "356"
      ]
     },
     "execution_count": 19,
     "metadata": {},
     "output_type": "execute_result"
    }
   ],
   "source": [
    "a_3 = 356\n",
    "a_3"
   ]
  },
  {
   "cell_type": "code",
   "execution_count": 20,
   "id": "1e2cbbc2-ad5f-413d-8a83-e9f295e60157",
   "metadata": {},
   "outputs": [
    {
     "data": {
      "text/plain": [
       "1727454478544"
      ]
     },
     "execution_count": 20,
     "metadata": {},
     "output_type": "execute_result"
    }
   ],
   "source": [
    "#storage location\n",
    "id(a_3)"
   ]
  },
  {
   "cell_type": "code",
   "execution_count": 21,
   "id": "f9876c40-d667-4f0c-8a4a-8a28af9a56a8",
   "metadata": {},
   "outputs": [
    {
     "data": {
      "text/plain": [
       "1727454478736"
      ]
     },
     "execution_count": 21,
     "metadata": {},
     "output_type": "execute_result"
    }
   ],
   "source": [
    "u = 500\n",
    "u\n",
    "id(u)"
   ]
  },
  {
   "cell_type": "code",
   "execution_count": 22,
   "id": "25745be7-1fe7-4542-af29-83ea354ad2dc",
   "metadata": {},
   "outputs": [
    {
     "data": {
      "text/plain": [
       "1727454481776"
      ]
     },
     "execution_count": 22,
     "metadata": {},
     "output_type": "execute_result"
    }
   ],
   "source": [
    "u =555\n",
    "id(u)"
   ]
  },
  {
   "cell_type": "code",
   "execution_count": 23,
   "id": "7e579fd0-e13b-4f40-9364-f32bb0393574",
   "metadata": {},
   "outputs": [
    {
     "data": {
      "text/plain": [
       "140724445956648"
      ]
     },
     "execution_count": 23,
     "metadata": {},
     "output_type": "execute_result"
    }
   ],
   "source": [
    "b = 57\n",
    "c = 43\n",
    "id(b)"
   ]
  },
  {
   "cell_type": "code",
   "execution_count": 24,
   "id": "85d51707-46d5-43c3-81e5-50bcd5805a38",
   "metadata": {},
   "outputs": [
    {
     "data": {
      "text/plain": [
       "140724445956200"
      ]
     },
     "execution_count": 24,
     "metadata": {},
     "output_type": "execute_result"
    }
   ],
   "source": [
    "id(c)"
   ]
  },
  {
   "cell_type": "code",
   "execution_count": 25,
   "id": "77cafd82-7549-4443-a574-d5b461154711",
   "metadata": {},
   "outputs": [
    {
     "data": {
      "text/plain": [
       "140724445957320"
      ]
     },
     "execution_count": 25,
     "metadata": {},
     "output_type": "execute_result"
    }
   ],
   "source": [
    "d = 78\n",
    "id(d)"
   ]
  },
  {
   "cell_type": "code",
   "execution_count": 26,
   "id": "f66b3d78-ca1f-472b-a3dd-6967326bb466",
   "metadata": {},
   "outputs": [
    {
     "name": "stdout",
     "output_type": "stream",
     "text": [
      "The summation of two numbers are  50\n"
     ]
    }
   ],
   "source": [
    "x = 30\n",
    "y = 20\n",
    "sum = x+y\n",
    "print(\"The summation of two numbers are \",sum)"
   ]
  },
  {
   "cell_type": "code",
   "execution_count": 27,
   "id": "d7cbdf7d-6682-4b31-9372-8efcd5f89a85",
   "metadata": {},
   "outputs": [
    {
     "name": "stdout",
     "output_type": "stream",
     "text": [
      "The summation of two numbers are sum 60\n"
     ]
    }
   ],
   "source": [
    "x = 25\n",
    "y = 35\n",
    "sum = x+y\n",
    "print(\"The summation of two numbers are sum\",sum)"
   ]
  },
  {
   "cell_type": "code",
   "execution_count": 28,
   "id": "81c65b78-cfd3-474c-8fb5-e452748a9e57",
   "metadata": {},
   "outputs": [
    {
     "data": {
      "text/plain": [
       "('The summation of two numbers are', 60)"
      ]
     },
     "execution_count": 28,
     "metadata": {},
     "output_type": "execute_result"
    }
   ],
   "source": [
    "\"The summation of two numbers are\",sum"
   ]
  },
  {
   "cell_type": "code",
   "execution_count": 29,
   "id": "704364aa-4fe7-498a-8836-4ad206a0e238",
   "metadata": {},
   "outputs": [
    {
     "data": {
      "text/plain": [
       "60"
      ]
     },
     "execution_count": 29,
     "metadata": {},
     "output_type": "execute_result"
    }
   ],
   "source": [
    "sum"
   ]
  },
  {
   "cell_type": "code",
   "execution_count": 30,
   "id": "a1374930-08f4-4fa0-8d40-038dde073466",
   "metadata": {},
   "outputs": [
    {
     "data": {
      "text/plain": [
       "10"
      ]
     },
     "execution_count": 30,
     "metadata": {},
     "output_type": "execute_result"
    }
   ],
   "source": [
    "x = y = z =10\n",
    "x"
   ]
  },
  {
   "cell_type": "code",
   "execution_count": 31,
   "id": "a810736b-8429-4e07-9c01-eaace8583ca1",
   "metadata": {},
   "outputs": [
    {
     "data": {
      "text/plain": [
       "10"
      ]
     },
     "execution_count": 31,
     "metadata": {},
     "output_type": "execute_result"
    }
   ],
   "source": [
    "y"
   ]
  },
  {
   "cell_type": "code",
   "execution_count": 32,
   "id": "b340528e-32f8-4c8b-98d1-95fa55287a9e",
   "metadata": {},
   "outputs": [
    {
     "data": {
      "text/plain": [
       "10"
      ]
     },
     "execution_count": 32,
     "metadata": {},
     "output_type": "execute_result"
    }
   ],
   "source": [
    "z"
   ]
  },
  {
   "cell_type": "code",
   "execution_count": 35,
   "id": "83a7b343-0895-4f75-b355-39d72bbfee36",
   "metadata": {},
   "outputs": [
    {
     "name": "stdout",
     "output_type": "stream",
     "text": [
      "88 75 95\n"
     ]
    }
   ],
   "source": [
    "x= 88\n",
    "y= 75\n",
    "z= 95\n",
    "xyz = 258\n",
    "print(x,y,z)"
   ]
  },
  {
   "cell_type": "code",
   "execution_count": 36,
   "id": "fa33c104-2886-480d-9591-ad45daa9a165",
   "metadata": {},
   "outputs": [
    {
     "name": "stdout",
     "output_type": "stream",
     "text": [
      "258\n"
     ]
    }
   ],
   "source": [
    "print(xyz)"
   ]
  },
  {
   "cell_type": "code",
   "execution_count": 37,
   "id": "308bef73-d0a2-433b-bd66-084083cbef03",
   "metadata": {},
   "outputs": [
    {
     "name": "stdout",
     "output_type": "stream",
     "text": [
      "88\n"
     ]
    }
   ],
   "source": [
    "x = 88\n",
    "print(x)"
   ]
  },
  {
   "cell_type": "code",
   "execution_count": 38,
   "id": "c77392cc-85fe-42cd-a267-e907527d36e5",
   "metadata": {},
   "outputs": [],
   "source": [
    "#delete Element\n",
    "del(x)"
   ]
  },
  {
   "cell_type": "code",
   "execution_count": 39,
   "id": "315d5ffb-8b79-415b-bc2d-c9f8bbaa7b6b",
   "metadata": {},
   "outputs": [
    {
     "ename": "NameError",
     "evalue": "name 'x' is not defined",
     "output_type": "error",
     "traceback": [
      "\u001b[1;31m---------------------------------------------------------------------------\u001b[0m",
      "\u001b[1;31mNameError\u001b[0m                                 Traceback (most recent call last)",
      "Cell \u001b[1;32mIn[39], line 1\u001b[0m\n\u001b[1;32m----> 1\u001b[0m \u001b[38;5;28mprint\u001b[39m(x)\n",
      "\u001b[1;31mNameError\u001b[0m: name 'x' is not defined"
     ]
    }
   ],
   "source": [
    "print(x)"
   ]
  },
  {
   "cell_type": "code",
   "execution_count": 40,
   "id": "09d50731-32a9-49b8-84f7-660a6a57eb3b",
   "metadata": {},
   "outputs": [],
   "source": [
    "c=55\n",
    "d=67\n",
    "e=78\n",
    "del c,d"
   ]
  },
  {
   "cell_type": "code",
   "execution_count": 41,
   "id": "006478fa-49b5-4d21-9ab3-aac042cf6ace",
   "metadata": {},
   "outputs": [
    {
     "name": "stdout",
     "output_type": "stream",
     "text": [
      "78\n"
     ]
    }
   ],
   "source": [
    "print(e)"
   ]
  },
  {
   "cell_type": "code",
   "execution_count": 42,
   "id": "81dcc9d7-5fa9-495b-83fb-e16553613b11",
   "metadata": {},
   "outputs": [
    {
     "ename": "SyntaxError",
     "evalue": "invalid decimal literal (3558662868.py, line 1)",
     "output_type": "error",
     "traceback": [
      "\u001b[1;36m  Cell \u001b[1;32mIn[42], line 1\u001b[1;36m\u001b[0m\n\u001b[1;33m    1x= 56\u001b[0m\n\u001b[1;37m    ^\u001b[0m\n\u001b[1;31mSyntaxError\u001b[0m\u001b[1;31m:\u001b[0m invalid decimal literal\n"
     ]
    }
   ],
   "source": [
    "1x= 56"
   ]
  },
  {
   "cell_type": "code",
   "execution_count": 43,
   "id": "0b05bc67-fbee-42ae-8416-0ae5f07a2a8b",
   "metadata": {},
   "outputs": [
    {
     "ename": "SyntaxError",
     "evalue": "cannot assign to expression here. Maybe you meant '==' instead of '='? (4164516970.py, line 1)",
     "output_type": "error",
     "traceback": [
      "\u001b[1;36m  Cell \u001b[1;32mIn[43], line 1\u001b[1;36m\u001b[0m\n\u001b[1;33m    a@1=80\u001b[0m\n\u001b[1;37m    ^\u001b[0m\n\u001b[1;31mSyntaxError\u001b[0m\u001b[1;31m:\u001b[0m cannot assign to expression here. Maybe you meant '==' instead of '='?\n"
     ]
    }
   ],
   "source": [
    "a@1=80"
   ]
  },
  {
   "cell_type": "code",
   "execution_count": 44,
   "id": "d6a4e49d-c59c-43bc-821d-307d8b849ed9",
   "metadata": {},
   "outputs": [
    {
     "name": "stdout",
     "output_type": "stream",
     "text": [
      "10 20 30\n"
     ]
    }
   ],
   "source": [
    "#multiple variable assignments\n",
    "u=10\n",
    "v=20\n",
    "w=30\n",
    "print(u,v,w)"
   ]
  },
  {
   "cell_type": "code",
   "execution_count": 46,
   "id": "ac421d22-c35c-46e7-853f-498cab0a11eb",
   "metadata": {},
   "outputs": [
    {
     "name": "stdout",
     "output_type": "stream",
     "text": [
      "10 20 30\n"
     ]
    }
   ],
   "source": [
    "u,v,w=10,20,30\n",
    "print(u,v,w)"
   ]
  },
  {
   "cell_type": "code",
   "execution_count": 47,
   "id": "e7f12efc-e365-4a4d-9b15-150069e081ff",
   "metadata": {},
   "outputs": [
    {
     "data": {
      "text/plain": [
       "'IOT'"
      ]
     },
     "execution_count": 47,
     "metadata": {},
     "output_type": "execute_result"
    }
   ],
   "source": [
    "u = v= w= \"IOT\"\n",
    "w"
   ]
  },
  {
   "cell_type": "code",
   "execution_count": 48,
   "id": "7033a4bf-31f1-41ab-9938-d777bd8c06d6",
   "metadata": {},
   "outputs": [
    {
     "name": "stdout",
     "output_type": "stream",
     "text": [
      "IOT\n"
     ]
    }
   ],
   "source": [
    "print(v)"
   ]
  },
  {
   "cell_type": "code",
   "execution_count": 49,
   "id": "5daaba08-cb2a-4a7f-b660-d456ee1aeaf4",
   "metadata": {},
   "outputs": [
    {
     "name": "stdout",
     "output_type": "stream",
     "text": [
      "3\n"
     ]
    }
   ],
   "source": [
    "print(3)"
   ]
  },
  {
   "cell_type": "code",
   "execution_count": 50,
   "id": "1fa4fe38-ffc8-4119-b35e-b70fda3fd246",
   "metadata": {},
   "outputs": [
    {
     "name": "stdout",
     "output_type": "stream",
     "text": [
      "krishna\n"
     ]
    }
   ],
   "source": [
    "print(\"krishna\")"
   ]
  },
  {
   "cell_type": "code",
   "execution_count": 52,
   "id": "233a720a-9a99-42a1-b423-6b10033278ba",
   "metadata": {},
   "outputs": [
    {
     "name": "stdout",
     "output_type": "stream",
     "text": [
      "ahdtrggdkms  34!@#$\n"
     ]
    }
   ],
   "source": [
    "print(\"ahdtrggdkms  34!@#$\")"
   ]
  },
  {
   "cell_type": "code",
   "execution_count": 53,
   "id": "2cc75469-bd64-4f8d-8807-e8c1eec6e540",
   "metadata": {},
   "outputs": [
    {
     "name": "stdout",
     "output_type": "stream",
     "text": [
      "33\n"
     ]
    }
   ],
   "source": [
    "b=33\n",
    "print(b)"
   ]
  },
  {
   "cell_type": "code",
   "execution_count": 54,
   "id": "a8de28fb-6005-49e5-aff7-c30313fa5649",
   "metadata": {},
   "outputs": [
    {
     "name": "stdout",
     "output_type": "stream",
     "text": [
      "12\n"
     ]
    }
   ],
   "source": [
    "krishna=12\n",
    "print(krishna)"
   ]
  },
  {
   "cell_type": "code",
   "execution_count": 55,
   "id": "ac303010-7afe-486b-a101-3bce761b6aa4",
   "metadata": {},
   "outputs": [
    {
     "name": "stdout",
     "output_type": "stream",
     "text": [
      "krishna\n"
     ]
    }
   ],
   "source": [
    "print(\"krishna\")"
   ]
  },
  {
   "cell_type": "code",
   "execution_count": 57,
   "id": "de215bbe-9950-4448-ba31-acbbffa82198",
   "metadata": {},
   "outputs": [
    {
     "name": "stdout",
     "output_type": "stream",
     "text": [
      "5\n"
     ]
    },
    {
     "data": {
      "text/plain": [
       "int"
      ]
     },
     "execution_count": 57,
     "metadata": {},
     "output_type": "execute_result"
    }
   ],
   "source": [
    "a=5\n",
    "print(a)\n",
    "type(a)"
   ]
  },
  {
   "cell_type": "code",
   "execution_count": 58,
   "id": "a7149157-894f-4867-bc8a-ee64f5b738d2",
   "metadata": {},
   "outputs": [
    {
     "name": "stdout",
     "output_type": "stream",
     "text": [
      "10\n"
     ]
    },
    {
     "data": {
      "text/plain": [
       "str"
      ]
     },
     "execution_count": 58,
     "metadata": {},
     "output_type": "execute_result"
    }
   ],
   "source": [
    "x='10'\n",
    "print(x)\n",
    "type(x)"
   ]
  },
  {
   "cell_type": "code",
   "execution_count": 59,
   "id": "857bbf9e-ba61-453d-b49f-855dceef63e7",
   "metadata": {},
   "outputs": [
    {
     "name": "stdout",
     "output_type": "stream",
     "text": [
      "30\n"
     ]
    }
   ],
   "source": [
    "x=5\n",
    "y=25\n",
    "z=x+y\n",
    "print(z)"
   ]
  },
  {
   "cell_type": "code",
   "execution_count": 60,
   "id": "b4359f30-ab62-4291-8445-47f77ca72cb6",
   "metadata": {},
   "outputs": [
    {
     "name": "stdout",
     "output_type": "stream",
     "text": [
      "10\n"
     ]
    }
   ],
   "source": [
    "x=5\n",
    "y=5\n",
    "print(x+y)\n"
   ]
  },
  {
   "cell_type": "code",
   "execution_count": 61,
   "id": "4f3f2e9d-cdcc-45f9-89da-301bb0f19d42",
   "metadata": {},
   "outputs": [
    {
     "name": "stdout",
     "output_type": "stream",
     "text": [
      "10\n"
     ]
    }
   ],
   "source": [
    "print(5+5)"
   ]
  },
  {
   "cell_type": "code",
   "execution_count": 66,
   "id": "286519dd-97e1-44ff-b17b-6575120e2ca9",
   "metadata": {},
   "outputs": [
    {
     "name": "stdout",
     "output_type": "stream",
     "text": [
      "20:30:10:40\n"
     ]
    }
   ],
   "source": [
    "g=20\n",
    "h=30\n",
    "i=10\n",
    "j=40\n",
    "print(g,h,i,j, sep=\":\")"
   ]
  },
  {
   "cell_type": "code",
   "execution_count": 67,
   "id": "c6d29e83-6520-4b21-9aaf-29deb6b21f10",
   "metadata": {},
   "outputs": [
    {
     "name": "stdout",
     "output_type": "stream",
     "text": [
      "the value of g :  20\n"
     ]
    }
   ],
   "source": [
    "g=20\n",
    "print(\"the value of g : \",g)"
   ]
  },
  {
   "cell_type": "code",
   "execution_count": 68,
   "id": "9d2da577-de8c-44cd-842a-6a57bfd2777e",
   "metadata": {},
   "outputs": [],
   "source": [
    "first_name='papan'\n",
    "last_name='krishna'"
   ]
  },
  {
   "cell_type": "code",
   "execution_count": 69,
   "id": "531a1f42-eda7-4768-884f-bb2f1097df57",
   "metadata": {},
   "outputs": [
    {
     "name": "stdout",
     "output_type": "stream",
     "text": [
      "Name krishna papan\n"
     ]
    }
   ],
   "source": [
    "print(\"Name\",last_name,first_name)"
   ]
  },
  {
   "cell_type": "code",
   "execution_count": 70,
   "id": "1c29ebc7-5561-400f-a253-92f4176bcb42",
   "metadata": {},
   "outputs": [
    {
     "name": "stdout",
     "output_type": "stream",
     "text": [
      "My first name is: papan and last_name is: krishna\n"
     ]
    }
   ],
   "source": [
    "print(\"My first name is:\",first_name,\"and last_name is:\",last_name)"
   ]
  },
  {
   "cell_type": "code",
   "execution_count": 71,
   "id": "d5f82721-4678-47b8-9ce6-570cc101af56",
   "metadata": {},
   "outputs": [
    {
     "name": "stdout",
     "output_type": "stream",
     "text": [
      "my first name is: papan and last name is: krishna\n"
     ]
    }
   ],
   "source": [
    "print(\"my first name is: {} and last name is: {}\".format(first_name,last_name))"
   ]
  },
  {
   "cell_type": "code",
   "execution_count": 72,
   "id": "6aea324e-655e-4c86-a12a-e471c869aa2f",
   "metadata": {},
   "outputs": [
    {
     "name": "stdout",
     "output_type": "stream",
     "text": [
      "my first name is: krishna and last name is: krishna\n"
     ]
    }
   ],
   "source": [
    "print(\"my first name is: {first} and last name is: {first}\".format(last=last_name,first=last_name))"
   ]
  },
  {
   "cell_type": "code",
   "execution_count": 73,
   "id": "e49f3467-99bb-4c66-b881-34c146ee24f9",
   "metadata": {},
   "outputs": [
    {
     "name": "stdout",
     "output_type": "stream",
     "text": [
      "Hii silon Good Evening silon\n"
     ]
    }
   ],
   "source": [
    "print(\"Hii {name} {greeting} {name}\".format(name=\"silon\",greeting=\"Good Evening\"))"
   ]
  },
  {
   "cell_type": "code",
   "execution_count": 74,
   "id": "5c477708-0702-47ae-8d87-b4b484dca2a2",
   "metadata": {},
   "outputs": [
    {
     "name": "stdout",
     "output_type": "stream",
     "text": [
      "my number is : 20 and my name is: sai\n",
      "my number is :20 and my name is : sai\n",
      "my number is : 20 and my name is: sai\n"
     ]
    }
   ],
   "source": [
    "num=20\n",
    "name='sai'\n",
    "print('my number is : {one} and my name is: {two}'.format(one=num,two=name))\n",
    "print('my number is :{} and my name is : {}'.format(num,name))\n",
    "print(\"my number is :\",num,\"and my name is:\",name)"
   ]
  },
  {
   "cell_type": "code",
   "execution_count": 1,
   "id": "922696d5-937e-417e-8cb2-0a0c72621393",
   "metadata": {},
   "outputs": [
    {
     "name": "stdin",
     "output_type": "stream",
     "text": [
      "Enter the value of a:  submit\n"
     ]
    },
    {
     "ename": "ValueError",
     "evalue": "invalid literal for int() with base 10: 'submit'",
     "output_type": "error",
     "traceback": [
      "\u001b[1;31m---------------------------------------------------------------------------\u001b[0m",
      "\u001b[1;31mValueError\u001b[0m                                Traceback (most recent call last)",
      "Cell \u001b[1;32mIn[1], line 1\u001b[0m\n\u001b[1;32m----> 1\u001b[0m a \u001b[38;5;241m=\u001b[39m \u001b[38;5;28mint\u001b[39m(\u001b[38;5;28minput\u001b[39m(\u001b[38;5;124m\"\u001b[39m\u001b[38;5;124mEnter the value of a: \u001b[39m\u001b[38;5;124m\"\u001b[39m))\n\u001b[0;32m      2\u001b[0m b\u001b[38;5;241m=\u001b[39m\u001b[38;5;28mint\u001b[39m(\u001b[38;5;28minput\u001b[39m(\u001b[38;5;124m\"\u001b[39m\u001b[38;5;124mEnter the value of b: \u001b[39m\u001b[38;5;124m\"\u001b[39m))\n\u001b[0;32m      3\u001b[0m add\u001b[38;5;241m=\u001b[39ma\u001b[38;5;241m+\u001b[39mb\n",
      "\u001b[1;31mValueError\u001b[0m: invalid literal for int() with base 10: 'submit'"
     ]
    }
   ],
   "source": []
  },
  {
   "cell_type": "code",
   "execution_count": 2,
   "id": "eaca4f52-028c-4851-a723-eb28d691a284",
   "metadata": {},
   "outputs": [
    {
     "name": "stdin",
     "output_type": "stream",
     "text": [
      "enter your age: 22\n"
     ]
    },
    {
     "data": {
      "text/plain": [
       "'22'"
      ]
     },
     "execution_count": 2,
     "metadata": {},
     "output_type": "execute_result"
    }
   ],
   "source": [
    "n1=input(\"enter your age:\")\n",
    "n1"
   ]
  },
  {
   "cell_type": "code",
   "execution_count": 3,
   "id": "f0791e26-c914-4615-83fe-07f5763b4ce1",
   "metadata": {},
   "outputs": [
    {
     "data": {
      "text/plain": [
       "str"
      ]
     },
     "execution_count": 3,
     "metadata": {},
     "output_type": "execute_result"
    }
   ],
   "source": [
    "type(n1)"
   ]
  },
  {
   "cell_type": "code",
   "execution_count": 4,
   "id": "47039b19-fbf8-4d32-9ff9-06bf4841597b",
   "metadata": {},
   "outputs": [
    {
     "name": "stdin",
     "output_type": "stream",
     "text": [
      "enter your age: 25\n"
     ]
    },
    {
     "data": {
      "text/plain": [
       "25.0"
      ]
     },
     "execution_count": 4,
     "metadata": {},
     "output_type": "execute_result"
    }
   ],
   "source": [
    "n=float(input(\"enter your age:\"))\n",
    "n"
   ]
  },
  {
   "cell_type": "code",
   "execution_count": 5,
   "id": "d448bb57-f7d5-46d3-a9a4-115f3e0f2ee9",
   "metadata": {},
   "outputs": [
    {
     "name": "stdin",
     "output_type": "stream",
     "text": [
      "what is your name?  srinibas\n"
     ]
    },
    {
     "name": "stdout",
     "output_type": "stream",
     "text": [
      "it was nice talking you  srinibas!\n"
     ]
    }
   ],
   "source": [
    "name=input(\"what is your name? \")\n",
    "print(\"it was nice talking you  \" + name + \"!\")"
   ]
  },
  {
   "cell_type": "code",
   "execution_count": 6,
   "id": "dfe1ff59-90fa-43ad-8ad5-e7df0530ed91",
   "metadata": {},
   "outputs": [
    {
     "name": "stdin",
     "output_type": "stream",
     "text": [
      "enter your age? 22\n"
     ]
    },
    {
     "name": "stdout",
     "output_type": "stream",
     "text": [
      "Hey,you are already 22 years old, !\n"
     ]
    }
   ],
   "source": [
    "age = input(\"enter your age?\")\n",
    "print(\"Hey,you are already \" + age + \" years old, \" + \"!\")"
   ]
  },
  {
   "cell_type": "code",
   "execution_count": 8,
   "id": "45c90091-0e48-4cac-bae7-08155f5b26b4",
   "metadata": {},
   "outputs": [
    {
     "name": "stdin",
     "output_type": "stream",
     "text": [
      "enter your name:  papan banti\n"
     ]
    },
    {
     "name": "stdout",
     "output_type": "stream",
     "text": [
      "papan\n",
      "banti\n"
     ]
    }
   ],
   "source": [
    "var_1,var_2 = input(\"enter your name: \").split(\" \")\n",
    "print(var_1)\n",
    "print(var_2)"
   ]
  },
  {
   "cell_type": "code",
   "execution_count": null,
   "id": "50fbfec7-58d6-4d83-a802-38d82bebd7bb",
   "metadata": {},
   "outputs": [],
   "source": []
  }
 ],
 "metadata": {
  "kernelspec": {
   "display_name": "Python 3 (ipykernel)",
   "language": "python",
   "name": "python3"
  },
  "language_info": {
   "codemirror_mode": {
    "name": "ipython",
    "version": 3
   },
   "file_extension": ".py",
   "mimetype": "text/x-python",
   "name": "python",
   "nbconvert_exporter": "python",
   "pygments_lexer": "ipython3",
   "version": "3.11.7"
  }
 },
 "nbformat": 4,
 "nbformat_minor": 5
}
