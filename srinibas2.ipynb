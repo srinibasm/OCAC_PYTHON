{
 "cells": [
  {
   "cell_type": "code",
   "execution_count": 4,
   "id": "ed1d56b6-c7c2-4b4a-a747-d432533c5fcb",
   "metadata": {},
   "outputs": [
    {
     "name": "stdin",
     "output_type": "stream",
     "text": [
      "Enter the value of x:  10\n",
      "Enter the value of y:  5\n"
     ]
    },
    {
     "name": "stdout",
     "output_type": "stream",
     "text": [
      "ADD: 15\n",
      "Sum: 15, Diff: 5, Mult:50, Div:2.0, Mod: 0\n"
     ]
    }
   ],
   "source": [
    "x = int(input(\"Enter the value of x: \"))\n",
    "y=int(input(\"Enter the value of y: \"))\n",
    "add=x+y\n",
    "sub=x-y\n",
    "mult=x*y\n",
    "div=x/y\n",
    "mod=x%y\n",
    "print(\"ADD:\", add)\n",
    "print(\"Sum: {0}, Diff: {1}, Mult:{2}, Div:{3}, Mod: {4}\".format(add, sub, mult, div , mod))"
   ]
  },
  {
   "cell_type": "code",
   "execution_count": 7,
   "id": "c30f8910-a980-48be-bdfa-587229209301",
   "metadata": {},
   "outputs": [
    {
     "name": "stdout",
     "output_type": "stream",
     "text": [
      "Sum: 15, Diff: 5, Mult: 50, Div: 2.0, Mod: 0\n"
     ]
    }
   ],
   "source": [
    "print(\"Sum: {}, Diff: {}, Mult: {}, Div: {}, Mod: {}\".format(add, sub, mult, div, mod))"
   ]
  },
  {
   "cell_type": "code",
   "execution_count": 8,
   "id": "538a3da0-ffee-4985-b6af-1251c86f880d",
   "metadata": {},
   "outputs": [
    {
     "name": "stdout",
     "output_type": "stream",
     "text": [
      "Sum: 15, Diff: 5, Mult: 50, Div:        2.000000, Mod: 0\n"
     ]
    }
   ],
   "source": [
    "print(\"Sum: %d, Diff: %d, Mult: %d, Div: %15.6f, Mod: %d\" %  (add,sub,mult,div,mod))"
   ]
  },
  {
   "cell_type": "code",
   "execution_count": 9,
   "id": "e3516a01-df52-45cc-be73-a0f22d9cb713",
   "metadata": {},
   "outputs": [
    {
     "name": "stdout",
     "output_type": "stream",
     "text": [
      "Sum: 15, Diff: 5, Mult: 50, Div:      2.00, Mod: 0\n"
     ]
    }
   ],
   "source": [
    "print(\"Sum: %d, Diff: %d, Mult: %d, Div: %9.2f, Mod: %d\" %  (add,sub,mult,div,mod))"
   ]
  },
  {
   "cell_type": "code",
   "execution_count": 11,
   "id": "8697eb3f-35e0-46d0-940b-4eb0e6f58ea7",
   "metadata": {},
   "outputs": [
    {
     "name": "stdout",
     "output_type": "stream",
     "text": [
      "sum  | diff | mult |  div\n",
      "15   |  5   |  50  |  2.0\n"
     ]
    }
   ],
   "source": [
    "print('{0: <4} | {1:^4} | {2:^4} | {3:>4}'.format('sum', 'diff', 'mult', 'div'))\n",
    "print('{0:<4} | {1:^4} | {2:^4} | {3:>4}'.format(add,sub,mult,div))"
   ]
  },
  {
   "cell_type": "code",
   "execution_count": 15,
   "id": "017b0091-f1e6-4a6e-a537-175436ffb8f0",
   "metadata": {},
   "outputs": [
    {
     "name": "stdout",
     "output_type": "stream",
     "text": [
      "sum  | mult | diff |  div\n",
      "15   | 50   | 5    |  2.0\n"
     ]
    }
   ],
   "source": [
    "print('{0:<4} | {2:<4} | {1:<4} | {3:>4}'.format('sum', 'diff', 'mult', 'div'))\n",
    "print('{0:<4} | {2:<4} | {1:<4} | {3:>4}'.format(add,sub,mult,div))"
   ]
  },
  {
   "cell_type": "code",
   "execution_count": 17,
   "id": "9a23e9d3-4773-4659-a30f-f10f2d06a8b6",
   "metadata": {},
   "outputs": [
    {
     "name": "stdout",
     "output_type": "stream",
     "text": [
      "Welcome to Python Master class !\n"
     ]
    }
   ],
   "source": [
    "a=\"Master class\"\n",
    "print(f\"Welcome to Python {a} !\")"
   ]
  },
  {
   "cell_type": "code",
   "execution_count": 20,
   "id": "f31491d1-4755-4004-a1d2-167bef550c66",
   "metadata": {},
   "outputs": [
    {
     "name": "stdin",
     "output_type": "stream",
     "text": [
      "Enter a Company name - WIPRO\n",
      "Enter the number of employees - 3000\n"
     ]
    },
    {
     "name": "stdout",
     "output_type": "stream",
     "text": [
      "The name of the Company is and the number of employees are WIPRO 3000\n"
     ]
    }
   ],
   "source": [
    "d= input(\"Enter a Company name -\")\n",
    "e= input(\"Enter the number of employees -\")\n",
    "print(\"The name of the Company is and the number of employees are\",d,e)"
   ]
  },
  {
   "cell_type": "code",
   "execution_count": 21,
   "id": "0b31a98d-79e2-407b-b7c6-7a1c0ee11103",
   "metadata": {},
   "outputs": [
    {
     "name": "stdout",
     "output_type": "stream",
     "text": [
      "The name of the company is WIPRO The number of employees are 3000\n"
     ]
    }
   ],
   "source": [
    "print(\"The name of the company is\",d,\"The number of employees are\",e)"
   ]
  },
  {
   "cell_type": "code",
   "execution_count": 22,
   "id": "734d91d7-b3b4-44e6-9fa4-810a363066c3",
   "metadata": {},
   "outputs": [
    {
     "name": "stdout",
     "output_type": "stream",
     "text": [
      "The name of the company is WIPRO and the number of employees are 3000\n"
     ]
    }
   ],
   "source": [
    "print(f\"The name of the company is {d} and the number of employees are {e}\")"
   ]
  },
  {
   "cell_type": "code",
   "execution_count": 23,
   "id": "a0abaa12-9c0b-48cd-9242-35354c9f4d83",
   "metadata": {},
   "outputs": [
    {
     "name": "stdout",
     "output_type": "stream",
     "text": [
      "20\n"
     ]
    }
   ],
   "source": [
    "#Int variable\n",
    "x=20\n",
    "print(x)"
   ]
  },
  {
   "cell_type": "code",
   "execution_count": 24,
   "id": "45745c84-8837-40e9-85df-e14e80c01700",
   "metadata": {},
   "outputs": [
    {
     "data": {
      "text/plain": [
       "int"
      ]
     },
     "execution_count": 24,
     "metadata": {},
     "output_type": "execute_result"
    }
   ],
   "source": [
    "type(x)"
   ]
  },
  {
   "cell_type": "code",
   "execution_count": 25,
   "id": "e08c5f33-9030-433f-bff0-2c3bc49e8504",
   "metadata": {},
   "outputs": [
    {
     "name": "stdout",
     "output_type": "stream",
     "text": [
      "20.7\n"
     ]
    }
   ],
   "source": [
    "#float variable\n",
    "y=20.7\n",
    "print(y)"
   ]
  },
  {
   "cell_type": "code",
   "execution_count": 26,
   "id": "786b7d61-7cc0-4819-a357-a3c3a9d48599",
   "metadata": {},
   "outputs": [
    {
     "data": {
      "text/plain": [
       "float"
      ]
     },
     "execution_count": 26,
     "metadata": {},
     "output_type": "execute_result"
    }
   ],
   "source": [
    "type(y)"
   ]
  },
  {
   "cell_type": "code",
   "execution_count": 27,
   "id": "0a723703-a98b-40f9-98d3-a2813a58071f",
   "metadata": {},
   "outputs": [
    {
     "name": "stdout",
     "output_type": "stream",
     "text": [
      "<class 'int'>\n",
      "<class 'float'>\n"
     ]
    }
   ],
   "source": [
    "x=5\n",
    "print(type(x))\n",
    "y=10.0\n",
    "print(type(y))"
   ]
  },
  {
   "cell_type": "code",
   "execution_count": 28,
   "id": "99e340f1-d56d-496d-aba1-420d0eb8b56e",
   "metadata": {},
   "outputs": [
    {
     "data": {
      "text/plain": [
       "10.0"
      ]
     },
     "execution_count": 28,
     "metadata": {},
     "output_type": "execute_result"
    }
   ],
   "source": [
    "d=6.0\n",
    "e=4\n",
    "d+e"
   ]
  },
  {
   "cell_type": "code",
   "execution_count": 29,
   "id": "e3c7d09c-8d86-4f61-8fe9-04fc289c210b",
   "metadata": {},
   "outputs": [
    {
     "data": {
      "text/plain": [
       "4"
      ]
     },
     "execution_count": 29,
     "metadata": {},
     "output_type": "execute_result"
    }
   ],
   "source": [
    "#Type casting\n",
    "c=4.5\n",
    "int(c)"
   ]
  },
  {
   "cell_type": "code",
   "execution_count": 30,
   "id": "6a54d885-a03e-42ef-9a04-0ce810dbf89e",
   "metadata": {},
   "outputs": [
    {
     "data": {
      "text/plain": [
       "20"
      ]
     },
     "execution_count": 30,
     "metadata": {},
     "output_type": "execute_result"
    }
   ],
   "source": [
    "int(20.345600)"
   ]
  },
  {
   "cell_type": "code",
   "execution_count": 31,
   "id": "db26e9a9-e8ba-4665-a0d3-7b7c7b448d99",
   "metadata": {},
   "outputs": [
    {
     "data": {
      "text/plain": [
       "14.56789"
      ]
     },
     "execution_count": 31,
     "metadata": {},
     "output_type": "execute_result"
    }
   ],
   "source": [
    "float(14.56789)"
   ]
  },
  {
   "cell_type": "code",
   "execution_count": 32,
   "id": "7afae8dd-9e96-47b2-98d7-38864e1eea49",
   "metadata": {},
   "outputs": [
    {
     "data": {
      "text/plain": [
       "bool"
      ]
     },
     "execution_count": 32,
     "metadata": {},
     "output_type": "execute_result"
    }
   ],
   "source": [
    "#Boolean\n",
    "c1=True\n",
    "type(c1)"
   ]
  },
  {
   "cell_type": "code",
   "execution_count": 33,
   "id": "410c5688-fd46-4584-b35d-83178866d482",
   "metadata": {},
   "outputs": [
    {
     "data": {
      "text/plain": [
       "bool"
      ]
     },
     "execution_count": 33,
     "metadata": {},
     "output_type": "execute_result"
    }
   ],
   "source": [
    "type(True)"
   ]
  },
  {
   "cell_type": "code",
   "execution_count": 34,
   "id": "8b8d9fa6-e38c-4c91-bb4c-9d4f020974a0",
   "metadata": {},
   "outputs": [
    {
     "data": {
      "text/plain": [
       "bool"
      ]
     },
     "execution_count": 34,
     "metadata": {},
     "output_type": "execute_result"
    }
   ],
   "source": [
    "type(False)"
   ]
  },
  {
   "cell_type": "code",
   "execution_count": 36,
   "id": "d46cee7a-6f9f-4aea-bad4-cc75e782b42c",
   "metadata": {},
   "outputs": [
    {
     "data": {
      "text/plain": [
       "1"
      ]
     },
     "execution_count": 36,
     "metadata": {},
     "output_type": "execute_result"
    }
   ],
   "source": [
    "int(True)"
   ]
  },
  {
   "cell_type": "code",
   "execution_count": 37,
   "id": "07e10a1f-4482-44eb-9f34-87312d69629c",
   "metadata": {},
   "outputs": [
    {
     "data": {
      "text/plain": [
       "0"
      ]
     },
     "execution_count": 37,
     "metadata": {},
     "output_type": "execute_result"
    }
   ],
   "source": [
    "int(False)"
   ]
  },
  {
   "cell_type": "code",
   "execution_count": 39,
   "id": "d738c2c4-48f1-4130-a8b8-1192de0ce4ab",
   "metadata": {},
   "outputs": [
    {
     "data": {
      "text/plain": [
       "0"
      ]
     },
     "execution_count": 39,
     "metadata": {},
     "output_type": "execute_result"
    }
   ],
   "source": [
    "False+False"
   ]
  },
  {
   "cell_type": "code",
   "execution_count": 41,
   "id": "5e3dea4d-74df-4f31-88a8-ecb108f0ec8e",
   "metadata": {},
   "outputs": [
    {
     "data": {
      "text/plain": [
       "2"
      ]
     },
     "execution_count": 41,
     "metadata": {},
     "output_type": "execute_result"
    }
   ],
   "source": [
    "True+True"
   ]
  },
  {
   "cell_type": "code",
   "execution_count": 42,
   "id": "4bb82c2e-f037-4213-8db7-080f5def1462",
   "metadata": {},
   "outputs": [
    {
     "data": {
      "text/plain": [
       "3.3"
      ]
     },
     "execution_count": 42,
     "metadata": {},
     "output_type": "execute_result"
    }
   ],
   "source": [
    "y=3.3\n",
    "z=False\n",
    "y+z"
   ]
  },
  {
   "cell_type": "code",
   "execution_count": 45,
   "id": "859b4970-2e51-4d7a-9a3f-ee73e65e6f46",
   "metadata": {},
   "outputs": [],
   "source": [
    "#Complex\n",
    "x=5+10j"
   ]
  },
  {
   "cell_type": "code",
   "execution_count": 46,
   "id": "cf11a222-fe37-4e2f-bb2e-53547debf277",
   "metadata": {},
   "outputs": [
    {
     "data": {
      "text/plain": [
       "complex"
      ]
     },
     "execution_count": 46,
     "metadata": {},
     "output_type": "execute_result"
    }
   ],
   "source": [
    "type(x)"
   ]
  },
  {
   "cell_type": "code",
   "execution_count": 47,
   "id": "231c625f-62ca-4de8-bd0f-f3679bc98614",
   "metadata": {},
   "outputs": [
    {
     "data": {
      "text/plain": [
       "5.0"
      ]
     },
     "execution_count": 47,
     "metadata": {},
     "output_type": "execute_result"
    }
   ],
   "source": [
    "x.real"
   ]
  },
  {
   "cell_type": "code",
   "execution_count": 49,
   "id": "b86f4324-85e2-47e2-9938-a9616f1e6d00",
   "metadata": {},
   "outputs": [
    {
     "data": {
      "text/plain": [
       "10.0"
      ]
     },
     "execution_count": 49,
     "metadata": {},
     "output_type": "execute_result"
    }
   ],
   "source": [
    "x.imag"
   ]
  },
  {
   "cell_type": "code",
   "execution_count": 51,
   "id": "a8817b13-7fec-490f-8fff-7dab1c00e1b2",
   "metadata": {},
   "outputs": [
    {
     "name": "stdout",
     "output_type": "stream",
     "text": [
      "10.0 -20.0\n"
     ]
    }
   ],
   "source": [
    "y=10.0 - 20.0j\n",
    "print(y.real,y.imag)"
   ]
  },
  {
   "cell_type": "code",
   "execution_count": 52,
   "id": "628e3bb8-d6e9-4a69-8a1e-65cc30166948",
   "metadata": {},
   "outputs": [
    {
     "name": "stdout",
     "output_type": "stream",
     "text": [
      "Hiii\n",
      "Hiii\n",
      "Hiii\n"
     ]
    }
   ],
   "source": [
    "#string\n",
    "Mystring1='Hiii'\n",
    "print(Mystring1)\n",
    "\n",
    "Mystring2=\"Hiii\"\n",
    "print(Mystring2)\n",
    "\n",
    "Mystring3='''Hiii'''\n",
    "print(Mystring3)"
   ]
  },
  {
   "cell_type": "code",
   "execution_count": 53,
   "id": "d5e29f4d-b84a-4f28-84b1-b0bb9a325efd",
   "metadata": {},
   "outputs": [
    {
     "data": {
      "text/plain": [
       "str"
      ]
     },
     "execution_count": 53,
     "metadata": {},
     "output_type": "execute_result"
    }
   ],
   "source": [
    "b='papan'\n",
    "type(b)\n"
   ]
  },
  {
   "cell_type": "code",
   "execution_count": 59,
   "id": "ee77a3fb-a336-4d1a-9cf2-93a494977f92",
   "metadata": {},
   "outputs": [
    {
     "data": {
      "text/plain": [
       "'1@3456'"
      ]
     },
     "execution_count": 59,
     "metadata": {},
     "output_type": "execute_result"
    }
   ],
   "source": [
    "a='1@3456'\n",
    "a"
   ]
  },
  {
   "cell_type": "code",
   "execution_count": 60,
   "id": "e4071e06-7be4-4cc3-84d0-93c915ae3794",
   "metadata": {},
   "outputs": [],
   "source": [
    "a='3456'"
   ]
  },
  {
   "cell_type": "code",
   "execution_count": 61,
   "id": "a7ffa917-ce5a-4a37-b9c7-d6f8f44c2c45",
   "metadata": {},
   "outputs": [
    {
     "data": {
      "text/plain": [
       "3456"
      ]
     },
     "execution_count": 61,
     "metadata": {},
     "output_type": "execute_result"
    }
   ],
   "source": [
    "int(a)"
   ]
  },
  {
   "cell_type": "code",
   "execution_count": 63,
   "id": "41531199-adf4-406b-9dc3-b7ce183be670",
   "metadata": {},
   "outputs": [
    {
     "name": "stdout",
     "output_type": "stream",
     "text": [
      "papan,\"laptop\"\n"
     ]
    }
   ],
   "source": [
    "print('papan,\"laptop\"')"
   ]
  },
  {
   "cell_type": "code",
   "execution_count": 64,
   "id": "1e2b058b-93e0-42b9-8f6d-1ff680cdd967",
   "metadata": {},
   "outputs": [
    {
     "ename": "SyntaxError",
     "evalue": "invalid syntax. Perhaps you forgot a comma? (170639923.py, line 1)",
     "output_type": "error",
     "traceback": [
      "\u001b[1;36m  Cell \u001b[1;32mIn[64], line 1\u001b[1;36m\u001b[0m\n\u001b[1;33m    print('papan's,\"laptop\";)\u001b[0m\n\u001b[1;37m          ^\u001b[0m\n\u001b[1;31mSyntaxError\u001b[0m\u001b[1;31m:\u001b[0m invalid syntax. Perhaps you forgot a comma?\n"
     ]
    }
   ],
   "source": [
    "print('papan's,\"laptop\";)"
   ]
  },
  {
   "cell_type": "code",
   "execution_count": 65,
   "id": "0cbf30a8-88f6-47b4-9bac-b2afec45b011",
   "metadata": {},
   "outputs": [
    {
     "name": "stdout",
     "output_type": "stream",
     "text": [
      "papan's \"laptop\"\n"
     ]
    }
   ],
   "source": [
    "print('papan\\'s \"laptop\"')"
   ]
  },
  {
   "cell_type": "code",
   "execution_count": 66,
   "id": "64e24b0a-e07e-4758-8734-45c7d73bb3d2",
   "metadata": {},
   "outputs": [
    {
     "data": {
      "text/plain": [
       "'802'"
      ]
     },
     "execution_count": 66,
     "metadata": {},
     "output_type": "execute_result"
    }
   ],
   "source": [
    "#concatination\n",
    "a=\"80\"\n",
    "b=\"2\"\n",
    "a+b"
   ]
  },
  {
   "cell_type": "code",
   "execution_count": 67,
   "id": "91781cc2-5f6c-4c84-ad5e-9f6615d7c28c",
   "metadata": {},
   "outputs": [
    {
     "data": {
      "text/plain": [
       "802"
      ]
     },
     "execution_count": 67,
     "metadata": {},
     "output_type": "execute_result"
    }
   ],
   "source": [
    "int(a+b)"
   ]
  },
  {
   "cell_type": "code",
   "execution_count": 68,
   "id": "72d1eacb-933c-43b1-8fe1-6c2d121358d5",
   "metadata": {},
   "outputs": [
    {
     "data": {
      "text/plain": [
       "82"
      ]
     },
     "execution_count": 68,
     "metadata": {},
     "output_type": "execute_result"
    }
   ],
   "source": [
    "int(a)+int(b)"
   ]
  },
  {
   "cell_type": "code",
   "execution_count": 74,
   "id": "8aca8f01-3b9e-4af2-a540-8de023e42333",
   "metadata": {},
   "outputs": [
    {
     "ename": "TypeError",
     "evalue": "unsupported operand type(s) for +: 'int' and 'str'",
     "output_type": "error",
     "traceback": [
      "\u001b[1;31m---------------------------------------------------------------------------\u001b[0m",
      "\u001b[1;31mTypeError\u001b[0m                                 Traceback (most recent call last)",
      "Cell \u001b[1;32mIn[74], line 3\u001b[0m\n\u001b[0;32m      1\u001b[0m c\u001b[38;5;241m=\u001b[39m \u001b[38;5;124m'\u001b[39m\u001b[38;5;124m5\u001b[39m\u001b[38;5;124m'\u001b[39m\n\u001b[0;32m      2\u001b[0m d\u001b[38;5;241m=\u001b[39m \u001b[38;5;241m8\u001b[39m\n\u001b[1;32m----> 3\u001b[0m d\u001b[38;5;241m+\u001b[39mc\n",
      "\u001b[1;31mTypeError\u001b[0m: unsupported operand type(s) for +: 'int' and 'str'"
     ]
    }
   ],
   "source": [
    "c= '5'\n",
    "d= 8\n",
    "d+c"
   ]
  },
  {
   "cell_type": "code",
   "execution_count": 75,
   "id": "7ffc6ac2-816a-45d0-851e-91407a4e265f",
   "metadata": {},
   "outputs": [
    {
     "data": {
      "text/plain": [
       "13"
      ]
     },
     "execution_count": 75,
     "metadata": {},
     "output_type": "execute_result"
    }
   ],
   "source": [
    "int(c)+d"
   ]
  },
  {
   "cell_type": "code",
   "execution_count": 78,
   "id": "e6c84180-cac0-4029-b1eb-c8c712f6b7b2",
   "metadata": {},
   "outputs": [
    {
     "data": {
      "text/plain": [
       "58"
      ]
     },
     "execution_count": 78,
     "metadata": {},
     "output_type": "execute_result"
    }
   ],
   "source": [
    "int(c+str(d))"
   ]
  },
  {
   "cell_type": "code",
   "execution_count": 79,
   "id": "b7fe75ce-3c82-456f-98e5-10a6bf2a3b97",
   "metadata": {},
   "outputs": [],
   "source": [
    "x=\"papan\"\n",
    "y=2468"
   ]
  },
  {
   "cell_type": "code",
   "execution_count": 81,
   "id": "fb03afb6-8bc0-4b10-9889-80ea33cac003",
   "metadata": {},
   "outputs": [
    {
     "name": "stdout",
     "output_type": "stream",
     "text": [
      "papan2468\n"
     ]
    }
   ],
   "source": [
    "print(x+str(y))"
   ]
  },
  {
   "cell_type": "code",
   "execution_count": 82,
   "id": "87ecbd29-fcd5-4592-8811-8039c27b0435",
   "metadata": {},
   "outputs": [
    {
     "data": {
      "text/plain": [
       "'papanpapan'"
      ]
     },
     "execution_count": 82,
     "metadata": {},
     "output_type": "execute_result"
    }
   ],
   "source": [
    "'papan'+'papan'"
   ]
  },
  {
   "cell_type": "code",
   "execution_count": 84,
   "id": "2c5ef4a5-2687-44f2-ab61-6c8a60b370a3",
   "metadata": {},
   "outputs": [
    {
     "data": {
      "text/plain": [
       "'papanpapanpapanpapanpapan'"
      ]
     },
     "execution_count": 84,
     "metadata": {},
     "output_type": "execute_result"
    }
   ],
   "source": [
    "\"papan\" * 5"
   ]
  },
  {
   "cell_type": "code",
   "execution_count": 86,
   "id": "cd1a5776-66d8-480a-8863-e003dabf07dc",
   "metadata": {},
   "outputs": [],
   "source": [
    "user=\"papan\"\n",
    "lines= 100"
   ]
  },
  {
   "cell_type": "code",
   "execution_count": 88,
   "id": "c573a8e0-6b1f-4144-9359-74e0c89a3fa2",
   "metadata": {},
   "outputs": [
    {
     "name": "stdout",
     "output_type": "stream",
     "text": [
      "Congratulations,papan! you just wrote 100 lines of code\n"
     ]
    }
   ],
   "source": [
    "print(\"Congratulations,\" + user + \"! you just wrote\" ,lines,\"lines of code\")"
   ]
  },
  {
   "cell_type": "code",
   "execution_count": 91,
   "id": "5a7eaef8-0b35-40a0-be6e-bd96d93ec513",
   "metadata": {},
   "outputs": [
    {
     "name": "stdout",
     "output_type": "stream",
     "text": [
      "Congratulations,papan! you just wrote 100 lines of code\n"
     ]
    }
   ],
   "source": [
    "print(\"Congratulations,\" + user + \"! you just wrote\",str(lines) + \" lines of code\")"
   ]
  },
  {
   "cell_type": "code",
   "execution_count": 92,
   "id": "099305b0-9881-4cc9-b641-8c762b0dc767",
   "metadata": {},
   "outputs": [
    {
     "data": {
      "text/plain": [
       "21"
      ]
     },
     "execution_count": 92,
     "metadata": {},
     "output_type": "execute_result"
    }
   ],
   "source": [
    "#length of code\n",
    "x= \"I am Srinibas Mohanty\"\n",
    "len(x)"
   ]
  },
  {
   "cell_type": "code",
   "execution_count": 94,
   "id": "ff654454-a432-4f6c-b551-cc6928c3d968",
   "metadata": {},
   "outputs": [
    {
     "ename": "NameError",
     "evalue": "name 'x' is not defined",
     "output_type": "error",
     "traceback": [
      "\u001b[1;31m---------------------------------------------------------------------------\u001b[0m",
      "\u001b[1;31mNameError\u001b[0m                                 Traceback (most recent call last)",
      "Cell \u001b[1;32mIn[94], line 2\u001b[0m\n\u001b[0;32m      1\u001b[0m \u001b[38;5;66;03m#Delete string\u001b[39;00m\n\u001b[1;32m----> 2\u001b[0m x\n\u001b[0;32m      3\u001b[0m \u001b[38;5;28;01mdel\u001b[39;00m(x)\n\u001b[0;32m      4\u001b[0m \u001b[38;5;28mprint\u001b[39m(x)\n",
      "\u001b[1;31mNameError\u001b[0m: name 'x' is not defined"
     ]
    }
   ],
   "source": [
    "#Delete string\n",
    "del(x)\n",
    "print(x)"
   ]
  },
  {
   "cell_type": "code",
   "execution_count": 95,
   "id": "cc3f175b-417f-49e1-b0b9-81e68056f05a",
   "metadata": {},
   "outputs": [],
   "source": [
    "mystring= \"Hiii\""
   ]
  },
  {
   "cell_type": "code",
   "execution_count": 96,
   "id": "ef072550-7532-4a1b-b48b-e07454c98cda",
   "metadata": {},
   "outputs": [
    {
     "name": "stdout",
     "output_type": "stream",
     "text": [
      "H\n"
     ]
    }
   ],
   "source": [
    "print(mystring[0])"
   ]
  },
  {
   "cell_type": "code",
   "execution_count": 97,
   "id": "fef1803e-f647-448b-b31b-682d7122efee",
   "metadata": {},
   "outputs": [
    {
     "name": "stdout",
     "output_type": "stream",
     "text": [
      "i\n"
     ]
    }
   ],
   "source": [
    "print(mystring[3])"
   ]
  },
  {
   "cell_type": "code",
   "execution_count": 98,
   "id": "3881ab7e-02d8-44be-983b-5edb8f2ff449",
   "metadata": {},
   "outputs": [
    {
     "name": "stdout",
     "output_type": "stream",
     "text": [
      "i\n"
     ]
    }
   ],
   "source": [
    "print(mystring[-1])"
   ]
  },
  {
   "cell_type": "code",
   "execution_count": 100,
   "id": "f22e8f37-e7bc-497d-9eeb-f73cb6482b26",
   "metadata": {},
   "outputs": [
    {
     "name": "stdout",
     "output_type": "stream",
     "text": [
      "H\n"
     ]
    }
   ],
   "source": [
    "print(mystring[-4])"
   ]
  },
  {
   "cell_type": "code",
   "execution_count": 101,
   "id": "0fe705e7-5a9d-4789-8eba-1e56d7597066",
   "metadata": {},
   "outputs": [
    {
     "ename": "TypeError",
     "evalue": "string indices must be integers, not 'float'",
     "output_type": "error",
     "traceback": [
      "\u001b[1;31m---------------------------------------------------------------------------\u001b[0m",
      "\u001b[1;31mTypeError\u001b[0m                                 Traceback (most recent call last)",
      "Cell \u001b[1;32mIn[101], line 1\u001b[0m\n\u001b[1;32m----> 1\u001b[0m \u001b[38;5;28mprint\u001b[39m(mystring[\u001b[38;5;241m1.5\u001b[39m])\n",
      "\u001b[1;31mTypeError\u001b[0m: string indices must be integers, not 'float'"
     ]
    }
   ],
   "source": [
    "print(mystring[1.5])"
   ]
  },
  {
   "cell_type": "code",
   "execution_count": 2,
   "id": "ba350160-b2cb-4e8d-b479-96c08294d2f2",
   "metadata": {},
   "outputs": [
    {
     "ename": "TypeError",
     "evalue": "'str' object does not support item assignment",
     "output_type": "error",
     "traceback": [
      "\u001b[1;31m---------------------------------------------------------------------------\u001b[0m",
      "\u001b[1;31mTypeError\u001b[0m                                 Traceback (most recent call last)",
      "Cell \u001b[1;32mIn[2], line 3\u001b[0m\n\u001b[0;32m      1\u001b[0m \u001b[38;5;66;03m#stringmutable\u001b[39;00m\n\u001b[0;32m      2\u001b[0m mystring\u001b[38;5;241m=\u001b[39m\u001b[38;5;124m\"\u001b[39m\u001b[38;5;124mHello\u001b[39m\u001b[38;5;124m\"\u001b[39m\n\u001b[1;32m----> 3\u001b[0m mystring[\u001b[38;5;241m4\u001b[39m]\u001b[38;5;241m=\u001b[39m\u001b[38;5;124m'\u001b[39m\u001b[38;5;124ms\u001b[39m\u001b[38;5;124m'\u001b[39m\n",
      "\u001b[1;31mTypeError\u001b[0m: 'str' object does not support item assignment"
     ]
    }
   ],
   "source": [
    "#stringmutable\n",
    "mystring=\"Hello\"\n",
    "mystring[4]='s'"
   ]
  },
  {
   "cell_type": "code",
   "execution_count": 5,
   "id": "963e8a3c-7bdd-4e30-b769-8f7f0fa256c3",
   "metadata": {},
   "outputs": [
    {
     "name": "stdout",
     "output_type": "stream",
     "text": [
      "l\n"
     ]
    }
   ],
   "source": [
    "#Slicing the strings\n",
    "print(mystring[3])"
   ]
  },
  {
   "cell_type": "code",
   "execution_count": 6,
   "id": "7462cbe4-1758-4d42-89f7-95e3c63cd683",
   "metadata": {},
   "outputs": [
    {
     "name": "stdout",
     "output_type": "stream",
     "text": [
      "He\n"
     ]
    }
   ],
   "source": [
    "print(mystring[0:2])\n"
   ]
  },
  {
   "cell_type": "code",
   "execution_count": 8,
   "id": "515b71ca-a94c-4861-b8f3-49da3e9a2ffc",
   "metadata": {},
   "outputs": [
    {
     "data": {
      "text/plain": [
       "'ello'"
      ]
     },
     "execution_count": 8,
     "metadata": {},
     "output_type": "execute_result"
    }
   ],
   "source": [
    "mystring[1:]\n"
   ]
  },
  {
   "cell_type": "code",
   "execution_count": 9,
   "id": "aecdbc29-433c-4aed-b29d-9b5f4b60a930",
   "metadata": {},
   "outputs": [
    {
     "data": {
      "text/plain": [
       "'Hel'"
      ]
     },
     "execution_count": 9,
     "metadata": {},
     "output_type": "execute_result"
    }
   ],
   "source": [
    "mystring[:3]"
   ]
  },
  {
   "cell_type": "code",
   "execution_count": 10,
   "id": "70e09756-4084-49cc-9f41-16998109acbe",
   "metadata": {},
   "outputs": [
    {
     "data": {
      "text/plain": [
       "'Hello'"
      ]
     },
     "execution_count": 10,
     "metadata": {},
     "output_type": "execute_result"
    }
   ],
   "source": [
    "mystring[:]"
   ]
  },
  {
   "cell_type": "code",
   "execution_count": 11,
   "id": "b1084fed-0330-4535-a1a2-df4907d8d0b4",
   "metadata": {},
   "outputs": [
    {
     "data": {
      "text/plain": [
       "'Hello'"
      ]
     },
     "execution_count": 11,
     "metadata": {},
     "output_type": "execute_result"
    }
   ],
   "source": [
    "mystring"
   ]
  },
  {
   "cell_type": "code",
   "execution_count": null,
   "id": "f44ae753-715b-4e11-bf1b-e752ab1060a2",
   "metadata": {},
   "outputs": [],
   "source": []
  },
  {
   "cell_type": "code",
   "execution_count": 14,
   "id": "f000a5e2-67f9-417f-9ec7-f2f52b27223b",
   "metadata": {},
   "outputs": [
    {
     "data": {
      "text/plain": [
       "'Good morning'"
      ]
     },
     "execution_count": 14,
     "metadata": {},
     "output_type": "execute_result"
    }
   ],
   "source": [
    "\"good morning\".capitalize()"
   ]
  },
  {
   "cell_type": "code",
   "execution_count": 15,
   "id": "55df6bf5-2b30-4a20-bb4c-19a8b92bfb60",
   "metadata": {},
   "outputs": [
    {
     "data": {
      "text/plain": [
       "'Good morning.welcome'"
      ]
     },
     "execution_count": 15,
     "metadata": {},
     "output_type": "execute_result"
    }
   ],
   "source": [
    "\"good morning.welcome\".capitalize()"
   ]
  },
  {
   "cell_type": "code",
   "execution_count": 16,
   "id": "53cccafe-545e-47f1-a82b-af0dd5abde99",
   "metadata": {},
   "outputs": [
    {
     "data": {
      "text/plain": [
       "'Good Morning'"
      ]
     },
     "execution_count": 16,
     "metadata": {},
     "output_type": "execute_result"
    }
   ],
   "source": [
    "#title\n",
    "a=\"gOOd moRning\"\n",
    "a.title()"
   ]
  },
  {
   "cell_type": "code",
   "execution_count": 17,
   "id": "d915b76c-484f-4bac-9f1c-f1c6b08a2c07",
   "metadata": {},
   "outputs": [
    {
     "data": {
      "text/plain": [
       "'Good Morning'"
      ]
     },
     "execution_count": 17,
     "metadata": {},
     "output_type": "execute_result"
    }
   ],
   "source": [
    "\"gOOd moRning\".title()"
   ]
  },
  {
   "cell_type": "code",
   "execution_count": 18,
   "id": "cbc6fd1e-b9d7-4b18-84e2-4d908d3470b5",
   "metadata": {},
   "outputs": [
    {
     "data": {
      "text/plain": [
       "'GOOD MORNING'"
      ]
     },
     "execution_count": 18,
     "metadata": {},
     "output_type": "execute_result"
    }
   ],
   "source": [
    "#upper\n",
    "a.upper()"
   ]
  },
  {
   "cell_type": "code",
   "execution_count": 19,
   "id": "32650e48-772a-4594-afa5-3f74f8497e34",
   "metadata": {},
   "outputs": [
    {
     "data": {
      "text/plain": [
       "'good morning'"
      ]
     },
     "execution_count": 19,
     "metadata": {},
     "output_type": "execute_result"
    }
   ],
   "source": [
    "a.lower()\n"
   ]
  },
  {
   "cell_type": "code",
   "execution_count": 20,
   "id": "1df85f04-9750-4f7f-9dc2-c9052c250556",
   "metadata": {},
   "outputs": [
    {
     "data": {
      "text/plain": [
       "['Hello', 'my', 'name', 'is', 'ram']"
      ]
     },
     "execution_count": 20,
     "metadata": {},
     "output_type": "execute_result"
    }
   ],
   "source": [
    "#split\n",
    "st=\"Hello my name is ram\"\n",
    "st.split(' ')"
   ]
  },
  {
   "cell_type": "code",
   "execution_count": 21,
   "id": "fc408f19-b07a-4fda-857a-5bd732f8cbc1",
   "metadata": {},
   "outputs": [
    {
     "data": {
      "text/plain": [
       "['I love sweet! ', ' sweet']"
      ]
     },
     "execution_count": 21,
     "metadata": {},
     "output_type": "execute_result"
    }
   ],
   "source": [
    "sweet='I love sweet! # sweet'\n",
    "sweet.split('#'\n",
    "           )"
   ]
  },
  {
   "cell_type": "code",
   "execution_count": 22,
   "id": "2247f5c9-b948-4002-99de-5cc4f594d6b8",
   "metadata": {},
   "outputs": [
    {
     "data": {
      "text/plain": [
       "'This will split all words in a list'"
      ]
     },
     "execution_count": 22,
     "metadata": {},
     "output_type": "execute_result"
    }
   ],
   "source": [
    "#join\n",
    "' '.join(['This','will','split','all','words','in','a','list'])"
   ]
  },
  {
   "cell_type": "code",
   "execution_count": 23,
   "id": "f7a7efbb-1771-4a97-b94c-79d6c0369baf",
   "metadata": {},
   "outputs": [
    {
     "data": {
      "text/plain": [
       "3"
      ]
     },
     "execution_count": 23,
     "metadata": {},
     "output_type": "execute_result"
    }
   ],
   "source": [
    "#find\n",
    "\"My name is papan\".find(\"n\")"
   ]
  },
  {
   "cell_type": "code",
   "execution_count": 24,
   "id": "7c4581b9-3664-42ed-8ec2-c1e409bb7bf8",
   "metadata": {},
   "outputs": [
    {
     "data": {
      "text/plain": [
       "2"
      ]
     },
     "execution_count": 24,
     "metadata": {},
     "output_type": "execute_result"
    }
   ],
   "source": [
    "#count\n",
    "\"Good Evening\".count(\"n\")"
   ]
  },
  {
   "cell_type": "code",
   "execution_count": 26,
   "id": "4b9b875d-0243-49dc-ac21-7f6895d0366a",
   "metadata": {},
   "outputs": [
    {
     "data": {
      "text/plain": [
       "'Good Evening'"
      ]
     },
     "execution_count": 26,
     "metadata": {},
     "output_type": "execute_result"
    }
   ],
   "source": [
    "#Replace\n",
    "s1=\"Good Morning\"\n",
    "s1.replace(\"Morning\",\"Evening\")"
   ]
  },
  {
   "cell_type": "code",
   "execution_count": 32,
   "id": "39e1268c-4357-4396-9e51-a730b0294c2e",
   "metadata": {},
   "outputs": [
    {
     "name": "stdout",
     "output_type": "stream",
     "text": [
      "True\n",
      "False\n",
      "False\n",
      "False\n",
      "False\n",
      "True\n",
      "False\n",
      "False\n"
     ]
    },
    {
     "ename": "AttributeError",
     "evalue": "'str' object has no attribute 'starstwith'",
     "output_type": "error",
     "traceback": [
      "\u001b[1;31m---------------------------------------------------------------------------\u001b[0m",
      "\u001b[1;31mAttributeError\u001b[0m                            Traceback (most recent call last)",
      "Cell \u001b[1;32mIn[32], line 10\u001b[0m\n\u001b[0;32m      8\u001b[0m \u001b[38;5;28mprint\u001b[39m(my_str\u001b[38;5;241m.\u001b[39misspace())\n\u001b[0;32m      9\u001b[0m \u001b[38;5;28mprint\u001b[39m(my_str\u001b[38;5;241m.\u001b[39mendswith(\u001b[38;5;124m'\u001b[39m\u001b[38;5;124ms\u001b[39m\u001b[38;5;124m'\u001b[39m))\n\u001b[1;32m---> 10\u001b[0m \u001b[38;5;28mprint\u001b[39m(my_str\u001b[38;5;241m.\u001b[39mstarstwith(\u001b[38;5;124m'\u001b[39m\u001b[38;5;124mS\u001b[39m\u001b[38;5;124m'\u001b[39m))\n",
      "\u001b[1;31mAttributeError\u001b[0m: 'str' object has no attribute 'starstwith'"
     ]
    }
   ],
   "source": [
    "my_str='papan123'\n",
    "print(my_str.isalnum())\n",
    "print(my_str.isalpha())\n",
    "print(my_str.isdigit())\n",
    "print(my_str.istitle())\n",
    "print(my_str.isupper())\n",
    "print(my_str.islower())\n",
    "print(my_str.isspace())\n",
    "print(my_str.endswith('s'))\n",
    "print(my_str.starstwith('S'))"
   ]
  },
  {
   "cell_type": "code",
   "execution_count": 28,
   "id": "246574d4-4822-4d2b-980b-4574e055124f",
   "metadata": {},
   "outputs": [
    {
     "name": "stdout",
     "output_type": "stream",
     "text": [
      "True\n"
     ]
    }
   ],
   "source": [
    "print(my_str.islower())\n"
   ]
  },
  {
   "cell_type": "code",
   "execution_count": 29,
   "id": "42632703-ee35-4f8a-ae7c-fad4a3562f77",
   "metadata": {},
   "outputs": [
    {
     "name": "stdout",
     "output_type": "stream",
     "text": [
      "False\n"
     ]
    }
   ],
   "source": [
    "print(my_str.isspace())"
   ]
  },
  {
   "cell_type": "code",
   "execution_count": 31,
   "id": "a4a386be-fefb-4060-9f3e-51ac01785834",
   "metadata": {},
   "outputs": [
    {
     "name": "stdout",
     "output_type": "stream",
     "text": [
      "False\n"
     ]
    }
   ],
   "source": [
    "print(my_str.endswith('s'))"
   ]
  },
  {
   "cell_type": "code",
   "execution_count": null,
   "id": "db7eaa0f-3b83-47a5-b653-6946530612ae",
   "metadata": {},
   "outputs": [],
   "source": []
  }
 ],
 "metadata": {
  "kernelspec": {
   "display_name": "Python 3 (ipykernel)",
   "language": "python",
   "name": "python3"
  },
  "language_info": {
   "codemirror_mode": {
    "name": "ipython",
    "version": 3
   },
   "file_extension": ".py",
   "mimetype": "text/x-python",
   "name": "python",
   "nbconvert_exporter": "python",
   "pygments_lexer": "ipython3",
   "version": "3.11.7"
  }
 },
 "nbformat": 4,
 "nbformat_minor": 5
}
