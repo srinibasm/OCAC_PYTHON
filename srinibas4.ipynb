{
 "cells": [
  {
   "cell_type": "code",
   "execution_count": 1,
   "id": "b0763e45-b9f9-4350-8281-3d26ddbfbd16",
   "metadata": {},
   "outputs": [
    {
     "data": {
      "text/plain": [
       "range(0, 8)"
      ]
     },
     "execution_count": 1,
     "metadata": {},
     "output_type": "execute_result"
    }
   ],
   "source": [
    "#range\n",
    "range(8)"
   ]
  },
  {
   "cell_type": "code",
   "execution_count": 2,
   "id": "b3a5c754-4813-46ee-a0c3-4f62f48bfb38",
   "metadata": {},
   "outputs": [
    {
     "data": {
      "text/plain": [
       "[0, 1, 2, 3, 4, 5, 6, 7]"
      ]
     },
     "execution_count": 2,
     "metadata": {},
     "output_type": "execute_result"
    }
   ],
   "source": [
    "list(range(8))"
   ]
  },
  {
   "cell_type": "code",
   "execution_count": 3,
   "id": "d3a2c524-8a87-410d-801e-69d1d1ef7407",
   "metadata": {},
   "outputs": [
    {
     "data": {
      "text/plain": [
       "[8, 9, 10, 11, 12, 13, 14, 15, 16, 17, 18, 19]"
      ]
     },
     "execution_count": 3,
     "metadata": {},
     "output_type": "execute_result"
    }
   ],
   "source": [
    "list(range(8,20))"
   ]
  },
  {
   "cell_type": "code",
   "execution_count": 4,
   "id": "74af1a15-669d-4ddd-972f-17abd18d3870",
   "metadata": {},
   "outputs": [
    {
     "name": "stdout",
     "output_type": "stream",
     "text": [
      "[8, 17]\n"
     ]
    }
   ],
   "source": [
    "print(list(range(8,20,9)))"
   ]
  },
  {
   "cell_type": "code",
   "execution_count": 6,
   "id": "8ed55dd7-6720-4f68-b0f9-90fc099ddc43",
   "metadata": {},
   "outputs": [
    {
     "name": "stdout",
     "output_type": "stream",
     "text": [
      "[7, 6, 5, 4]\n"
     ]
    }
   ],
   "source": [
    "print(list(range(7,3,-1)))"
   ]
  },
  {
   "cell_type": "code",
   "execution_count": 7,
   "id": "ab3ee425-3471-4400-aaf3-2c9da472d51c",
   "metadata": {},
   "outputs": [
    {
     "name": "stdout",
     "output_type": "stream",
     "text": [
      "[50, 48, 46, 44, 42, 40, 38, 36, 34, 32, 30, 28, 26, 24, 22, 20, 18, 16, 14, 12, 10, 8, 6, 4, 2]\n"
     ]
    }
   ],
   "source": [
    "print(list(range(50,0,-2)))"
   ]
  },
  {
   "cell_type": "code",
   "execution_count": 10,
   "id": "9a997ed6-14e4-4736-8483-e69c9bee4305",
   "metadata": {},
   "outputs": [
    {
     "data": {
      "text/plain": [
       "[]"
      ]
     },
     "execution_count": 10,
     "metadata": {},
     "output_type": "execute_result"
    }
   ],
   "source": [
    "#list1\n",
    "l=[]\n",
    "l"
   ]
  },
  {
   "cell_type": "code",
   "execution_count": 11,
   "id": "15d2a83a-5d9a-43bf-b6aa-4606920f1530",
   "metadata": {},
   "outputs": [
    {
     "data": {
      "text/plain": [
       "[]"
      ]
     },
     "execution_count": 11,
     "metadata": {},
     "output_type": "execute_result"
    }
   ],
   "source": [
    "l=list()\n",
    "l"
   ]
  },
  {
   "cell_type": "code",
   "execution_count": 12,
   "id": "d62f3d77-3a99-4700-8c4e-62d8fe635644",
   "metadata": {},
   "outputs": [
    {
     "data": {
      "text/plain": [
       "[4, 6, 8]"
      ]
     },
     "execution_count": 12,
     "metadata": {},
     "output_type": "execute_result"
    }
   ],
   "source": [
    "#list creation\n",
    "l=[4,6,8]\n",
    "l"
   ]
  },
  {
   "cell_type": "code",
   "execution_count": 13,
   "id": "afbd72e3-0439-4b01-b541-a0ba0e5e526d",
   "metadata": {},
   "outputs": [
    {
     "data": {
      "text/plain": [
       "list"
      ]
     },
     "execution_count": 13,
     "metadata": {},
     "output_type": "execute_result"
    }
   ],
   "source": [
    "type(l)"
   ]
  },
  {
   "cell_type": "code",
   "execution_count": 22,
   "id": "d43f5047-a55b-433f-863f-b56d2d1fb0cc",
   "metadata": {},
   "outputs": [
    {
     "data": {
      "text/plain": [
       "[1, 0.2, (1+5j), True, '2', 'rew']"
      ]
     },
     "execution_count": 22,
     "metadata": {},
     "output_type": "execute_result"
    }
   ],
   "source": [
    "#list of heterogenous (different datatypes)\n",
    "li=[1,0.2,1+5j,True,'2','rew']\n",
    "li"
   ]
  },
  {
   "cell_type": "code",
   "execution_count": 23,
   "id": "28e45ba6-a09b-48ce-9e58-79a595eed0f2",
   "metadata": {},
   "outputs": [
    {
     "name": "stdout",
     "output_type": "stream",
     "text": [
      "[[2, 3], [4, 5], [6, 7], 2, 5]\n"
     ]
    }
   ],
   "source": [
    "#Nested lists (list of lists)\n",
    "lst4= [[2,3],[4,5],[6,7],2,5]\n",
    "print(lst4)"
   ]
  },
  {
   "cell_type": "code",
   "execution_count": 25,
   "id": "6a2eef32-e467-4870-883a-032a70e79780",
   "metadata": {},
   "outputs": [
    {
     "name": "stdout",
     "output_type": "stream",
     "text": [
      "8\n"
     ]
    }
   ],
   "source": [
    "#list\n",
    "lst=['one','two','three','four',[2,3,4,5],4,5,[2,3]]\n",
    "print(len(lst))"
   ]
  },
  {
   "cell_type": "code",
   "execution_count": 27,
   "id": "4f0bcdde-ad01-4481-8f9c-4c0102ee90c4",
   "metadata": {},
   "outputs": [
    {
     "name": "stdout",
     "output_type": "stream",
     "text": [
      "3\n"
     ]
    }
   ],
   "source": [
    "lst=[[2,4,5,6],[2,3],[4,5,[6,2],3]]\n",
    "print(len(lst))"
   ]
  },
  {
   "cell_type": "code",
   "execution_count": 28,
   "id": "e47755dd-7d9e-439d-b40a-883898801fee",
   "metadata": {},
   "outputs": [
    {
     "data": {
      "text/plain": [
       "30"
      ]
     },
     "execution_count": 28,
     "metadata": {},
     "output_type": "execute_result"
    }
   ],
   "source": [
    "#Indexing\n",
    "my_lst=[30,10.5,\"Hii\"]\n",
    "\n",
    "my_lst[0]"
   ]
  },
  {
   "cell_type": "code",
   "execution_count": 29,
   "id": "95ad0186-5884-471e-98b9-73d90e191668",
   "metadata": {},
   "outputs": [
    {
     "name": "stdout",
     "output_type": "stream",
     "text": [
      "Hii\n"
     ]
    }
   ],
   "source": [
    "print(my_lst[-1])"
   ]
  },
  {
   "cell_type": "code",
   "execution_count": 31,
   "id": "a3bc2cd7-6bd5-47ea-9c96-a5dcd5df115b",
   "metadata": {},
   "outputs": [
    {
     "data": {
      "text/plain": [
       "[30, 'NEW', 'Hii']"
      ]
     },
     "execution_count": 31,
     "metadata": {},
     "output_type": "execute_result"
    }
   ],
   "source": [
    "my_lst[1]='NEW'\n",
    "my_lst"
   ]
  },
  {
   "cell_type": "code",
   "execution_count": 32,
   "id": "845e3c8b-cd94-4656-a93c-c883ce1f0b53",
   "metadata": {},
   "outputs": [
    {
     "name": "stdout",
     "output_type": "stream",
     "text": [
      "[2, 4, 6, 8, 10, 12, 14, 16, 18, 20, 22]\n",
      "[6, 8, 10, 12, 14, 16, 18, 20, 22]\n",
      "[2, 4, 6, 8, 10, 12, 14]\n",
      "[2, 10, 18]\n",
      "[4, 18]\n",
      "[22, 20, 18, 16, 14, 12, 10, 8, 6, 4, 2]\n"
     ]
    }
   ],
   "source": [
    "#List Slicing\n",
    "numbers=[2,4,6,8,10,12,14,16,18,20,22]\n",
    "print(numbers[:])\n",
    "print(numbers[2:])\n",
    "print(numbers[:7])\n",
    "print(numbers[::4])\n",
    "print(numbers[1::7])\n",
    "print(numbers[-1::-1])"
   ]
  },
  {
   "cell_type": "code",
   "execution_count": 4,
   "id": "ea2830b1-7351-4638-9ae2-df96c9f32392",
   "metadata": {},
   "outputs": [
    {
     "data": {
      "text/plain": [
       "4"
      ]
     },
     "execution_count": 4,
     "metadata": {},
     "output_type": "execute_result"
    }
   ],
   "source": [
    "nest=[1,2,3,[4,5,['target',3,40]]]\n",
    "len(nest)"
   ]
  },
  {
   "cell_type": "code",
   "execution_count": 6,
   "id": "d3b351f3-fe40-4b64-a74a-9280f7fec876",
   "metadata": {},
   "outputs": [
    {
     "data": {
      "text/plain": [
       "'target'"
      ]
     },
     "execution_count": 6,
     "metadata": {},
     "output_type": "execute_result"
    }
   ],
   "source": [
    "nest[3][2][0]"
   ]
  },
  {
   "cell_type": "code",
   "execution_count": 7,
   "id": "a9b5484f-9686-4e42-9f39-ad323561f651",
   "metadata": {},
   "outputs": [],
   "source": [
    "lst=[1,2,[3,4],[5,[100,200,['hiii'],23,11],1,7]]"
   ]
  },
  {
   "cell_type": "code",
   "execution_count": 8,
   "id": "4d0df255-bb4e-41ba-a6b0-2823149807cc",
   "metadata": {},
   "outputs": [
    {
     "data": {
      "text/plain": [
       "'hiii'"
      ]
     },
     "execution_count": 8,
     "metadata": {},
     "output_type": "execute_result"
    }
   ],
   "source": [
    "lst[3][1][2][0]"
   ]
  },
  {
   "cell_type": "code",
   "execution_count": 9,
   "id": "fba6747b-6e51-4a89-8b47-cb9da3098e50",
   "metadata": {},
   "outputs": [
    {
     "data": {
      "text/plain": [
       "[1, 2, [3, 4], [5, [100, 200, ['hiii'], 23, 11], 32, 7]]"
      ]
     },
     "execution_count": 9,
     "metadata": {},
     "output_type": "execute_result"
    }
   ],
   "source": [
    "lst[3][2]=32\n",
    "lst"
   ]
  },
  {
   "cell_type": "code",
   "execution_count": 13,
   "id": "fba5c4ce-66c0-4c77-bffe-f99732a96a97",
   "metadata": {},
   "outputs": [
    {
     "data": {
      "text/plain": [
       "['papan', 'b', 'e', 'a', 9, 3.0]"
      ]
     },
     "execution_count": 13,
     "metadata": {},
     "output_type": "execute_result"
    }
   ],
   "source": [
    "#list concatenation\n",
    "l1=[\"papan\",'b','e']\n",
    "l2=['a',9,3.0]\n",
    "l1 + l2"
   ]
  },
  {
   "cell_type": "code",
   "execution_count": 14,
   "id": "55183f25-096e-49f2-bc39-ab0e7af20698",
   "metadata": {},
   "outputs": [
    {
     "data": {
      "text/plain": [
       "[2, 4, 6, 8, 'papan']"
      ]
     },
     "execution_count": 14,
     "metadata": {},
     "output_type": "execute_result"
    }
   ],
   "source": [
    "#append\n",
    "my_list=[2,4,6,8]\n",
    "my_list.append('papan')\n",
    "my_list"
   ]
  },
  {
   "cell_type": "code",
   "execution_count": 15,
   "id": "75be09fb-8053-44c7-afb3-8054fcc0686e",
   "metadata": {},
   "outputs": [
    {
     "data": {
      "text/plain": [
       "[3, 5, 6.0, 8, [10, 11]]"
      ]
     },
     "execution_count": 15,
     "metadata": {},
     "output_type": "execute_result"
    }
   ],
   "source": [
    "lst=[3,5,6.0,8]\n",
    "lst.append([10,11])\n",
    "lst"
   ]
  },
  {
   "cell_type": "code",
   "execution_count": 18,
   "id": "ba69a2c1-492e-460c-87bf-9910e2d674cf",
   "metadata": {},
   "outputs": [
    {
     "data": {
      "text/plain": [
       "['one', 'two', 'three', 'fou']"
      ]
     },
     "execution_count": 18,
     "metadata": {},
     "output_type": "execute_result"
    }
   ],
   "source": [
    "#insert\n",
    "lst=['one','two','fou']\n",
    "lst.insert(2,'three')\n",
    "lst"
   ]
  },
  {
   "cell_type": "code",
   "execution_count": 19,
   "id": "038cec11-8dc2-4f50-9a34-eab26b61d77e",
   "metadata": {},
   "outputs": [
    {
     "data": {
      "text/plain": [
       "[10, 20, 40, 50, 60, 70, 80, 90, 100]"
      ]
     },
     "execution_count": 19,
     "metadata": {},
     "output_type": "execute_result"
    }
   ],
   "source": [
    "#remove\n",
    "marks=[10,20,30,40,50,60,70,80,90,100]\n",
    "marks.remove(30)\n",
    "marks"
   ]
  },
  {
   "cell_type": "code",
   "execution_count": 21,
   "id": "3dd494c3-8098-4b2f-9443-a18778b7a4b4",
   "metadata": {},
   "outputs": [
    {
     "name": "stdout",
     "output_type": "stream",
     "text": [
      "[]\n"
     ]
    }
   ],
   "source": [
    "#clear\n",
    "a=[1,2,3,4]\n",
    "a.clear()\n",
    "print(a)"
   ]
  },
  {
   "cell_type": "code",
   "execution_count": 22,
   "id": "b03addc0-9fc4-4cda-beb6-8270a0ef5da9",
   "metadata": {},
   "outputs": [
    {
     "name": "stdout",
     "output_type": "stream",
     "text": [
      "[2, 3, 4, 5, 6, 7]\n"
     ]
    }
   ],
   "source": [
    "#pop\n",
    "lst=[2,3,4,5,6,7,8]\n",
    "lst.pop()\n",
    "print(lst)"
   ]
  },
  {
   "cell_type": "code",
   "execution_count": 23,
   "id": "42b9d1fc-a101-49a9-bfd9-c6512d32cee1",
   "metadata": {},
   "outputs": [
    {
     "name": "stdout",
     "output_type": "stream",
     "text": [
      "['one', 'two', 'four', 'five']\n"
     ]
    }
   ],
   "source": [
    "lst=['one','two','three','four','five']\n",
    "lst.pop(2)\n",
    "print(lst)"
   ]
  },
  {
   "cell_type": "code",
   "execution_count": 30,
   "id": "fb1b9cb6-9cf0-4817-b1c2-84c8bb86f2e7",
   "metadata": {},
   "outputs": [
    {
     "name": "stdout",
     "output_type": "stream",
     "text": [
      "[2, 3, 5, 6, 8]\n"
     ]
    }
   ],
   "source": [
    "#delete\n",
    "lst=[2,3,5,6,7,8]\n",
    "del lst[4]\n",
    "print(lst)"
   ]
  },
  {
   "cell_type": "code",
   "execution_count": 31,
   "id": "30c90a5c-2da7-430f-b3ff-55afed0124ce",
   "metadata": {},
   "outputs": [
    {
     "name": "stdout",
     "output_type": "stream",
     "text": [
      "[6, 8]\n"
     ]
    }
   ],
   "source": [
    "del lst[0:3]\n",
    "print(lst)"
   ]
  },
  {
   "cell_type": "code",
   "execution_count": 32,
   "id": "35f0252b-94ea-46ff-b8b8-00b8ab94ead6",
   "metadata": {},
   "outputs": [
    {
     "name": "stdout",
     "output_type": "stream",
     "text": [
      "[5, 4, 3, 2, 1]\n"
     ]
    }
   ],
   "source": [
    "#Reverse\n",
    "lst=[1,2,3,4,5]\n",
    "lst.reverse()\n",
    "print(lst)"
   ]
  },
  {
   "cell_type": "code",
   "execution_count": 33,
   "id": "a5311287-155a-4023-a5d6-498024ea0e52",
   "metadata": {},
   "outputs": [
    {
     "data": {
      "text/plain": [
       "[19, 23, 24, 40, 50, 56]"
      ]
     },
     "execution_count": 33,
     "metadata": {},
     "output_type": "execute_result"
    }
   ],
   "source": [
    "#Sorting\n",
    "numbers=[50,56,23,19,24,40]\n",
    "sorted(numbers)"
   ]
  },
  {
   "cell_type": "code",
   "execution_count": 37,
   "id": "ad818f49-d2dd-407e-9ed1-e2a14369b276",
   "metadata": {},
   "outputs": [
    {
     "data": {
      "text/plain": [
       "[1, 2, 3.0, 5, 6]"
      ]
     },
     "execution_count": 37,
     "metadata": {},
     "output_type": "execute_result"
    }
   ],
   "source": [
    "lst = [2,5,6,3.0,1]\n",
    "lst.sort()\n",
    "lst"
   ]
  },
  {
   "cell_type": "code",
   "execution_count": 39,
   "id": "cb2f1fa1-3b32-42ce-877c-4395c33c4cda",
   "metadata": {},
   "outputs": [
    {
     "ename": "SyntaxError",
     "evalue": "invalid syntax. Perhaps you forgot a comma? (2157954752.py, line 1)",
     "output_type": "error",
     "traceback": [
      "\u001b[1;36m  Cell \u001b[1;32mIn[39], line 1\u001b[1;36m\u001b[0m\n\u001b[1;33m    lst = [1,30,'e'.6.'s']\u001b[0m\n\u001b[1;37m                ^\u001b[0m\n\u001b[1;31mSyntaxError\u001b[0m\u001b[1;31m:\u001b[0m invalid syntax. Perhaps you forgot a comma?\n"
     ]
    }
   ],
   "source": [
    "lst = [1,30,'e'.6.'s']\n",
    "print(lst.sort())"
   ]
  },
  {
   "cell_type": "code",
   "execution_count": null,
   "id": "26058a7d-fd71-4f32-a8ed-cd6da4107f81",
   "metadata": {},
   "outputs": [],
   "source": []
  }
 ],
 "metadata": {
  "kernelspec": {
   "display_name": "Python 3 (ipykernel)",
   "language": "python",
   "name": "python3"
  },
  "language_info": {
   "codemirror_mode": {
    "name": "ipython",
    "version": 3
   },
   "file_extension": ".py",
   "mimetype": "text/x-python",
   "name": "python",
   "nbconvert_exporter": "python",
   "pygments_lexer": "ipython3",
   "version": "3.11.7"
  }
 },
 "nbformat": 4,
 "nbformat_minor": 5
}
