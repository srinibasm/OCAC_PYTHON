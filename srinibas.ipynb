{
 "cells": [
  {
   "cell_type": "code",
   "execution_count": 2,
   "id": "db14d652-c551-4264-978a-620ebb953a79",
   "metadata": {},
   "outputs": [
    {
     "data": {
      "text/plain": [
       "'SHIVAJI'"
      ]
     },
     "execution_count": 2,
     "metadata": {},
     "output_type": "execute_result"
    }
   ],
   "source": [
    "a='SHIVAJI'\n",
    "a"
   ]
  },
  {
   "cell_type": "code",
   "execution_count": 3,
   "id": "1fcfce8b-db88-457d-abd0-d2a9382795d9",
   "metadata": {},
   "outputs": [
    {
     "name": "stdout",
     "output_type": "stream",
     "text": [
      "SHIVAJI\n"
     ]
    }
   ],
   "source": [
    "print(a)"
   ]
  },
  {
   "cell_type": "code",
   "execution_count": 4,
   "id": "922d64c5-fc0b-4d3f-984c-c41e77c7ae78",
   "metadata": {},
   "outputs": [
    {
     "data": {
      "text/plain": [
       "60"
      ]
     },
     "execution_count": 4,
     "metadata": {},
     "output_type": "execute_result"
    }
   ],
   "source": [
    "b=60\n",
    "b"
   ]
  },
  {
   "cell_type": "code",
   "execution_count": 5,
   "id": "47e29505-e569-45c2-bbdd-f3ce6da1b618",
   "metadata": {},
   "outputs": [
    {
     "data": {
      "text/plain": [
       "int"
      ]
     },
     "execution_count": 5,
     "metadata": {},
     "output_type": "execute_result"
    }
   ],
   "source": [
    "type(b)"
   ]
  },
  {
   "cell_type": "code",
   "execution_count": 6,
   "id": "11fe6e4f-59fa-4567-8588-72d3fe256717",
   "metadata": {},
   "outputs": [
    {
     "data": {
      "text/plain": [
       "50"
      ]
     },
     "execution_count": 6,
     "metadata": {},
     "output_type": "execute_result"
    }
   ],
   "source": [
    "ab=50\n",
    "ab"
   ]
  },
  {
   "cell_type": "code",
   "execution_count": 7,
   "id": "f37f180c-0caa-4d8c-b95c-520827e52b87",
   "metadata": {},
   "outputs": [
    {
     "data": {
      "text/plain": [
       "'60'"
      ]
     },
     "execution_count": 7,
     "metadata": {},
     "output_type": "execute_result"
    }
   ],
   "source": [
    "c='60'\n",
    "c"
   ]
  },
  {
   "cell_type": "code",
   "execution_count": 8,
   "id": "9fdfdd83-3472-4487-bcd1-2ad94d481b92",
   "metadata": {},
   "outputs": [
    {
     "data": {
      "text/plain": [
       "str"
      ]
     },
     "execution_count": 8,
     "metadata": {},
     "output_type": "execute_result"
    }
   ],
   "source": [
    "type(c)\n"
   ]
  },
  {
   "cell_type": "code",
   "execution_count": 9,
   "id": "bf554b35-b36c-4d22-983e-8b94094ff6a7",
   "metadata": {},
   "outputs": [
    {
     "name": "stdout",
     "output_type": "stream",
     "text": [
      "['False', 'None', 'True', 'and', 'as', 'assert', 'async', 'await', 'break', 'class', 'continue', 'def', 'del', 'elif', 'else', 'except', 'finally', 'for', 'from', 'global', 'if', 'import', 'in', 'is', 'lambda', 'nonlocal', 'not', 'or', 'pass', 'raise', 'return', 'try', 'while', 'with', 'yield']\n"
     ]
    }
   ],
   "source": [
    "import keyword\n",
    "print(keyword.kwlist)"
   ]
  },
  {
   "cell_type": "code",
   "execution_count": 10,
   "id": "5c0d1dda-4524-40d4-8ca3-5ab2917773c7",
   "metadata": {},
   "outputs": [
    {
     "data": {
      "text/plain": [
       "215"
      ]
     },
     "execution_count": 10,
     "metadata": {},
     "output_type": "execute_result"
    }
   ],
   "source": [
    "a_6 =215\n",
    "a_6"
   ]
  },
  {
   "cell_type": "code",
   "execution_count": 12,
   "id": "61457005-2b6f-49d9-97db-db6425a3d535",
   "metadata": {},
   "outputs": [
    {
     "data": {
      "text/plain": [
       "140724403887592"
      ]
     },
     "execution_count": 12,
     "metadata": {},
     "output_type": "execute_result"
    }
   ],
   "source": [
    "#storagelocation\n",
    "id(a_6)"
   ]
  },
  {
   "cell_type": "code",
   "execution_count": 13,
   "id": "37cbd793-a0dc-4417-9cd8-baffdca9d713",
   "metadata": {},
   "outputs": [
    {
     "data": {
      "text/plain": [
       "2461420532976"
      ]
     },
     "execution_count": 13,
     "metadata": {},
     "output_type": "execute_result"
    }
   ],
   "source": [
    "b=444\n",
    "b\n",
    "id(b)"
   ]
  },
  {
   "cell_type": "code",
   "execution_count": 14,
   "id": "316ede40-fabd-4515-b711-7967c8a48735",
   "metadata": {},
   "outputs": [
    {
     "data": {
      "text/plain": [
       "2461420532144"
      ]
     },
     "execution_count": 14,
     "metadata": {},
     "output_type": "execute_result"
    }
   ],
   "source": [
    "c=525\n",
    "id(c)"
   ]
  },
  {
   "cell_type": "code",
   "execution_count": 15,
   "id": "862bfdec-36da-44c8-9cf4-d3b52ba63a0e",
   "metadata": {},
   "outputs": [
    {
     "data": {
      "text/plain": [
       "140724403882792"
      ]
     },
     "execution_count": 15,
     "metadata": {},
     "output_type": "execute_result"
    }
   ],
   "source": [
    "d=65\n",
    "e=36\n",
    "id(d)"
   ]
  },
  {
   "cell_type": "code",
   "execution_count": 16,
   "id": "7d935270-98a3-49e1-aee0-1f2b1f002314",
   "metadata": {},
   "outputs": [
    {
     "data": {
      "text/plain": [
       "140724403881864"
      ]
     },
     "execution_count": 16,
     "metadata": {},
     "output_type": "execute_result"
    }
   ],
   "source": [
    "id(e)"
   ]
  },
  {
   "cell_type": "code",
   "execution_count": 17,
   "id": "5ffb3829-e08d-47fa-8174-ad330d8c7fd4",
   "metadata": {},
   "outputs": [
    {
     "data": {
      "text/plain": [
       "140724403882568"
      ]
     },
     "execution_count": 17,
     "metadata": {},
     "output_type": "execute_result"
    }
   ],
   "source": [
    "e=58\n",
    "id(e)"
   ]
  },
  {
   "cell_type": "code",
   "execution_count": 18,
   "id": "edb905d0-e3ea-4c16-99ef-9e9806558fa0",
   "metadata": {},
   "outputs": [
    {
     "name": "stdout",
     "output_type": "stream",
     "text": [
      "The summation of two numbers are 56\n"
     ]
    }
   ],
   "source": [
    "a=22\n",
    "b=34\n",
    "sum=a+b\n",
    "print(\"The summation of two numbers are\",a+b)"
   ]
  },
  {
   "cell_type": "code",
   "execution_count": 19,
   "id": "516ac163-ec58-4654-8e81-f57f04d43311",
   "metadata": {},
   "outputs": [
    {
     "data": {
      "text/plain": [
       "56"
      ]
     },
     "execution_count": 19,
     "metadata": {},
     "output_type": "execute_result"
    }
   ],
   "source": [
    "sum"
   ]
  },
  {
   "cell_type": "code",
   "execution_count": 21,
   "id": "2b7aad6b-9a33-4787-aa16-4d498951f154",
   "metadata": {},
   "outputs": [
    {
     "data": {
      "text/plain": [
       "35"
      ]
     },
     "execution_count": 21,
     "metadata": {},
     "output_type": "execute_result"
    }
   ],
   "source": [
    "a=b=c=35\n",
    "a"
   ]
  },
  {
   "cell_type": "code",
   "execution_count": 23,
   "id": "c64d76f6-93ce-4a4b-8939-6cd9b92b86c8",
   "metadata": {},
   "outputs": [
    {
     "data": {
      "text/plain": [
       "35"
      ]
     },
     "execution_count": 23,
     "metadata": {},
     "output_type": "execute_result"
    }
   ],
   "source": [
    "b"
   ]
  },
  {
   "cell_type": "code",
   "execution_count": 24,
   "id": "96fe2b88-7ce7-4048-b968-c6bc42c4f940",
   "metadata": {},
   "outputs": [
    {
     "data": {
      "text/plain": [
       "35"
      ]
     },
     "execution_count": 24,
     "metadata": {},
     "output_type": "execute_result"
    }
   ],
   "source": [
    "c"
   ]
  },
  {
   "cell_type": "code",
   "execution_count": 27,
   "id": "40070657-07b5-4dac-af5c-192fae0b6e5c",
   "metadata": {},
   "outputs": [
    {
     "name": "stdout",
     "output_type": "stream",
     "text": [
      "33 21 45\n"
     ]
    }
   ],
   "source": [
    "a=33\n",
    "b=21\n",
    "c=45\n",
    "abc=99\n",
    "print(a,b,c)"
   ]
  },
  {
   "cell_type": "code",
   "execution_count": 28,
   "id": "63243751-7068-4209-8543-2c8efd8653ae",
   "metadata": {},
   "outputs": [
    {
     "name": "stdout",
     "output_type": "stream",
     "text": [
      "99\n"
     ]
    }
   ],
   "source": [
    "print(abc)"
   ]
  },
  {
   "cell_type": "code",
   "execution_count": 29,
   "id": "b1a6e424-90f6-4ed5-87d2-c28b635f82e7",
   "metadata": {},
   "outputs": [
    {
     "name": "stdout",
     "output_type": "stream",
     "text": [
      "33\n"
     ]
    }
   ],
   "source": [
    "a=33\n",
    "print(a)"
   ]
  },
  {
   "cell_type": "code",
   "execution_count": 32,
   "id": "c21e5e25-e0e7-496c-85a1-d4a20767e7b6",
   "metadata": {},
   "outputs": [
    {
     "data": {
      "text/plain": [
       "33"
      ]
     },
     "execution_count": 32,
     "metadata": {},
     "output_type": "execute_result"
    }
   ],
   "source": [
    "a1=33\n",
    "a1"
   ]
  },
  {
   "cell_type": "code",
   "execution_count": 33,
   "id": "22add415-c660-4317-826e-9681cbd94ffe",
   "metadata": {},
   "outputs": [
    {
     "name": "stdout",
     "output_type": "stream",
     "text": [
      "PAPAN\n"
     ]
    }
   ],
   "source": [
    "a=b=c=\"PAPAN\"\n",
    "print(c)"
   ]
  },
  {
   "cell_type": "code",
   "execution_count": 34,
   "id": "6bc93288-84ed-4105-ae2c-b052da0cea78",
   "metadata": {},
   "outputs": [
    {
     "name": "stdout",
     "output_type": "stream",
     "text": [
      "PAPAN\n"
     ]
    }
   ],
   "source": [
    "print(b)"
   ]
  },
  {
   "cell_type": "code",
   "execution_count": 35,
   "id": "483000bb-176c-475c-885c-3cda8fb33cda",
   "metadata": {},
   "outputs": [
    {
     "name": "stdout",
     "output_type": "stream",
     "text": [
      "PAPAN\n"
     ]
    }
   ],
   "source": [
    "print(a)"
   ]
  },
  {
   "cell_type": "code",
   "execution_count": 36,
   "id": "8b4d7ee5-0b0e-4d66-a128-b97e1e39a67c",
   "metadata": {},
   "outputs": [
    {
     "name": "stdout",
     "output_type": "stream",
     "text": [
      "1\n"
     ]
    }
   ],
   "source": [
    "print(1)"
   ]
  },
  {
   "cell_type": "code",
   "execution_count": 39,
   "id": "6055988f-a9cf-4a6f-93ff-6c277f59006e",
   "metadata": {},
   "outputs": [
    {
     "name": "stdout",
     "output_type": "stream",
     "text": [
      "Shiv ji ,Har Har Mahadev\n"
     ]
    }
   ],
   "source": [
    "print(\"Shiv ji ,Har Har Mahadev\")"
   ]
  },
  {
   "cell_type": "code",
   "execution_count": 40,
   "id": "a57f763e-b4ee-47a5-aad8-ff1f4427f6bb",
   "metadata": {},
   "outputs": [
    {
     "name": "stdout",
     "output_type": "stream",
     "text": [
      "72\n"
     ]
    }
   ],
   "source": [
    "a=40\n",
    "b=32\n",
    "c=a+b\n",
    "print(c)"
   ]
  },
  {
   "cell_type": "code",
   "execution_count": 41,
   "id": "6a8233ae-d00a-4afd-9e3c-0c9600232750",
   "metadata": {},
   "outputs": [
    {
     "name": "stdout",
     "output_type": "stream",
     "text": [
      "72\n"
     ]
    }
   ],
   "source": [
    "print(a+b)"
   ]
  },
  {
   "cell_type": "code",
   "execution_count": 42,
   "id": "ed547601-4a5d-4711-b9f0-aeee4d078f4f",
   "metadata": {},
   "outputs": [
    {
     "name": "stdout",
     "output_type": "stream",
     "text": [
      "the value of b : 32\n"
     ]
    }
   ],
   "source": [
    "a=40\n",
    "print(\"the value of b :\",b)"
   ]
  },
  {
   "cell_type": "code",
   "execution_count": 50,
   "id": "6fc4bd71-1ddf-4bc8-9246-3f528f6587e0",
   "metadata": {},
   "outputs": [
    {
     "name": "stdout",
     "output_type": "stream",
     "text": [
      "My first_name is: {} and last_name is: {}\n"
     ]
    }
   ],
   "source": [
    "print(\"My first_name is: {} and last_name is: {}\")"
   ]
  },
  {
   "cell_type": "code",
   "execution_count": 51,
   "id": "34d490db-1b6c-4dad-881e-d2cd6ce40ed1",
   "metadata": {},
   "outputs": [
    {
     "name": "stdout",
     "output_type": "stream",
     "text": [
      "My first_name is :papan and last name is: Mohanty\n"
     ]
    }
   ],
   "source": [
    "print(\"My first_name is :papan and last name is: Mohanty\")"
   ]
  },
  {
   "cell_type": "code",
   "execution_count": 54,
   "id": "500f5667-58cb-449f-ae89-eedc827277a9",
   "metadata": {},
   "outputs": [
    {
     "name": "stdout",
     "output_type": "stream",
     "text": [
      "15 13\n"
     ]
    }
   ],
   "source": [
    "#swapping number\n",
    "a=13\n",
    "b=15\n",
    "a,b=b,a\n",
    "print(a,b)"
   ]
  },
  {
   "cell_type": "code",
   "execution_count": 58,
   "id": "957d22ca-d1c2-423c-b463-a9dc1a90e613",
   "metadata": {},
   "outputs": [
    {
     "data": {
      "text/plain": [
       "'C:\\\\Users\\\\srini\\\\papan'"
      ]
     },
     "execution_count": 58,
     "metadata": {},
     "output_type": "execute_result"
    }
   ],
   "source": [
    "pwd"
   ]
  },
  {
   "cell_type": "code",
   "execution_count": null,
   "id": "90be4760-891e-4d34-b83c-047748702db8",
   "metadata": {},
   "outputs": [],
   "source": []
  }
 ],
 "metadata": {
  "kernelspec": {
   "display_name": "Python 3 (ipykernel)",
   "language": "python",
   "name": "python3"
  },
  "language_info": {
   "codemirror_mode": {
    "name": "ipython",
    "version": 3
   },
   "file_extension": ".py",
   "mimetype": "text/x-python",
   "name": "python",
   "nbconvert_exporter": "python",
   "pygments_lexer": "ipython3",
   "version": "3.11.7"
  }
 },
 "nbformat": 4,
 "nbformat_minor": 5
}
