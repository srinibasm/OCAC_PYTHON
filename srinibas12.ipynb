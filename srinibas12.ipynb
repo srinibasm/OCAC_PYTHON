{
 "cells": [
  {
   "cell_type": "code",
   "execution_count": null,
   "id": "304ecd7d-4aa4-4810-b182-5e2f932f8544",
   "metadata": {},
   "outputs": [],
   "source": [
    "#Tkinter Overview\n",
    "import tkinter as tk\n",
    "\n",
    "#Create the main wndow\n",
    "root = tk.Tk()\n",
    "root.title(\"Simple Tkinter App\")\n",
    "\n",
    "#Create a label widget\n",
    "label = tk.Label(root,text=\"Hello, Tkinter!\")\n",
    "label.pack()\n",
    "\n",
    "#Create a button widget\n",
    "def on_button_click():\n",
    "    label.config(text=\"Button Clicked!\")\n",
    "\n",
    "button = tk.Button(root, text=\"Click Me\", command=on_button_click)\n",
    "button.pack()\n",
    "\n",
    "# Run the application\n",
    "root.mainloop()"
   ]
  },
  {
   "cell_type": "code",
   "execution_count": null,
   "id": "592858a5-58e6-46f6-9212-147a2e23d950",
   "metadata": {},
   "outputs": [],
   "source": [
    "#Creating a Basic Tkinter Application\n",
    "import tkinter as tk\n",
    "\n",
    "# Create the main window\n",
    "root = tk.Tk()\n",
    "root.title(\"Simple Tkinter App\")\n",
    "\n",
    "#Create a label widget\n",
    "label = tk.Label(root,text=\"Hello, Tkinter!\")\n",
    "label.pack()\n",
    "\n",
    "#crate a button widget\n",
    "def on_button_click():\n",
    "    label.config(text=\"Button Clicked!\")\n",
    "\n",
    "button = tk.Button(root, text=\"Click Me\", command=on_button_click)\n",
    "button.pack()"
   ]
  },
  {
   "cell_type": "code",
   "execution_count": null,
   "id": "741b9a9a-3642-45e8-ac35-e1807ba8b428",
   "metadata": {},
   "outputs": [],
   "source": [
    "# Run the application\n",
    "root.mainloop()"
   ]
  },
  {
   "cell_type": "code",
   "execution_count": null,
   "id": "b67b9576-1d9f-4e75-b384-1f63fdef7158",
   "metadata": {},
   "outputs": [],
   "source": [
    "#Event Handling\n",
    "def on_button_click(event):\n",
    "    print(\"Button clicked\")\n",
    "button =tk.Button(root,text=\"Click Me\")\n",
    "button.bind(\"<Button-1>\", on_button_click)\n",
    "button.pack()"
   ]
  },
  {
   "cell_type": "code",
   "execution_count": null,
   "id": "f0a5b6ee-93f2-457d-be91-adb9c9600e91",
   "metadata": {},
   "outputs": [],
   "source": [
    "#A Simple Calculator\n",
    "import tkinter as tk\n",
    "\n",
    "def evaluate_expression(event=None):\n",
    "    try:\n",
    "        result = eval(entry.get())\n",
    "        entry.delete(0, tk.END)\n",
    "        entry.insert(k.END, str(result))\n",
    "    except Exception as e:\n",
    "        entry.delete(0, tk.END)\n",
    "        entry.insert(tk.END, \"Error\")\n",
    "\n",
    "root = tk.Tk()\n",
    "root.title(\"Simple calculator\")\n",
    "\n",
    "entry = tk.Entry(root, width=16, font=('Arial',24), bd=8, insertwidth=4)\n",
    "entry.grid(row=0,column=0, columnspan=4)\n",
    "\n",
    "buttons = [\n",
    "    '7','8','9','/',\n",
    "    '4','5','6','*',\n",
    "    '1','2','3','-',\n",
    "    '0','.','=','+'\n",
    "]\n",
    "row_val = 1\n",
    "col_va = 0\n",
    "\n",
    "for button in buttons:\n",
    "    if button == \"=\":\n",
    "        btn = tk.Button(root,text=button, padx=20,pady=20,command=evaluate_expression)\n",
    "    else:\n",
    "        btn = tk.Button(root,text=button, padx=20,pady=20, command=lambda b=button: entry.insert(tk.END, b))\n",
    "\n",
    "    btn.grid(row=row_val,column=col_val)\n",
    "    col_val += 1\n",
    "    if col_val > 3:\n",
    "        col_val = 0\n",
    "        row_val += 1\n",
    "\n",
    "     root.bind('<Return>',evaluate_expression)\n",
    "     root.mainloop()"
   ]
  },
  {
   "cell_type": "code",
   "execution_count": null,
   "id": "16252710-b984-4b55-9d18-4ea4041d1e29",
   "metadata": {},
   "outputs": [],
   "source": [
    "import tkinter as tk\n",
    "root = tk.Tk() #Create the main window\n",
    "\n",
    "#create and pack a canvas with a specified size\n",
    "canvas = tk.Canvas(root, width=400, height=300)\n",
    "canvas.pack() #Add the canvas to the main window\n",
    "\n",
    "#create a label and pack it below the canvas\n",
    "label = tk.label(root,text=\"Hello, Tkinter!\", font=(\"Helvetica\", 16))\n",
    "label.pact() #Add the label to the main window\n",
    "\n",
    "root.mainloop() # start the Tkinter event loop\n"
   ]
  },
  {
   "cell_type": "code",
   "execution_count": null,
   "id": "832716b5-34c3-487d-b11f-fe8c37703564",
   "metadata": {},
   "outputs": [],
   "source": [
    "#create normal form\n",
    "import tkinter as tk\n",
    "\n",
    "root = tk.Tk() #create the main window\n",
    "frame = tk.Frame(root) #create a frame widget\n",
    "frame.pack() #Add the frame widget to the main window\n",
    "\n",
    "root.mainloop() # start the Tkinter event loop"
   ]
  },
  {
   "cell_type": "code",
   "execution_count": null,
   "id": "e22258ba-3700-4092-8a52-a0e0c649e212",
   "metadata": {},
   "outputs": [],
   "source": [
    "#Create Frame\n",
    "import tkinter as tk\n",
    "\n",
    "root = tk.Tk() #create the main window\n",
    "frame = tk.Frame(root) # create a frame widget\n",
    "frame.pack() #Add the frame widget to the main window\n",
    "\n",
    "label = tk.Label(frame, text=\"Hello, Tkinter!\") \n",
    "label.pack() #Add the label widget to the frome\n",
    "\n",
    "button = tk.Button(frame,text=\"click Me\")\n",
    "button.pack() #Add the button widget to the frame\n",
    "\n",
    "root.mainloop() #start the Tkinter event loop\n",
    "    "
   ]
  },
  {
   "cell_type": "code",
   "execution_count": null,
   "id": "22ce9cba-e1f3-426c-9f14-faa7a88c9523",
   "metadata": {},
   "outputs": [],
   "source": [
    "#Assign Frame size\n",
    "import tkinter as tk\n",
    "\n",
    "root = tk.Tk() #create the main window\n",
    "\n",
    "#Create a frame with a specified size\n",
    "frame = tk.Frame(root,width=500, height=100)\n",
    "frame.pack_propagate(False)\n",
    "frame.pack()\n",
    "\n",
    "#Add a lebel inside the frame\n",
    "label = tk.Label(farme,text=\"Hello, Tkinter!\")\n",
    "label.pack()\n",
    "\n",
    "root.mainloop() # Start the Tkinter event loop"
   ]
  },
  {
   "cell_type": "code",
   "execution_count": null,
   "id": "4690b86d-59d6-4670-8dee-03de035471e7",
   "metadata": {},
   "outputs": [],
   "source": [
    "#Change font and size\n",
    "import tkinter as tk\n",
    "\n",
    "root = tk.Tk() # create the main window\n",
    "\n",
    "#create a frame with a specified size\n",
    "frame = tk.Frame(root, width=500, height=100)\n",
    "frame.pack_propagate(False)\n",
    "frame.pack()\n",
    "\n",
    "root.mainloop()  #Start the Tkinter event loop"
   ]
  },
  {
   "cell_type": "code",
   "execution_count": null,
   "id": "949302aa-b7f1-422c-8e88-a93d92325f8c",
   "metadata": {},
   "outputs": [],
   "source": [
    "import tkinter as tk\n",
    "\n",
    "root = tk.Tk() #create the main window \n",
    "\n",
    "#crate a canvas with a specified size\n",
    "canvas = tk.Canvas(root,width=400, height=300)\n",
    "canvas.pack() #Add the canvas to the main window\n",
    "\n",
    "#Draw a line on the canvas\n",
    "canvas.create_line(0, 0, 200, 100, fill=\"blue\")\n",
    "\n",
    "#Draw a line on the canvas\n",
    "canvas.create_rectangle(50, 50, 150, 150, 150, fill=\"red\")\n",
    "\n",
    "#Draw a oval (ellipse) on the canvas\n",
    "canvas.create_oval(200, 50, 300, 150, fill=\"green\")\n",
    "\n",
    "#Draw text on the canvas \n",
    "canvas.create_text(200, 250, text=\"Hello, Canvas!\", font=(\"Helvetica\", 16))\n",
    "\n",
    "root.mainloop() #start the Tkinter event loop"
   ]
  },
  {
   "cell_type": "code",
   "execution_count": 1,
   "id": "a31ef3ab-93df-49d8-a6be-d78588d40771",
   "metadata": {},
   "outputs": [
    {
     "ename": "IndentationError",
     "evalue": "unexpected indent (4171085573.py, line 25)",
     "output_type": "error",
     "traceback": [
      "\u001b[1;36m  Cell \u001b[1;32mIn[1], line 25\u001b[1;36m\u001b[0m\n\u001b[1;33m    row_val = 1\u001b[0m\n\u001b[1;37m    ^\u001b[0m\n\u001b[1;31mIndentationError\u001b[0m\u001b[1;31m:\u001b[0m unexpected indent\n"
     ]
    }
   ],
   "source": [
    "#Simple Calculator\n",
    "import tkinter as tk\n",
    "\n",
    "def evaluate_expression(event=None):\n",
    "    try:\n",
    "        result = eval(entry.get())\n",
    "        entry.delete(0, tk.END)\n",
    "        entry.insert(tk.END, str(result))\n",
    "    except Exception as e:\n",
    "        entry.delete(0, tk.END)\n",
    "        entry.insert(tk.END, \"ERROR\")\n",
    "\n",
    "root = tk.Tk()\n",
    "root.title(\"Simple Calculator\")\n",
    "\n",
    "entry = tk.Entry(root, width=16, font=('Arial',24),bd=8,insertwidth=4)\n",
    "entry.grid(row=0,column=0, columnspan=4)\n",
    "\n",
    "buttons = [\n",
    "    '7','8','9','/',\n",
    "    '4','5','6','*',\n",
    "    '1','2','3','-',\n",
    "    '0','-','=','+'\n",
    "]\n",
    " row_val = 1\n",
    " col_val = 0\n",
    "for button in buttons:\n",
    "    if button == \"=\":\n",
    "        btn = tk.Button(root, text=button, padx = 20, pady=20, command=evaluate)\n",
    "    else:\n",
    "        btn = tk.Button(root, text=button, padx = 20, pady = 20, command=lambda)\n",
    "\n",
    "    btn.grid(row=row_val, column=col_val)\n",
    "    col_val += 1\n",
    "    if col_val > 3:\n",
    "        col_val =0\n",
    "        row_val += 1\n",
    "\n",
    "root.bind('<Return>',evaluate_expression)\n",
    "root.mainloop()\n",
    "        "
   ]
  },
  {
   "cell_type": "code",
   "execution_count": 4,
   "id": "0949fa8f-30ac-463a-89ad-81b7293f2f31",
   "metadata": {},
   "outputs": [],
   "source": [
    "import tkinter as tk"
   ]
  },
  {
   "cell_type": "code",
   "execution_count": 5,
   "id": "c76f8e67-cfa6-4036-ac85-707fa309305e",
   "metadata": {},
   "outputs": [
    {
     "ename": "NameError",
     "evalue": "name 'root' is not defined",
     "output_type": "error",
     "traceback": [
      "\u001b[1;31m---------------------------------------------------------------------------\u001b[0m",
      "\u001b[1;31mNameError\u001b[0m                                 Traceback (most recent call last)",
      "Cell \u001b[1;32mIn[5], line 3\u001b[0m\n\u001b[0;32m      1\u001b[0m \u001b[38;5;66;03m#Additional Tkinter Widgets\u001b[39;00m\n\u001b[0;32m      2\u001b[0m \u001b[38;5;66;03m#Listbox\u001b[39;00m\n\u001b[1;32m----> 3\u001b[0m listbox \u001b[38;5;241m=\u001b[39m tk\u001b[38;5;241m.\u001b[39mListbox(root)\n\u001b[0;32m      4\u001b[0m listbox\u001b[38;5;241m.\u001b[39mpack()\n\u001b[0;32m      5\u001b[0m listbox\u001b[38;5;241m.\u001b[39minsert(tk\u001b[38;5;241m.\u001b[39mEND, \u001b[38;5;124m\"\u001b[39m\u001b[38;5;124mItem 1\u001b[39m\u001b[38;5;124m\"\u001b[39m)\n",
      "\u001b[1;31mNameError\u001b[0m: name 'root' is not defined"
     ]
    }
   ],
   "source": [
    "#Additional Tkinter Widgets\n",
    "#Listbox\n",
    "listbox = tk.Listbox(root)\n",
    "listbox.pack()\n",
    "listbox.insert(tk.END, \"Item 1\")\n",
    "listbox.insert(tk.END, \"Item 2\")"
   ]
  },
  {
   "cell_type": "code",
   "execution_count": 6,
   "id": "19339304-7fe7-4926-832c-15d3de5f7e3d",
   "metadata": {},
   "outputs": [
    {
     "ename": "NameError",
     "evalue": "name 'root' is not defined",
     "output_type": "error",
     "traceback": [
      "\u001b[1;31m---------------------------------------------------------------------------\u001b[0m",
      "\u001b[1;31mNameError\u001b[0m                                 Traceback (most recent call last)",
      "Cell \u001b[1;32mIn[6], line 2\u001b[0m\n\u001b[0;32m      1\u001b[0m \u001b[38;5;66;03m#Scrollbar\u001b[39;00m\n\u001b[1;32m----> 2\u001b[0m scrollbar \u001b[38;5;241m=\u001b[39m tk\u001b[38;5;241m.\u001b[39mScrollbar(root)\n\u001b[0;32m      3\u001b[0m scrollbar\u001b[38;5;241m.\u001b[39mpack(side\u001b[38;5;241m=\u001b[39mtk\u001b[38;5;241m.\u001b[39mRIGHT, fill\u001b[38;5;241m=\u001b[39mtk\u001b[38;5;241m.\u001b[39mY)\n\u001b[0;32m      5\u001b[0m listbox \u001b[38;5;241m=\u001b[39m tk\u001b[38;5;241m.\u001b[39mListbox(root,yscrollcommand\u001b[38;5;241m=\u001b[39mscrollbar\u001b[38;5;241m.\u001b[39mset)\n",
      "\u001b[1;31mNameError\u001b[0m: name 'root' is not defined"
     ]
    }
   ],
   "source": [
    "#Scrollbar\n",
    "scrollbar = tk.Scrollbar(root)\n",
    "scrollbar.pack(side=tk.RIGHT, fill=tk.Y)\n",
    "\n",
    "listbox = tk.Listbox(root,yscrollcommand=scrollbar.set)\n",
    "listbox.pack(side=tk.LEFT, fill=tk.BOTH)\n",
    "scrollbar.config(command=listbox.yview)"
   ]
  },
  {
   "cell_type": "code",
   "execution_count": 7,
   "id": "069e539a-4ccf-4347-b788-f5ae70aa93f0",
   "metadata": {},
   "outputs": [
    {
     "ename": "RuntimeError",
     "evalue": "Too early to create variable: no default root window",
     "output_type": "error",
     "traceback": [
      "\u001b[1;31m---------------------------------------------------------------------------\u001b[0m",
      "\u001b[1;31mRuntimeError\u001b[0m                              Traceback (most recent call last)",
      "Cell \u001b[1;32mIn[7], line 2\u001b[0m\n\u001b[0;32m      1\u001b[0m \u001b[38;5;66;03m#checkbutton\u001b[39;00m\n\u001b[1;32m----> 2\u001b[0m var \u001b[38;5;241m=\u001b[39m tk\u001b[38;5;241m.\u001b[39mIntVar()\n\u001b[0;32m      3\u001b[0m checkbutton \u001b[38;5;241m=\u001b[39m tk\u001b[38;5;241m.\u001b[39mCheckbutton(root,text\u001b[38;5;241m=\u001b[39m\u001b[38;5;124m\"\u001b[39m\u001b[38;5;124mCheck me\u001b[39m\u001b[38;5;124m\"\u001b[39m, variable\u001b[38;5;241m=\u001b[39mvar)\n\u001b[0;32m      4\u001b[0m checkbutton\u001b[38;5;241m.\u001b[39mpack()\n",
      "File \u001b[1;32m~\\anaconda3\\Lib\\tkinter\\__init__.py:586\u001b[0m, in \u001b[0;36mIntVar.__init__\u001b[1;34m(self, master, value, name)\u001b[0m\n\u001b[0;32m    576\u001b[0m \u001b[38;5;28;01mdef\u001b[39;00m \u001b[38;5;21m__init__\u001b[39m(\u001b[38;5;28mself\u001b[39m, master\u001b[38;5;241m=\u001b[39m\u001b[38;5;28;01mNone\u001b[39;00m, value\u001b[38;5;241m=\u001b[39m\u001b[38;5;28;01mNone\u001b[39;00m, name\u001b[38;5;241m=\u001b[39m\u001b[38;5;28;01mNone\u001b[39;00m):\n\u001b[0;32m    577\u001b[0m \u001b[38;5;250m    \u001b[39m\u001b[38;5;124;03m\"\"\"Construct an integer variable.\u001b[39;00m\n\u001b[0;32m    578\u001b[0m \n\u001b[0;32m    579\u001b[0m \u001b[38;5;124;03m    MASTER can be given as master widget.\u001b[39;00m\n\u001b[1;32m   (...)\u001b[0m\n\u001b[0;32m    584\u001b[0m \u001b[38;5;124;03m    then the existing value is retained.\u001b[39;00m\n\u001b[0;32m    585\u001b[0m \u001b[38;5;124;03m    \"\"\"\u001b[39;00m\n\u001b[1;32m--> 586\u001b[0m     Variable\u001b[38;5;241m.\u001b[39m\u001b[38;5;21m__init__\u001b[39m(\u001b[38;5;28mself\u001b[39m, master, value, name)\n",
      "File \u001b[1;32m~\\anaconda3\\Lib\\tkinter\\__init__.py:393\u001b[0m, in \u001b[0;36mVariable.__init__\u001b[1;34m(self, master, value, name)\u001b[0m\n\u001b[0;32m    391\u001b[0m \u001b[38;5;28;01mglobal\u001b[39;00m _varnum\n\u001b[0;32m    392\u001b[0m \u001b[38;5;28;01mif\u001b[39;00m master \u001b[38;5;129;01mis\u001b[39;00m \u001b[38;5;28;01mNone\u001b[39;00m:\n\u001b[1;32m--> 393\u001b[0m     master \u001b[38;5;241m=\u001b[39m _get_default_root(\u001b[38;5;124m'\u001b[39m\u001b[38;5;124mcreate variable\u001b[39m\u001b[38;5;124m'\u001b[39m)\n\u001b[0;32m    394\u001b[0m \u001b[38;5;28mself\u001b[39m\u001b[38;5;241m.\u001b[39m_root \u001b[38;5;241m=\u001b[39m master\u001b[38;5;241m.\u001b[39m_root()\n\u001b[0;32m    395\u001b[0m \u001b[38;5;28mself\u001b[39m\u001b[38;5;241m.\u001b[39m_tk \u001b[38;5;241m=\u001b[39m master\u001b[38;5;241m.\u001b[39mtk\n",
      "File \u001b[1;32m~\\anaconda3\\Lib\\tkinter\\__init__.py:319\u001b[0m, in \u001b[0;36m_get_default_root\u001b[1;34m(what)\u001b[0m\n\u001b[0;32m    317\u001b[0m \u001b[38;5;28;01mif\u001b[39;00m _default_root \u001b[38;5;129;01mis\u001b[39;00m \u001b[38;5;28;01mNone\u001b[39;00m:\n\u001b[0;32m    318\u001b[0m     \u001b[38;5;28;01mif\u001b[39;00m what:\n\u001b[1;32m--> 319\u001b[0m         \u001b[38;5;28;01mraise\u001b[39;00m \u001b[38;5;167;01mRuntimeError\u001b[39;00m(\u001b[38;5;124mf\u001b[39m\u001b[38;5;124m\"\u001b[39m\u001b[38;5;124mToo early to \u001b[39m\u001b[38;5;132;01m{\u001b[39;00mwhat\u001b[38;5;132;01m}\u001b[39;00m\u001b[38;5;124m: no default root window\u001b[39m\u001b[38;5;124m\"\u001b[39m)\n\u001b[0;32m    320\u001b[0m     root \u001b[38;5;241m=\u001b[39m Tk()\n\u001b[0;32m    321\u001b[0m     \u001b[38;5;28;01massert\u001b[39;00m _default_root \u001b[38;5;129;01mis\u001b[39;00m root\n",
      "\u001b[1;31mRuntimeError\u001b[0m: Too early to create variable: no default root window"
     ]
    }
   ],
   "source": [
    "#checkbutton\n",
    "var = tk.IntVar()\n",
    "checkbutton = tk.Checkbutton(root,text=\"Check me\", variable=var)\n",
    "checkbutton.pack()"
   ]
  },
  {
   "cell_type": "code",
   "execution_count": 9,
   "id": "3fb048c1-71a1-4ffc-9143-7cb4ab788bfa",
   "metadata": {},
   "outputs": [
    {
     "ename": "RuntimeError",
     "evalue": "Too early to create variable: no default root window",
     "output_type": "error",
     "traceback": [
      "\u001b[1;31m---------------------------------------------------------------------------\u001b[0m",
      "\u001b[1;31mRuntimeError\u001b[0m                              Traceback (most recent call last)",
      "Cell \u001b[1;32mIn[9], line 2\u001b[0m\n\u001b[0;32m      1\u001b[0m \u001b[38;5;66;03m#Radiobutton\u001b[39;00m\n\u001b[1;32m----> 2\u001b[0m var \u001b[38;5;241m=\u001b[39m tk\u001b[38;5;241m.\u001b[39mIntVar()\n\u001b[0;32m      3\u001b[0m radiobutton1 \u001b[38;5;241m=\u001b[39m tk\u001b[38;5;241m.\u001b[39mRadiobutton(root,text\u001b[38;5;241m=\u001b[39m\u001b[38;5;124m\"\u001b[39m\u001b[38;5;124mOption 1\u001b[39m\u001b[38;5;124m\"\u001b[39m, variable\u001b[38;5;241m=\u001b[39m var, value\u001b[38;5;241m=\u001b[39m\u001b[38;5;241m1\u001b[39m)\n\u001b[0;32m      4\u001b[0m radiobutton2 \u001b[38;5;241m=\u001b[39m tk\u001b[38;5;241m.\u001b[39mRadiobutton(root,text\u001b[38;5;241m=\u001b[39m\u001b[38;5;124m\"\u001b[39m\u001b[38;5;124mOption 2\u001b[39m\u001b[38;5;124m\"\u001b[39m, variable\u001b[38;5;241m=\u001b[39m var, value\u001b[38;5;241m=\u001b[39m\u001b[38;5;241m2\u001b[39m)\n",
      "File \u001b[1;32m~\\anaconda3\\Lib\\tkinter\\__init__.py:586\u001b[0m, in \u001b[0;36mIntVar.__init__\u001b[1;34m(self, master, value, name)\u001b[0m\n\u001b[0;32m    576\u001b[0m \u001b[38;5;28;01mdef\u001b[39;00m \u001b[38;5;21m__init__\u001b[39m(\u001b[38;5;28mself\u001b[39m, master\u001b[38;5;241m=\u001b[39m\u001b[38;5;28;01mNone\u001b[39;00m, value\u001b[38;5;241m=\u001b[39m\u001b[38;5;28;01mNone\u001b[39;00m, name\u001b[38;5;241m=\u001b[39m\u001b[38;5;28;01mNone\u001b[39;00m):\n\u001b[0;32m    577\u001b[0m \u001b[38;5;250m    \u001b[39m\u001b[38;5;124;03m\"\"\"Construct an integer variable.\u001b[39;00m\n\u001b[0;32m    578\u001b[0m \n\u001b[0;32m    579\u001b[0m \u001b[38;5;124;03m    MASTER can be given as master widget.\u001b[39;00m\n\u001b[1;32m   (...)\u001b[0m\n\u001b[0;32m    584\u001b[0m \u001b[38;5;124;03m    then the existing value is retained.\u001b[39;00m\n\u001b[0;32m    585\u001b[0m \u001b[38;5;124;03m    \"\"\"\u001b[39;00m\n\u001b[1;32m--> 586\u001b[0m     Variable\u001b[38;5;241m.\u001b[39m\u001b[38;5;21m__init__\u001b[39m(\u001b[38;5;28mself\u001b[39m, master, value, name)\n",
      "File \u001b[1;32m~\\anaconda3\\Lib\\tkinter\\__init__.py:393\u001b[0m, in \u001b[0;36mVariable.__init__\u001b[1;34m(self, master, value, name)\u001b[0m\n\u001b[0;32m    391\u001b[0m \u001b[38;5;28;01mglobal\u001b[39;00m _varnum\n\u001b[0;32m    392\u001b[0m \u001b[38;5;28;01mif\u001b[39;00m master \u001b[38;5;129;01mis\u001b[39;00m \u001b[38;5;28;01mNone\u001b[39;00m:\n\u001b[1;32m--> 393\u001b[0m     master \u001b[38;5;241m=\u001b[39m _get_default_root(\u001b[38;5;124m'\u001b[39m\u001b[38;5;124mcreate variable\u001b[39m\u001b[38;5;124m'\u001b[39m)\n\u001b[0;32m    394\u001b[0m \u001b[38;5;28mself\u001b[39m\u001b[38;5;241m.\u001b[39m_root \u001b[38;5;241m=\u001b[39m master\u001b[38;5;241m.\u001b[39m_root()\n\u001b[0;32m    395\u001b[0m \u001b[38;5;28mself\u001b[39m\u001b[38;5;241m.\u001b[39m_tk \u001b[38;5;241m=\u001b[39m master\u001b[38;5;241m.\u001b[39mtk\n",
      "File \u001b[1;32m~\\anaconda3\\Lib\\tkinter\\__init__.py:319\u001b[0m, in \u001b[0;36m_get_default_root\u001b[1;34m(what)\u001b[0m\n\u001b[0;32m    317\u001b[0m \u001b[38;5;28;01mif\u001b[39;00m _default_root \u001b[38;5;129;01mis\u001b[39;00m \u001b[38;5;28;01mNone\u001b[39;00m:\n\u001b[0;32m    318\u001b[0m     \u001b[38;5;28;01mif\u001b[39;00m what:\n\u001b[1;32m--> 319\u001b[0m         \u001b[38;5;28;01mraise\u001b[39;00m \u001b[38;5;167;01mRuntimeError\u001b[39;00m(\u001b[38;5;124mf\u001b[39m\u001b[38;5;124m\"\u001b[39m\u001b[38;5;124mToo early to \u001b[39m\u001b[38;5;132;01m{\u001b[39;00mwhat\u001b[38;5;132;01m}\u001b[39;00m\u001b[38;5;124m: no default root window\u001b[39m\u001b[38;5;124m\"\u001b[39m)\n\u001b[0;32m    320\u001b[0m     root \u001b[38;5;241m=\u001b[39m Tk()\n\u001b[0;32m    321\u001b[0m     \u001b[38;5;28;01massert\u001b[39;00m _default_root \u001b[38;5;129;01mis\u001b[39;00m root\n",
      "\u001b[1;31mRuntimeError\u001b[0m: Too early to create variable: no default root window"
     ]
    }
   ],
   "source": [
    "#Radiobutton\n",
    "var = tk.IntVar()\n",
    "radiobutton1 = tk.Radiobutton(root,text=\"Option 1\", variable= var, value=1)\n",
    "radiobutton2 = tk.Radiobutton(root,text=\"Option 2\", variable= var, value=2)\n",
    "checkbutton.pack()"
   ]
  },
  {
   "cell_type": "code",
   "execution_count": 10,
   "id": "566048cc-f7f2-4d7a-87db-387e1dd0613b",
   "metadata": {},
   "outputs": [
    {
     "ename": "NameError",
     "evalue": "name 'root' is not defined",
     "output_type": "error",
     "traceback": [
      "\u001b[1;31m---------------------------------------------------------------------------\u001b[0m",
      "\u001b[1;31mNameError\u001b[0m                                 Traceback (most recent call last)",
      "Cell \u001b[1;32mIn[10], line 2\u001b[0m\n\u001b[0;32m      1\u001b[0m \u001b[38;5;66;03m#scale\u001b[39;00m\n\u001b[1;32m----> 2\u001b[0m scale \u001b[38;5;241m=\u001b[39m tk\u001b[38;5;241m.\u001b[39mScale(root,from_\u001b[38;5;241m=\u001b[39m\u001b[38;5;241m0\u001b[39m, to\u001b[38;5;241m=\u001b[39m\u001b[38;5;241m100\u001b[39m, orient\u001b[38;5;241m=\u001b[39mtk\u001b[38;5;241m.\u001b[39mHORIZONTAL)\n\u001b[0;32m      3\u001b[0m scale\u001b[38;5;241m.\u001b[39mpack()\n",
      "\u001b[1;31mNameError\u001b[0m: name 'root' is not defined"
     ]
    }
   ],
   "source": [
    "#scale\n",
    "scale = tk.Scale(root,from_=0, to=100, orient=tk.HORIZONTAL)\n",
    "scale.pack()"
   ]
  },
  {
   "cell_type": "code",
   "execution_count": 11,
   "id": "01365864-4ecb-4571-8593-67385ead9fef",
   "metadata": {},
   "outputs": [
    {
     "ename": "NameError",
     "evalue": "name 'root' is not defined",
     "output_type": "error",
     "traceback": [
      "\u001b[1;31m---------------------------------------------------------------------------\u001b[0m",
      "\u001b[1;31mNameError\u001b[0m                                 Traceback (most recent call last)",
      "Cell \u001b[1;32mIn[11], line 2\u001b[0m\n\u001b[0;32m      1\u001b[0m \u001b[38;5;66;03m#Spinbox\u001b[39;00m\n\u001b[1;32m----> 2\u001b[0m spinbox\u001b[38;5;241m=\u001b[39m tk\u001b[38;5;241m.\u001b[39mSpinbox(root, from_\u001b[38;5;241m=\u001b[39m\u001b[38;5;241m0\u001b[39m, to\u001b[38;5;241m=\u001b[39m\u001b[38;5;241m10\u001b[39m)\n\u001b[0;32m      3\u001b[0m spinbox\u001b[38;5;241m.\u001b[39mpack()\n",
      "\u001b[1;31mNameError\u001b[0m: name 'root' is not defined"
     ]
    }
   ],
   "source": [
    "#Spinbox\n",
    "spinbox= tk.Spinbox(root, from_=0, to=10)\n",
    "spinbox.pack()"
   ]
  },
  {
   "cell_type": "code",
   "execution_count": 12,
   "id": "c829b6ae-ad14-44a0-b9e1-5b02dd7ff295",
   "metadata": {},
   "outputs": [
    {
     "ename": "NameError",
     "evalue": "name 'root' is not defined",
     "output_type": "error",
     "traceback": [
      "\u001b[1;31m---------------------------------------------------------------------------\u001b[0m",
      "\u001b[1;31mNameError\u001b[0m                                 Traceback (most recent call last)",
      "Cell \u001b[1;32mIn[12], line 2\u001b[0m\n\u001b[0;32m      1\u001b[0m \u001b[38;5;66;03m#panedWindow\u001b[39;00m\n\u001b[1;32m----> 2\u001b[0m panedwindow \u001b[38;5;241m=\u001b[39m tk\u001b[38;5;241m.\u001b[39mPanedWindow(root)\n\u001b[0;32m      3\u001b[0m panedwindow\u001b[38;5;241m.\u001b[39mpack(fill\u001b[38;5;241m=\u001b[39mtk\u001b[38;5;241m.\u001b[39mBOTH,expand\u001b[38;5;241m=\u001b[39m\u001b[38;5;241m1\u001b[39m)\n\u001b[0;32m      5\u001b[0m left\u001b[38;5;241m=\u001b[39m tk\u001b[38;5;241m.\u001b[39mLabel(panedwindow, text\u001b[38;5;241m=\u001b[39m\u001b[38;5;124m\"\u001b[39m\u001b[38;5;124mLeft pane\u001b[39m\u001b[38;5;124m\"\u001b[39m)\n",
      "\u001b[1;31mNameError\u001b[0m: name 'root' is not defined"
     ]
    }
   ],
   "source": [
    "#panedWindow\n",
    "panedwindow = tk.PanedWindow(root)\n",
    "panedwindow.pack(fill=tk.BOTH,expand=1)\n",
    "\n",
    "left= tk.Label(panedwindow, text=\"Left pane\")\n",
    "panedwindow.add(left)\n",
    "\n",
    "right = tk.Label(panedwindow, text=\"Right pane\")\n",
    "panedwindow.add(right)"
   ]
  },
  {
   "cell_type": "code",
   "execution_count": 13,
   "id": "d7bd6f89-d8d3-40f6-b428-a2dfee08c7ef",
   "metadata": {},
   "outputs": [
    {
     "ename": "NameError",
     "evalue": "name 'root' is not defined",
     "output_type": "error",
     "traceback": [
      "\u001b[1;31m---------------------------------------------------------------------------\u001b[0m",
      "\u001b[1;31mNameError\u001b[0m                                 Traceback (most recent call last)",
      "Cell \u001b[1;32mIn[13], line 2\u001b[0m\n\u001b[0;32m      1\u001b[0m \u001b[38;5;66;03m#message\u001b[39;00m\n\u001b[1;32m----> 2\u001b[0m message \u001b[38;5;241m=\u001b[39m tk\u001b[38;5;241m.\u001b[39mMessage(root, text\u001b[38;5;241m=\u001b[39m\u001b[38;5;124m\"\u001b[39m\u001b[38;5;124mThis is a message widget\u001b[39m\u001b[38;5;124m\"\u001b[39m)\n\u001b[0;32m      3\u001b[0m message\u001b[38;5;241m.\u001b[39mpack()\n",
      "\u001b[1;31mNameError\u001b[0m: name 'root' is not defined"
     ]
    }
   ],
   "source": [
    "#message\n",
    "message = tk.Message(root, text=\"This is a message widget\")\n",
    "message.pack()\n"
   ]
  },
  {
   "cell_type": "code",
   "execution_count": 14,
   "id": "db064fcb-46d7-4dc5-9fbd-e9246909cd95",
   "metadata": {},
   "outputs": [
    {
     "ename": "SyntaxError",
     "evalue": "unterminated string literal (detected at line 3) (4262346657.py, line 3)",
     "output_type": "error",
     "traceback": [
      "\u001b[1;36m  Cell \u001b[1;32mIn[14], line 3\u001b[1;36m\u001b[0m\n\u001b[1;33m    toplevel.title(\"New Window)\u001b[0m\n\u001b[1;37m                   ^\u001b[0m\n\u001b[1;31mSyntaxError\u001b[0m\u001b[1;31m:\u001b[0m unterminated string literal (detected at line 3)\n"
     ]
    }
   ],
   "source": [
    "#Toplevel\n",
    "toplevel = tk.Toplevel(root)\n",
    "toplevel.title(\"New Window)\n",
    "level = tk.Label(toplevel, text=\"This is a new window\")\n",
    "label.pack()"
   ]
  },
  {
   "cell_type": "code",
   "execution_count": 15,
   "id": "70a2b782-6080-4b21-92ff-db83cfe77e7b",
   "metadata": {},
   "outputs": [
    {
     "ename": "NameError",
     "evalue": "name 'root' is not defined",
     "output_type": "error",
     "traceback": [
      "\u001b[1;31m---------------------------------------------------------------------------\u001b[0m",
      "\u001b[1;31mNameError\u001b[0m                                 Traceback (most recent call last)",
      "Cell \u001b[1;32mIn[15], line 2\u001b[0m\n\u001b[0;32m      1\u001b[0m \u001b[38;5;66;03m#option menu\u001b[39;00m\n\u001b[1;32m----> 2\u001b[0m var  \u001b[38;5;241m=\u001b[39m tk\u001b[38;5;241m.\u001b[39mStringVar(root)\n\u001b[0;32m      3\u001b[0m var\u001b[38;5;241m.\u001b[39mset(\u001b[38;5;124m\"\u001b[39m\u001b[38;5;124mOption 1\u001b[39m\u001b[38;5;124m\"\u001b[39m) \u001b[38;5;66;03m#default value\u001b[39;00m\n\u001b[0;32m      5\u001b[0m optionmenu \u001b[38;5;241m=\u001b[39m tk\u001b[38;5;241m.\u001b[39mOptionMenu(root, var, \u001b[38;5;124m\"\u001b[39m\u001b[38;5;124mOption 1\u001b[39m\u001b[38;5;124m\"\u001b[39m, \u001b[38;5;124m\"\u001b[39m\u001b[38;5;124mOption 2\u001b[39m\u001b[38;5;124m\"\u001b[39m, \u001b[38;5;124m\"\u001b[39m\u001b[38;5;124mOption 3\u001b[39m\u001b[38;5;124m\"\u001b[39m)\n",
      "\u001b[1;31mNameError\u001b[0m: name 'root' is not defined"
     ]
    }
   ],
   "source": [
    "#option menu\n",
    "var  = tk.StringVar(root)\n",
    "var.set(\"Option 1\") #default value\n",
    "\n",
    "optionmenu = tk.OptionMenu(root, var, \"Option 1\", \"Option 2\", \"Option 3\")\n",
    "optionmenu.pack()"
   ]
  },
  {
   "cell_type": "code",
   "execution_count": 16,
   "id": "0497a870-6a64-4351-b324-8eede47c5d49",
   "metadata": {},
   "outputs": [
    {
     "ename": "NameError",
     "evalue": "name 'root' is not defined",
     "output_type": "error",
     "traceback": [
      "\u001b[1;31m---------------------------------------------------------------------------\u001b[0m",
      "\u001b[1;31mNameError\u001b[0m                                 Traceback (most recent call last)",
      "Cell \u001b[1;32mIn[16], line 4\u001b[0m\n\u001b[0;32m      1\u001b[0m \u001b[38;5;66;03m#Additional Options and Features\u001b[39;00m\n\u001b[0;32m      2\u001b[0m \u001b[38;5;66;03m#Combobox\u001b[39;00m\n\u001b[0;32m      3\u001b[0m \u001b[38;5;28;01mfrom\u001b[39;00m \u001b[38;5;21;01mtkinter\u001b[39;00m \u001b[38;5;28;01mimport\u001b[39;00m ttk\n\u001b[1;32m----> 4\u001b[0m combobox \u001b[38;5;241m=\u001b[39m ttk\u001b[38;5;241m.\u001b[39mCombobox(root,value \u001b[38;5;241m=\u001b[39m [\u001b[38;5;124m\"\u001b[39m\u001b[38;5;124mOption 1\u001b[39m\u001b[38;5;124m\"\u001b[39m, \u001b[38;5;124m\"\u001b[39m\u001b[38;5;124mOption 2\u001b[39m\u001b[38;5;124m\"\u001b[39m, \u001b[38;5;124m\"\u001b[39m\u001b[38;5;124mOption 3\u001b[39m\u001b[38;5;124m\"\u001b[39m])\n\u001b[0;32m      5\u001b[0m combobox\u001b[38;5;241m.\u001b[39mpack()\n",
      "\u001b[1;31mNameError\u001b[0m: name 'root' is not defined"
     ]
    }
   ],
   "source": [
    "#Additional Options and Features\n",
    "#Combobox\n",
    "from tkinter import ttk\n",
    "combobox = ttk.Combobox(root,value = [\"Option 1\", \"Option 2\", \"Option 3\"])\n",
    "combobox.pack()"
   ]
  },
  {
   "cell_type": "code",
   "execution_count": 17,
   "id": "8fc1a911-2090-4024-a068-eefafb53606f",
   "metadata": {},
   "outputs": [
    {
     "ename": "NameError",
     "evalue": "name 'root' is not defined",
     "output_type": "error",
     "traceback": [
      "\u001b[1;31m---------------------------------------------------------------------------\u001b[0m",
      "\u001b[1;31mNameError\u001b[0m                                 Traceback (most recent call last)",
      "Cell \u001b[1;32mIn[17], line 2\u001b[0m\n\u001b[0;32m      1\u001b[0m \u001b[38;5;66;03m#Notebook\u001b[39;00m\n\u001b[1;32m----> 2\u001b[0m notebook \u001b[38;5;241m=\u001b[39m ttk\u001b[38;5;241m.\u001b[39mNotebook(root)\n\u001b[0;32m      3\u001b[0m frame1 \u001b[38;5;241m=\u001b[39m ttk\u001b[38;5;241m.\u001b[39mFrame(notebook)\n\u001b[0;32m      4\u001b[0m frame2 \u001b[38;5;241m=\u001b[39m ttk\u001b[38;5;241m.\u001b[39mFrame(notebook)\n",
      "\u001b[1;31mNameError\u001b[0m: name 'root' is not defined"
     ]
    }
   ],
   "source": [
    "#Notebook\n",
    "notebook = ttk.Notebook(root)\n",
    "frame1 = ttk.Frame(notebook)\n",
    "frame2 = ttk.Frame(notebook)\n",
    "notebook.add(frame1, text=\"Tab 1\")\n",
    "notebook.add(frame2, text=\"Tab 2\")\n",
    "notebook.pack()"
   ]
  },
  {
   "cell_type": "code",
   "execution_count": 18,
   "id": "9b6656a4-2cb3-43c0-b939-8f355f3f2ab7",
   "metadata": {},
   "outputs": [
    {
     "ename": "NameError",
     "evalue": "name 'root' is not defined",
     "output_type": "error",
     "traceback": [
      "\u001b[1;31m---------------------------------------------------------------------------\u001b[0m",
      "\u001b[1;31mNameError\u001b[0m                                 Traceback (most recent call last)",
      "Cell \u001b[1;32mIn[18], line 2\u001b[0m\n\u001b[0;32m      1\u001b[0m \u001b[38;5;66;03m#progressbar\u001b[39;00m\n\u001b[1;32m----> 2\u001b[0m progressbar \u001b[38;5;241m=\u001b[39m ttk\u001b[38;5;241m.\u001b[39mProgressbar(root, orient\u001b[38;5;241m=\u001b[39m\u001b[38;5;124m\"\u001b[39m\u001b[38;5;124mhorizontal\u001b[39m\u001b[38;5;124m\"\u001b[39m,length\u001b[38;5;241m=\u001b[39m\u001b[38;5;241m200\u001b[39m, mode\u001b[38;5;241m=\u001b[39m\u001b[38;5;124m\"\u001b[39m\u001b[38;5;124mdeterminate\u001b[39m\u001b[38;5;124m\"\u001b[39m)\n\u001b[0;32m      3\u001b[0m progressbar\u001b[38;5;241m.\u001b[39mpack()\n\u001b[0;32m      4\u001b[0m progressbar\u001b[38;5;241m.\u001b[39mstart()\n",
      "\u001b[1;31mNameError\u001b[0m: name 'root' is not defined"
     ]
    }
   ],
   "source": [
    "#progressbar\n",
    "progressbar = ttk.Progressbar(root, orient=\"horizontal\",length=200, mode=\"determinate\")\n",
    "progressbar.pack()\n",
    "progressbar.start()"
   ]
  },
  {
   "cell_type": "code",
   "execution_count": 19,
   "id": "5dbd76a3-5071-4305-8770-7750d348edf1",
   "metadata": {},
   "outputs": [
    {
     "ename": "NameError",
     "evalue": "name 'root' is not defined",
     "output_type": "error",
     "traceback": [
      "\u001b[1;31m---------------------------------------------------------------------------\u001b[0m",
      "\u001b[1;31mNameError\u001b[0m                                 Traceback (most recent call last)",
      "Cell \u001b[1;32mIn[19], line 2\u001b[0m\n\u001b[0;32m      1\u001b[0m \u001b[38;5;66;03m#Treeview\u001b[39;00m\n\u001b[1;32m----> 2\u001b[0m treeview \u001b[38;5;241m=\u001b[39m ttk\u001b[38;5;241m.\u001b[39mTreeview(root)\n\u001b[0;32m      3\u001b[0m treeview\u001b[38;5;241m.\u001b[39mpack()\n\u001b[0;32m      4\u001b[0m treeview\u001b[38;5;241m.\u001b[39minsert(\u001b[38;5;124m\"\u001b[39m\u001b[38;5;124m\"\u001b[39m,\u001b[38;5;124m\"\u001b[39m\u001b[38;5;124mend\u001b[39m\u001b[38;5;124m\"\u001b[39m,\u001b[38;5;124m\"\u001b[39m\u001b[38;5;124mitem1\u001b[39m\u001b[38;5;124m\"\u001b[39m, text\u001b[38;5;241m=\u001b[39m\u001b[38;5;124m\"\u001b[39m\u001b[38;5;124mItem 1\u001b[39m\u001b[38;5;124m\"\u001b[39m)\n",
      "\u001b[1;31mNameError\u001b[0m: name 'root' is not defined"
     ]
    }
   ],
   "source": [
    "#Treeview\n",
    "treeview = ttk.Treeview(root)\n",
    "treeview.pack()\n",
    "treeview.insert(\"\",\"end\",\"item1\", text=\"Item 1\")\n",
    "treeview.insert(\"item1\", \"end\",\"subitem1\",text=\"Sub Item 1\")\n"
   ]
  },
  {
   "cell_type": "code",
   "execution_count": 20,
   "id": "08d8ba0e-7728-44ed-afa4-665c56ab5d2b",
   "metadata": {},
   "outputs": [
    {
     "ename": "NameError",
     "evalue": "name 'root' is not defined",
     "output_type": "error",
     "traceback": [
      "\u001b[1;31m---------------------------------------------------------------------------\u001b[0m",
      "\u001b[1;31mNameError\u001b[0m                                 Traceback (most recent call last)",
      "Cell \u001b[1;32mIn[20], line 4\u001b[0m\n\u001b[0;32m      2\u001b[0m style \u001b[38;5;241m=\u001b[39m ttk\u001b[38;5;241m.\u001b[39mStyle()\n\u001b[0;32m      3\u001b[0m style\u001b[38;5;241m.\u001b[39mconfigure(\u001b[38;5;124m\"\u001b[39m\u001b[38;5;124mTButton\u001b[39m\u001b[38;5;124m\"\u001b[39m, foreground\u001b[38;5;241m=\u001b[39m\u001b[38;5;124m\"\u001b[39m\u001b[38;5;124mblue\u001b[39m\u001b[38;5;124m\"\u001b[39m, font\u001b[38;5;241m=\u001b[39m(\u001b[38;5;124m\"\u001b[39m\u001b[38;5;124mHelvetica\u001b[39m\u001b[38;5;124m\"\u001b[39m,\u001b[38;5;241m12\u001b[39m))\n\u001b[1;32m----> 4\u001b[0m button  \u001b[38;5;241m=\u001b[39m ttk\u001b[38;5;241m.\u001b[39mButton(root,text\u001b[38;5;241m=\u001b[39m\u001b[38;5;124m\"\u001b[39m\u001b[38;5;124mStyled Button\u001b[39m\u001b[38;5;124m\"\u001b[39m)\n\u001b[0;32m      5\u001b[0m button\u001b[38;5;241m.\u001b[39mpack()\n",
      "\u001b[1;31mNameError\u001b[0m: name 'root' is not defined"
     ]
    }
   ],
   "source": [
    "#Themes and Styling(ttk module)\n",
    "style = ttk.Style()\n",
    "style.configure(\"TButton\", foreground=\"blue\", font=(\"Helvetica\",12))\n",
    "button  = ttk.Button(root,text=\"Styled Button\")\n",
    "button.pack()"
   ]
  },
  {
   "cell_type": "code",
   "execution_count": null,
   "id": "cc72fa72-fc8b-415b-8a61-a1353ac1a497",
   "metadata": {},
   "outputs": [],
   "source": [
    "#Messagebox\n",
    "from tkinter import messagebox\n",
    "messagebox.showinfo(\"Information\",\"This is an info message\")\n",
    "#File Dialog\n",
    "from tkinter import filedialog\n",
    "filename = filedlog.askopenfilename(title=\"Select a file\")"
   ]
  },
  {
   "cell_type": "code",
   "execution_count": null,
   "id": "92ed8bfe-a22b-4271-a49b-0bd5bf41c9ad",
   "metadata": {},
   "outputs": [],
   "source": [
    "#Example of Advanced Application\n",
    "import tkinter as tk\n",
    "from tkinter import ttk\n",
    "from tkinter import messagebox, filedialog,colorchooser\n",
    "\n",
    "def on_open_file():\n",
    "    file_path = filedialog.askopenfilename()\n",
    "    if file_path:\n",
    "        with open(file_path, 'r') as file:\n",
    "            content = file.read()\n",
    "        text_area.delete(1.0, tk.END)\n",
    "        text_area.insert(tk.END, content)\n",
    "\n",
    "def on_save_file():\n",
    "    file_path = filedialog.asksaveasfilename(defaultextension=\".txt\")\n",
    "    if file_path:\n",
    "        with open(file_path, 'w') as file:\n",
    "            content = text_area.get(1.0,tk.END)\n",
    "            file.write(content)\n",
    "\n",
    "def on_change_color():\n",
    "    color = colorchooser.askcolor()[1]\n",
    "    if color:\n",
    "        text_area.config(fg=color)\n",
    "\n",
    "def on_show_about():\n",
    "    messagebox.showinfo(\"About\",\"This is an advanced Tkinter application extension\")\n",
    "\n",
    "root = tk.Tk()\n",
    "root.title(\"Advanced Tkinter App\")\n",
    "\n",
    "menubar = tk.Menu(root)\n",
    "file_menu = tk.Menu(menubar, tearoff =0)\n",
    "file_menu.add_command(label=\"Open\",command=on_open_file)\n",
    "file_menu.add_command(label=\"Save\",command=on_save_file)\n",
    "file_menu.add_separator()\n",
    "file_menu.add_command(label=\"Exit\",command=root.quit)\n",
    "menubar.add_cascade(label=\"File\",menu=file_menu)\n",
    "\n",
    "edit_menu = tk.Menu(menubar, teraoff=0)\n",
    "edit_menu.add_command(label=\"Change Text Color\", command=on_change_color)\n",
    "menubar.add_cascade(label=\"Help\",menu=help_menu)\n",
    "\n",
    "root.config(menu=menubar)\n",
    "\n",
    "text_area = tk.Text(root, wrap=tk.WORD)\n",
    "text_area.pack(expand=1, fill=tk.BOTH)\n",
    "\n",
    "root.mainloop()"
   ]
  },
  {
   "cell_type": "code",
   "execution_count": 3,
   "id": "88bc3562-3f79-41bb-bbeb-0f2bf20ec8ca",
   "metadata": {},
   "outputs": [
    {
     "ename": "SyntaxError",
     "evalue": "invalid decimal literal (3522778444.py, line 123)",
     "output_type": "error",
     "traceback": [
      "\u001b[1;36m  Cell \u001b[1;32mIn[3], line 123\u001b[1;36m\u001b[0m\n\u001b[1;33m    dot.grid(row=4.sticky=\"w\",padx=185,pady=10)\u001b[0m\n\u001b[1;37m                  ^\u001b[0m\n\u001b[1;31mSyntaxError\u001b[0m\u001b[1;31m:\u001b[0m invalid decimal literal\n"
     ]
    }
   ],
   "source": [
    "#Importing tkinter library\n",
    "import tkinter as tk\n",
    "from tkinter import *\n",
    "\n",
    "#create GUI window\n",
    "root = tk.Tk()\n",
    "\n",
    "#set the configuration of the GUI window\n",
    "root.geometry(\"300x400\")\n",
    "root.maxsize(380,400)\n",
    "root.minsize(380,400)\n",
    "root.configure(bg='blue')\n",
    "\n",
    "#set the title to the GUI window\n",
    "root.title(\"OCAC_Calculator\")\n",
    "\n",
    "#Entry widgets to show calculations\n",
    "inp = Entry(root,width=35,borderwidth=10,relief=RIDGE)\n",
    "inp.grid(pady=20,row=0,sticky=\"w\",padx=15)\n",
    "\n",
    "# Button Operation code starts here.\n",
    "# functions declared for each operation\n",
    "def nine():\n",
    "    inp.insert(\"end\",\"9\")\n",
    "def eight():\n",
    "    inp.insert(\"end\",\"8\")\n",
    "def seven():\n",
    "    inp.insert(\"end\",\"7\")\n",
    "def six():\n",
    "    inp.insert(\"end\",\"6\")\n",
    "def five():\n",
    "    inp.insert(\"end\",\"5\")\n",
    "def four():\n",
    "    inp.insert(\"end\",\"4\")\n",
    "def three():\n",
    "    inp.insert(\"end\",\"3\")\n",
    "def two():\n",
    "    inp.insert(\"end\",\"2\")\n",
    "def one():\n",
    "    inp.insert(\"end\",\"1\")\n",
    "def zero():\n",
    "    inp.insert(\"end\",\"0\")\n",
    "def double_zero():\n",
    "    inp.insert(\"end\",\"00\")\n",
    "def dot():\n",
    "    inp.insert(\"end\",\".\")\n",
    "def plus():\n",
    "    inp.insert(\"end\",\"+\")\n",
    "def minus():\n",
    "    inp.insert(\"end\",\"-\")\n",
    "def mul():\n",
    "    inp.insert(\"end\",\"*\")\n",
    "def divide():\n",
    "    inp.insert(\"end\",\"/\")\n",
    "def modulus():\n",
    "    inp.insert(\"end\",\"%\")\n",
    "\n",
    "def result():\n",
    "    if inp.get() == \"\":\n",
    "            inp.insert(\"end\",\"error\")\n",
    "    elif inp.get()[0] == \"0\":\n",
    "        inp.delete(0,\"end\")\n",
    "        inp.insert(\"end\",\"error\")\n",
    "    else:\n",
    "\n",
    "         res = inp.get()\n",
    "         res = eval(res)\n",
    "         inp.insert(\"end\",\" = \")\n",
    "         inp.insert(\"end\",res)\n",
    "\n",
    "def clear():\n",
    "        inp.delete(0,\"end\")\n",
    "\n",
    "#create a Buttons and place at a particular\n",
    "# Location inside the root window\n",
    "# when user press the button, the command or\n",
    "# function afflicated to that button is executed\n",
    "# Button Dessign code starts here..\n",
    "\n",
    "clear = Button(root,text=\"C\",width=10,borderwidth=3,command=clear,bg=\"red\")\n",
    "clear.grid(row=0,sticky=\"W\",padx=285,pady=10)\n",
    "\n",
    "#code for the first line\n",
    "nine = Button(text=\"9\",width=7, command=nine,borderwidth=10,activeforeground)\n",
    "nine.grid(row=1,sticky='w',padx=15,pady=10)\n",
    "\n",
    "eight = Button(text=\"8\",width=7,command=eight,borderwidth=10,relief=RCIDGE)\n",
    "eight.grid(row=1, sticky=\"w\",padx=185,pady=10)\n",
    "\n",
    "seven = Button(root,text = \"7\",width=7,command=seven,borderwidth=10,relief=RIDGE)\n",
    "seven.grid(row=1,sticky=\"w\",padx=100,pady=10)\n",
    "\n",
    "plus =  Button(root,text=\"+\",width=7,command=seven,borderwidth=10,relief=RIDGE)\n",
    "plus.grid(row=1,sticky=\"e\",padx=275,pady=10)\n",
    "\n",
    "#code for the second line\n",
    "six = Button(text=\"6\",width=7,command=five,borderwidth=10,relief=RIDGE)\n",
    "six.grid(row=2,sticky=\"w\",padx= 15,pady= 10)\n",
    "\n",
    "five = Button(text=\"5\",width=7,command=five,borderwidth=10,relief=RIDGE)\n",
    "five.grid(row=2,sticky=\"w\",padx=100,pady=10)\n",
    "four = Button(root,text=\"4\",width=7,command=four,borderwidth=10,relief=RIDGE)\n",
    "four.grid(row=2,sticky=\"w\",padx=185,pady=10)\n",
    "minus - Button(root,text=\"-\",width=7,command=minus,borderwidth=10,bg='yellow')\n",
    "minus.grid(row=2,sticky=\"e\",padx=275,pady=10)\n",
    "\n",
    "#code for the third line\n",
    "three = Button(text=\"3\",width=7,command=three,borderwidth=10,relief=RIDGE)\n",
    "three.grid(row=3,sticky=\"w\",padx=15, pady=10)\n",
    "two = Button(text=\"2\",width=7,command=two,borderwidth=10,relief=RIDGE)\n",
    "two.grid(row=3,sticky=\"w\",padx=100, pady=10)\n",
    "one = Button(text=\"1\",width=7,command=one,borderwidth=10,relief=RIDGE)\n",
    "one.grid(row=3,sticky=\"w\",padx=185, pady=10)\n",
    "multiply - Button(root,text=\"*\",width=7,command=mul,borderwidth=10,bg='yellow')\n",
    "multiply.grid(row=3,sticky=\"e\",padx=275,pady=10)\n",
    "\n",
    "#code for the fourth line\n",
    "zero = Button(text=\"0\",width=7,command=zero,borderwidth=10,relief=RIDGE)\n",
    "zero.grid(row=4,sticky=\"w\",padx=15, pady=10)\n",
    "double_zero = Button(text=\"00\",width=7,command=double_zero,borderwidth=10,relief=RIDGE)\n",
    "double_zero.grid(row=4,sticky=\"w\",padx=100, pady=10)\n",
    "dot = Button(root,text=\".\",width=7,command=dot,borderwidth=dot,relief=RIDGE)\n",
    "dot.grid(row=4.sticky=\"w\",padx=185,pady=10)\n",
    "devide = Button(root,text=\"/\",width=7,command=divide,borderwidth=10,bg='yellow')\n",
    "divide.grid(row=4,sticky=\"e\",padx=275,pady=10)\n",
    "\n",
    "#code for the fifth line\n",
    "result = Button(root,text=\"=\",width=7,command=result,bg=\"green\",fg=\"white\")\n",
    "result.grid(row=5,sticky=\"e\",padx=275,pady=10)\n",
    "modulus =  Button(root,text=\"%\",width=7,command=modulus,borderwidth=10,bg='yellow')\n",
    "modulus.grid(row=5,sticky=\"e\",padx=275,pady=10)\n",
    "\n",
    "#start the GUI\n",
    "root.mainloop()"
   ]
  },
  {
   "cell_type": "raw",
   "id": "785aa0c7-fd73-44e0-a5be-21edfc772701",
   "metadata": {},
   "source": []
  },
  {
   "cell_type": "code",
   "execution_count": null,
   "id": "4551a07d-000f-45b6-8c75-b32a44d244ee",
   "metadata": {},
   "outputs": [],
   "source": []
  }
 ],
 "metadata": {
  "kernelspec": {
   "display_name": "Python 3 (ipykernel)",
   "language": "python",
   "name": "python3"
  },
  "language_info": {
   "codemirror_mode": {
    "name": "ipython",
    "version": 3
   },
   "file_extension": ".py",
   "mimetype": "text/x-python",
   "name": "python",
   "nbconvert_exporter": "python",
   "pygments_lexer": "ipython3",
   "version": "3.11.7"
  }
 },
 "nbformat": 4,
 "nbformat_minor": 5
}
