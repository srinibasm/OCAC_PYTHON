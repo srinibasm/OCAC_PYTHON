{
 "cells": [
  {
   "cell_type": "code",
   "execution_count": 2,
   "id": "d6d7223f-086f-4afe-bb8b-4bdad1164948",
   "metadata": {},
   "outputs": [
    {
     "name": "stdout",
     "output_type": "stream",
     "text": [
      "Hi!\n",
      "papan\n"
     ]
    }
   ],
   "source": [
    "#Conditional statement\n",
    "#if statement\n",
    "if 2<3:\n",
    "   print('Hi!')\n",
    "   print('papan')"
   ]
  },
  {
   "cell_type": "code",
   "execution_count": 3,
   "id": "1b237157-3a1b-4b49-9527-ec31067f1bf4",
   "metadata": {},
   "outputs": [
    {
     "name": "stdout",
     "output_type": "stream",
     "text": [
      "papan\n"
     ]
    }
   ],
   "source": [
    "if 4>5:\n",
    "    print('Hi!')\n",
    "\n",
    "print(\"papan\")"
   ]
  },
  {
   "cell_type": "code",
   "execution_count": 7,
   "id": "563eaedc-a8fb-4d9a-abc3-7d678f3229d4",
   "metadata": {},
   "outputs": [
    {
     "name": "stdin",
     "output_type": "stream",
     "text": [
      "Enter Name: papan\n"
     ]
    },
    {
     "name": "stdout",
     "output_type": "stream",
     "text": [
      "Hello papan Good Morning\n"
     ]
    }
   ],
   "source": [
    "name=input(\"Enter Name:\")\n",
    "if  name == \"papan\":\n",
    "    print(\"Hello papan Good Morning\")"
   ]
  },
  {
   "cell_type": "code",
   "execution_count": 8,
   "id": "3240e491-9b38-44ce-b3cb-41aa66189c7b",
   "metadata": {},
   "outputs": [
    {
     "name": "stdout",
     "output_type": "stream",
     "text": [
      "last\n"
     ]
    }
   ],
   "source": [
    "#if-else statement\n",
    "if 1>2:\n",
    "  print(\"first\")\n",
    "else:\n",
    "  print(\"last\")"
   ]
  },
  {
   "cell_type": "code",
   "execution_count": 9,
   "id": "42ee2f2c-cab3-440e-868f-eed73a386132",
   "metadata": {},
   "outputs": [
    {
     "name": "stdin",
     "output_type": "stream",
     "text": [
      "Enter a number 4\n"
     ]
    },
    {
     "name": "stdout",
     "output_type": "stream",
     "text": [
      "4 is even number\n"
     ]
    }
   ],
   "source": [
    "x=int(input('Enter a number'))\n",
    "if (x%2==0):\n",
    "    print(x,'is even number')\n",
    "else:\n",
    "    print(x,'is odd number')"
   ]
  },
  {
   "cell_type": "code",
   "execution_count": 12,
   "id": "320e7ca8-4e08-4d8a-94e8-11d313bab580",
   "metadata": {},
   "outputs": [
    {
     "name": "stdin",
     "output_type": "stream",
     "text": [
      "Enter Name: papan\n"
     ]
    },
    {
     "name": "stdout",
     "output_type": "stream",
     "text": [
      "Hello papan Good Morning\n"
     ]
    }
   ],
   "source": [
    "name= input(\"Enter Name:\")\n",
    "if name==\"papan\":\n",
    "         print(\"Hello papan Good Morning\")\n",
    "else:\n",
    "        print(\"Hello\",name,\"Good Morning\")"
   ]
  },
  {
   "cell_type": "code",
   "execution_count": 14,
   "id": "79c05916-9d40-4b6e-a25d-0b9d73956a15",
   "metadata": {},
   "outputs": [
    {
     "name": "stdout",
     "output_type": "stream",
     "text": [
      "AI\n",
      "ML\n"
     ]
    }
   ],
   "source": [
    "lst={'one','two','three','four','five'}\n",
    "if 'two' in lst:\n",
    "    print('AI')\n",
    "if 'eight' not in lst:\n",
    "    print('ML')"
   ]
  },
  {
   "cell_type": "code",
   "execution_count": 16,
   "id": "5096c029-9eda-4bd8-a820-5568a670fc98",
   "metadata": {},
   "outputs": [
    {
     "name": "stdin",
     "output_type": "stream",
     "text": [
      " 4\n"
     ]
    },
    {
     "name": "stdout",
     "output_type": "stream",
     "text": [
      "4 is positive number\n"
     ]
    }
   ],
   "source": [
    "a=int(input())\n",
    "if (a>=0):\n",
    "  print(a,'is positive number')\n",
    "else:\n",
    "  print(a,'is negative number')"
   ]
  },
  {
   "cell_type": "code",
   "execution_count": 17,
   "id": "11edf992-b269-4d33-8baf-a78a926091f4",
   "metadata": {},
   "outputs": [
    {
     "name": "stdout",
     "output_type": "stream",
     "text": [
      "8 is even number\n",
      "this is out of IF else block\n"
     ]
    }
   ],
   "source": [
    "x = 8\n",
    "if x%2==0:\n",
    "    print(x,'is even number')\n",
    "else:\n",
    "    print(x,'is odd number')\n",
    "print(\"this is out of IF else block\")"
   ]
  },
  {
   "cell_type": "code",
   "execution_count": 4,
   "id": "e7f8621a-cc9c-471d-98ea-fe8eb99660e3",
   "metadata": {},
   "outputs": [
    {
     "name": "stdout",
     "output_type": "stream",
     "text": [
      "first\n"
     ]
    }
   ],
   "source": [
    "#if-elif-else syntax\n",
    "if 2==2:\n",
    "    print('first')\n",
    "elif 5==5:\n",
    "    print('middle')"
   ]
  },
  {
   "cell_type": "code",
   "execution_count": 6,
   "id": "9136a4a7-7b54-4d5e-94b1-dc9e909c03f5",
   "metadata": {},
   "outputs": [
    {
     "name": "stdout",
     "output_type": "stream",
     "text": [
      "Grade A\n"
     ]
    }
   ],
   "source": [
    "#Take a variable y and print \"Grade A\" if y is greater than 90,\"Grade B\" if y is greater than 60 but less than equal to 90 and \"Grade F\" otherwise. \"Grade F\" otherwise.\n",
    "y=95\n",
    "if y>90:\n",
    "   print(\"Grade A\")\n",
    "elif(y>60):\n",
    "   print(\"Grade B\")\n",
    "elif(y>40):\n",
    "   print(\"Grade C\")\n",
    "else:\n",
    "   print(\"Grade F\")\n",
    "\n"
   ]
  },
  {
   "cell_type": "code",
   "execution_count": 9,
   "id": "2562bfe9-3d77-41a9-a74d-57fc8f9fa00d",
   "metadata": {},
   "outputs": [
    {
     "name": "stdout",
     "output_type": "stream",
     "text": [
      "I am in elif block\n",
      "X is negative\n"
     ]
    }
   ],
   "source": [
    "x=-55.98\n",
    "\n",
    "if((x>0) or (x==-100)):\n",
    "    print(\"X is positive value or -100\")\n",
    "    print(\"I am if loop\")\n",
    "elif (x<0):\n",
    "    print(\"I am in elif block\")\n",
    "    print(\"X is negative\")\n",
    "else:\n",
    "    print(\"X is Zero\")"
   ]
  },
  {
   "cell_type": "code",
   "execution_count": 10,
   "id": "7848604e-c1cb-41ce-ae0d-828f972e6900",
   "metadata": {},
   "outputs": [
    {
     "name": "stdout",
     "output_type": "stream",
     "text": [
      "positive\n",
      "Hello\n",
      "I am out of IF block\n"
     ]
    }
   ],
   "source": [
    "x=60\n",
    "if(x>0):\n",
    "    print('positive')\n",
    "    print('Hello')\n",
    "elif x==0:\n",
    "    print('zero')\n",
    "else:\n",
    "    print('negative')\n",
    "print(\"I am out of IF block\")"
   ]
  },
  {
   "cell_type": "code",
   "execution_count": 12,
   "id": "70235ec3-e683-4e9e-90fa-f329c9452dee",
   "metadata": {},
   "outputs": [
    {
     "name": "stdin",
     "output_type": "stream",
     "text": [
      "Enter your favourite brand: RC\n"
     ]
    },
    {
     "name": "stdout",
     "output_type": "stream",
     "text": [
      "It is childrens brand\n"
     ]
    }
   ],
   "source": [
    "brand=input(\"Enter your favourite brand:\")\n",
    "if brand==\"RC\":\n",
    "    print(\"It is childrens brand\")\n",
    "elif brand==\"KF\":\n",
    "    print(\"It is not that much kick\")\n",
    "elif brand==\"FO\":\n",
    "    print(\"Buy one get one free\")\n",
    "elif brand==\"RC\":\n",
    "    print(\"It is brand\")\n",
    "else:\n",
    "    print(\"Other Brands are not recommended\")"
   ]
  },
  {
   "cell_type": "code",
   "execution_count": 14,
   "id": "5a7e8c3b-a272-4978-af96-5e3074433426",
   "metadata": {},
   "outputs": [
    {
     "name": "stdout",
     "output_type": "stream",
     "text": [
      "All is well with the world\n"
     ]
    },
    {
     "name": "stderr",
     "output_type": "stream",
     "text": [
      "<>:1: SyntaxWarning: \"is\" with a literal. Did you mean \"==\"?\n",
      "<>:1: SyntaxWarning: \"is\" with a literal. Did you mean \"==\"?\n",
      "C:\\Users\\srini\\AppData\\Local\\Temp\\ipykernel_1720\\3761745850.py:1: SyntaxWarning: \"is\" with a literal. Did you mean \"==\"?\n",
      "  if 1 is 5:\n"
     ]
    }
   ],
   "source": [
    "if 1 is 5:\n",
    "    print(\"How did that happen?\")\n",
    "elif 1>5:\n",
    "    print(\"Yikes\")\n",
    "else:\n",
    "   print(\"All is well with the world\")"
   ]
  },
  {
   "cell_type": "code",
   "execution_count": 1,
   "id": "d482f78e-f760-4c09-84c5-6ff22a5a57a4",
   "metadata": {},
   "outputs": [
    {
     "name": "stdin",
     "output_type": "stream",
     "text": [
      "Enter marks: 89\n"
     ]
    },
    {
     "name": "stdout",
     "output_type": "stream",
     "text": [
      "89 A grade\n"
     ]
    }
   ],
   "source": [
    "'''findout the grades based on student marks \n",
    "85-100 - A grade\n",
    "75-85 - b grade\n",
    "65-75 - c grade\n",
    "55-65 - d grade\n",
    "45-55 - e grade\n",
    "0-45 - fail '''\n",
    "a=int(float(input('Enter marks:')))\n",
    "\n",
    "if (a>85 and a<=100):\n",
    "    print(a,'A grade')\n",
    "elif(a<=85 and a>75):\n",
    "    print(a,'B grade')\n",
    "elif(a<=75 and a>65):\n",
    "    print(a,'C grade')\n",
    "elif(a<=65 and a>55):\n",
    "    print(a,'D grade')\n",
    "elif(a<=55 and a>45):\n",
    "    print(a,'E grade')\n",
    "else:\n",
    "    print(a,'Fail')"
   ]
  },
  {
   "cell_type": "code",
   "execution_count": 2,
   "id": "4df8601b-48aa-4215-aeb0-edb2a1da45ae",
   "metadata": {},
   "outputs": [
    {
     "name": "stdin",
     "output_type": "stream",
     "text": [
      "Enter First Number: 45\n",
      "Enter Second Number: 35\n"
     ]
    },
    {
     "name": "stdout",
     "output_type": "stream",
     "text": [
      "Biggest Number is: 45\n"
     ]
    }
   ],
   "source": [
    "n1=int(input(\"Enter First Number:\"))\n",
    "n2=int(input(\"Enter Second Number:\"))\n",
    "if n1>n2:\n",
    "    print(\"Biggest Number is:\",n1)\n",
    "else:\n",
    "    print(\"Biggest NUmber is:\",n2)"
   ]
  },
  {
   "cell_type": "code",
   "execution_count": 4,
   "id": "fd5adfe3-cad7-466d-897f-9f79581fc995",
   "metadata": {},
   "outputs": [
    {
     "name": "stdin",
     "output_type": "stream",
     "text": [
      "Enter first Number: 45\n",
      "Enter Second Number: 55\n",
      "Enter Third Number: 67\n"
     ]
    },
    {
     "name": "stdout",
     "output_type": "stream",
     "text": [
      "67 is Largest\n"
     ]
    }
   ],
   "source": [
    "n1=int(input(\"Enter first Number:\"))\n",
    "n3=int(input(\"Enter Second Number:\"))\n",
    "n1=int(input(\"Enter Third Number:\"))\n",
    "if (n1>n2) and (n1>n3):\n",
    "    print(n1,\"is Largest\")\n",
    "elif(n2>n3):\n",
    "    print(n2,\"is Largest:\")\n",
    "else:\n",
    "    print(n3,\"is Largest:\")\n"
   ]
  },
  {
   "cell_type": "code",
   "execution_count": 5,
   "id": "66aaea2e-75a5-460e-944b-f2d11c4e1e34",
   "metadata": {},
   "outputs": [
    {
     "name": "stdin",
     "output_type": "stream",
     "text": [
      "Enter the first string: papan\n",
      "Enter the second string: papan\n"
     ]
    },
    {
     "name": "stdout",
     "output_type": "stream",
     "text": [
      "Both strings are equal\n"
     ]
    }
   ],
   "source": [
    "s1=input(\"Enter the first string:\")\n",
    "s2=input(\"Enter the second string:\")\n",
    "if s1==s2:\n",
    "    print(\"Both strings are equal\")\n",
    "elif s1<s2:\n",
    "    print(\"First string is less than second string\")\n",
    "else:\n",
    "    print(\"First string is greater than second string\")"
   ]
  },
  {
   "cell_type": "code",
   "execution_count": 8,
   "id": "67890b37-d1bb-46f3-805b-db07629aeb49",
   "metadata": {},
   "outputs": [
    {
     "name": "stdout",
     "output_type": "stream",
     "text": [
      "positive number\n"
     ]
    }
   ],
   "source": [
    "#Nested if statement\n",
    "num = 20\n",
    "if num>=0:\n",
    "    if num==0:\n",
    "        print(\"not\")\n",
    "    else:\n",
    "        print(\"positive number\")\n",
    "else:\n",
    "    print(\"Negative number\")"
   ]
  },
  {
   "cell_type": "code",
   "execution_count": 24,
   "id": "2873790b-aecb-4b84-8439-1d90d0aea4ba",
   "metadata": {},
   "outputs": [
    {
     "ename": "IndentationError",
     "evalue": "unindent does not match any outer indentation level (<tokenize>, line 4)",
     "output_type": "error",
     "traceback": [
      "\u001b[1;36m  File \u001b[1;32m<tokenize>:4\u001b[1;36m\u001b[0m\n\u001b[1;33m    if i>2:\u001b[0m\n\u001b[1;37m    ^\u001b[0m\n\u001b[1;31mIndentationError\u001b[0m\u001b[1;31m:\u001b[0m unindent does not match any outer indentation level\n"
     ]
    }
   ],
   "source": []
  },
  {
   "cell_type": "code",
   "execution_count": 28,
   "id": "490b616a-d80e-4325-8faa-0c3c94b0bba0",
   "metadata": {},
   "outputs": [
    {
     "ename": "IndentationError",
     "evalue": "unindent does not match any outer indentation level (<tokenize>, line 4)",
     "output_type": "error",
     "traceback": [
      "\u001b[1;36m  File \u001b[1;32m<tokenize>:4\u001b[1;36m\u001b[0m\n\u001b[1;33m    if i>2:\u001b[0m\n\u001b[1;37m    ^\u001b[0m\n\u001b[1;31mIndentationError\u001b[0m\u001b[1;31m:\u001b[0m unindent does not match any outer indentation level\n"
     ]
    }
   ],
   "source": [
    "i = 2.1\n",
    " if (i<3):\n",
    "     print('less than 3)\n",
    "    if i>2:\n",
    "       print(\"Fsdfsf\")\n",
    "elif i<5:\n",
    "    print('less than 5')\n",
    "else:\n",
    "    print('5 or more')"
   ]
  },
  {
   "cell_type": "code",
   "execution_count": 30,
   "id": "18661107-c4c3-4cd4-a04b-56cab8cdc5bc",
   "metadata": {},
   "outputs": [
    {
     "name": "stdin",
     "output_type": "stream",
     "text": [
      "enter your pin 2468\n",
      "with draw amount: 20000\n"
     ]
    },
    {
     "name": "stdout",
     "output_type": "stream",
     "text": [
      "20000 successfully transaction completed\n"
     ]
    }
   ],
   "source": [
    "amount=30000\n",
    "pin=2468\n",
    "if(int(input('enter your pin'))==2468):\n",
    "    with_draw=int(input('with draw amount:'))\n",
    "    if(with_draw<=amount):\n",
    "        print(with_draw,'successfully transaction completed')\n",
    "    else:\n",
    "        print(with_draaw,'not sufficiant funds in your account')\n",
    "else:\n",
    "    print('Invalid pin number')"
   ]
  },
  {
   "cell_type": "code",
   "execution_count": null,
   "id": "6d5205bf-c68d-4138-9e68-5c0558a4641c",
   "metadata": {},
   "outputs": [],
   "source": []
  }
 ],
 "metadata": {
  "kernelspec": {
   "display_name": "Python 3 (ipykernel)",
   "language": "python",
   "name": "python3"
  },
  "language_info": {
   "codemirror_mode": {
    "name": "ipython",
    "version": 3
   },
   "file_extension": ".py",
   "mimetype": "text/x-python",
   "name": "python",
   "nbconvert_exporter": "python",
   "pygments_lexer": "ipython3",
   "version": "3.11.7"
  }
 },
 "nbformat": 4,
 "nbformat_minor": 5
}
