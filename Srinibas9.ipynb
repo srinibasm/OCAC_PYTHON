{
 "cells": [
  {
   "cell_type": "code",
   "execution_count": 1,
   "id": "d3523bb4-053a-456f-9c17-d444f8054faa",
   "metadata": {},
   "outputs": [
    {
     "name": "stdout",
     "output_type": "stream",
     "text": [
      "Hello papan 4\n"
     ]
    }
   ],
   "source": [
    "#Classes/object\n",
    "#create class\n",
    "class Myclass:\n",
    "    x = 4\n",
    "    print(\"Hello papan\",x)"
   ]
  },
  {
   "cell_type": "code",
   "execution_count": 3,
   "id": "ce510172-1b23-4319-8733-715461585d8f",
   "metadata": {},
   "outputs": [
    {
     "name": "stdout",
     "output_type": "stream",
     "text": [
      "4\n"
     ]
    }
   ],
   "source": [
    "#create object,create an object named p1, and print the value of x:\n",
    "p1 = Myclass()\n",
    "print(p1.x)"
   ]
  },
  {
   "cell_type": "code",
   "execution_count": 4,
   "id": "b22e2c54-30c6-4cf2-8719-15a7656516f5",
   "metadata": {},
   "outputs": [
    {
     "name": "stdout",
     "output_type": "stream",
     "text": [
      "4\n",
      "<class '__main__.Myclass'>\n"
     ]
    }
   ],
   "source": [
    "y=Myclass()\n",
    "print(y.x)\n",
    "print(type(y))"
   ]
  },
  {
   "cell_type": "code",
   "execution_count": 5,
   "id": "2e070992-7b8e-4622-85dd-08a9a9599953",
   "metadata": {},
   "outputs": [
    {
     "name": "stdout",
     "output_type": "stream",
     "text": [
      "Hello Srinibas\n",
      "<class '__main__.Students'>\n"
     ]
    }
   ],
   "source": [
    "class Students:\n",
    "    print(\"Hello Srinibas\")\n",
    "\n",
    "z = Students()\n",
    "print(type(z))"
   ]
  },
  {
   "cell_type": "code",
   "execution_count": 7,
   "id": "cb8ad0a2-0d25-424f-a30e-1482d891338d",
   "metadata": {},
   "outputs": [
    {
     "name": "stdout",
     "output_type": "stream",
     "text": [
      "Hello, Welcome to my World\n"
     ]
    }
   ],
   "source": [
    "class Student:\n",
    "    def func():\n",
    "        print(\"Hello, Welcome to my World\")\n",
    "Student.func()"
   ]
  },
  {
   "cell_type": "code",
   "execution_count": 9,
   "id": "dc9fd4b3-b81d-4642-9a2c-b5026e50732c",
   "metadata": {},
   "outputs": [
    {
     "name": "stdout",
     "output_type": "stream",
     "text": [
      "Hello,welcome to OCAC 2024\n"
     ]
    }
   ],
   "source": [
    "class Student:\n",
    "    year = 2024\n",
    "    def func(self):\n",
    "        print(\"Hello,welcome to OCAC\",self.year)\n",
    "x = Student()\n",
    "x.func()"
   ]
  },
  {
   "cell_type": "code",
   "execution_count": 10,
   "id": "f492028e-f082-4721-80cb-1f0be68ea43a",
   "metadata": {},
   "outputs": [
    {
     "ename": "TypeError",
     "evalue": "Student.func() missing 1 required positional argument: 'self'",
     "output_type": "error",
     "traceback": [
      "\u001b[1;31m---------------------------------------------------------------------------\u001b[0m",
      "\u001b[1;31mTypeError\u001b[0m                                 Traceback (most recent call last)",
      "Cell \u001b[1;32mIn[10], line 1\u001b[0m\n\u001b[1;32m----> 1\u001b[0m Student\u001b[38;5;241m.\u001b[39mfunc()\n",
      "\u001b[1;31mTypeError\u001b[0m: Student.func() missing 1 required positional argument: 'self'"
     ]
    }
   ],
   "source": [
    "Student.func()"
   ]
  },
  {
   "cell_type": "code",
   "execution_count": 12,
   "id": "0b08d4d8-5db8-4ed0-a74b-d801bbbd7698",
   "metadata": {},
   "outputs": [
    {
     "name": "stdout",
     "output_type": "stream",
     "text": [
      "Hello my name is Aman\n"
     ]
    }
   ],
   "source": [
    "#The init() function is called automatically every time the class is being used to create a new object.\n",
    "class person:\n",
    "    def __init__(self,name, age):\n",
    "     self.name = name\n",
    "     self.age = age\n",
    "    def myfunc(self):\n",
    "        print(\"Hello my name is \" + self.name)\n",
    "p1=person(\"Aman\",35)\n",
    "p1.myfunc()"
   ]
  },
  {
   "cell_type": "code",
   "execution_count": 14,
   "id": "2703b8bb-88a8-44c2-b737-257d04a95a2c",
   "metadata": {},
   "outputs": [
    {
     "name": "stdout",
     "output_type": "stream",
     "text": [
      "Elon Musk!\n"
     ]
    }
   ],
   "source": [
    "class Student:\n",
    "    def __init__(self,name): \n",
    "        self.name = name #self.name = Attribute initilised\n",
    "    #(Creating Instance of Student class(Object of certain class})\n",
    "elon = Student(name='Elon Musk!') #name: argument\n",
    "print(elon.name) #accessing class attribute through object"
   ]
  },
  {
   "cell_type": "code",
   "execution_count": 15,
   "id": "37a7e65c-8c87-46bb-a872-1fca8b814fc1",
   "metadata": {},
   "outputs": [
    {
     "name": "stdout",
     "output_type": "stream",
     "text": [
      "Elon Musk!\n",
      "I am Champ\n"
     ]
    }
   ],
   "source": [
    "class Student:\n",
    "    def __init__(self,name):\n",
    "        self.name = name\n",
    "elon = Student(name='Elon Musk!')\n",
    "champ = Student(name=\"I am Champ\")\n",
    "print(elon.name)\n",
    "print(champ.name)"
   ]
  },
  {
   "cell_type": "code",
   "execution_count": 17,
   "id": "fadc9881-99bf-4eab-ac7b-8ba80b046025",
   "metadata": {},
   "outputs": [
    {
     "name": "stdout",
     "output_type": "stream",
     "text": [
      "Aman\n",
      "35\n"
     ]
    }
   ],
   "source": [
    "class Person:\n",
    "   def __init__(self, name, age):\n",
    "     self.name = name\n",
    "     self.age = age\n",
    "p1 = Person(\"Aman\", 35)\n",
    "\n",
    "print(p1.name)\n",
    "print(p1.age)"
   ]
  },
  {
   "cell_type": "code",
   "execution_count": 18,
   "id": "e8625fe7-8680-402a-9c00-f2ba1811c6ca",
   "metadata": {},
   "outputs": [],
   "source": [
    "class Student:\n",
    "    Total = 500 # Class variable\n",
    "\n",
    "    def __init__(self, marks):\n",
    "        self.marks = marks # Corrected the assignment\n",
    "        print(\"Initialized...\")\n",
    "\n",
    "    def findLoss(self):\n",
    "        return self.Total - self.marks # Corrected the expression\n",
    "\n",
    "    def findPercentage(self):\n",
    "        return (self.marks / self.Total) * 100 # Corrected the expression"
   ]
  },
  {
   "cell_type": "code",
   "execution_count": 19,
   "id": "21666503-8705-4c02-96a1-d64000268fb7",
   "metadata": {},
   "outputs": [
    {
     "name": "stdout",
     "output_type": "stream",
     "text": [
      "Initialized...\n",
      "Total Marks: 500\n",
      "Lost Marks: 42\n",
      "Percentage is: 91.60000000000001\n",
      "Percentage is: 91.60%\n"
     ]
    }
   ],
   "source": [
    "a = Student(marks=458)\n",
    "print(\"Total Marks:\", a.Total)\n",
    "print('Lost Marks:', a.findLoss()) # Corrected the typo in the string\n",
    "print('Percentage is:', a.findPercentage())\n",
    "print('Percentage is: {:.2f}%'.format(a.findPercentage()))"
   ]
  },
  {
   "cell_type": "code",
   "execution_count": 20,
   "id": "d24a787a-bbea-409d-84c4-db2e0c9ac36b",
   "metadata": {},
   "outputs": [],
   "source": [
    "#class defination:\n",
    "class Student:\n",
    "    def __init__(self, marks):\n",
    "        self.marks = marks # Instance variable\n",
    "        print(\"Initialized...\")"
   ]
  },
  {
   "cell_type": "code",
   "execution_count": 21,
   "id": "42cb1b40-8166-45ae-a3d8-a30b89a896aa",
   "metadata": {},
   "outputs": [],
   "source": [
    "class Student:\n",
    "    Total = 500 #class variable\n",
    "\n",
    "    def __init__(self, name, marks,gender):\n",
    "        self.name=name\n",
    "        self.mark=marks\n",
    "        self.gender=gender\n",
    "        print(\"Initialized...\")\n",
    "    def __len__(self):\n",
    "        return self.marks\n",
    "\n",
    "    def __len__(self):\n",
    "        return \"Name: %s | marks: %s | Gender: %s\" %(self.name,self.marks,self.gender)\n",
    "\n",
    "    def __del__(self):\n",
    "        print(\"Student Database is Deleted\")"
   ]
  },
  {
   "cell_type": "code",
   "execution_count": 23,
   "id": "c4425a73-ce82-4b9c-b9d0-6778723bdfd1",
   "metadata": {},
   "outputs": [
    {
     "ename": "TypeError",
     "evalue": "Student.__init__() takes 2 positional arguments but 4 were given",
     "output_type": "error",
     "traceback": [
      "\u001b[1;31m---------------------------------------------------------------------------\u001b[0m",
      "\u001b[1;31mTypeError\u001b[0m                                 Traceback (most recent call last)",
      "Cell \u001b[1;32mIn[23], line 1\u001b[0m\n\u001b[1;32m----> 1\u001b[0m a \u001b[38;5;241m=\u001b[39m Student(\u001b[38;5;124m'\u001b[39m\u001b[38;5;124mchamp\u001b[39m\u001b[38;5;124m'\u001b[39m, \u001b[38;5;124m'\u001b[39m\u001b[38;5;124m450\u001b[39m\u001b[38;5;124m'\u001b[39m,\u001b[38;5;124m'\u001b[39m\u001b[38;5;124mmale\u001b[39m\u001b[38;5;124m'\u001b[39m)\n\u001b[0;32m      2\u001b[0m B \u001b[38;5;241m=\u001b[39m Student(\u001b[38;5;124m'\u001b[39m\u001b[38;5;124mchampU\u001b[39m\u001b[38;5;124m'\u001b[39m, \u001b[38;5;241m456\u001b[39m, \u001b[38;5;124m'\u001b[39m\u001b[38;5;124mFEmale\u001b[39m\u001b[38;5;124m'\u001b[39m)\n",
      "\u001b[1;31mTypeError\u001b[0m: Student.__init__() takes 2 positional arguments but 4 were given"
     ]
    }
   ],
   "source": [
    "a = Student('champ', '450','male')\n",
    "B = Student('champU', 456, 'FEmale') "
   ]
  },
  {
   "cell_type": "code",
   "execution_count": 1,
   "id": "f099c9f7-5aa9-4dbd-8966-1c1d783005b3",
   "metadata": {},
   "outputs": [
    {
     "ename": "NameError",
     "evalue": "name 'B' is not defined",
     "output_type": "error",
     "traceback": [
      "\u001b[1;31m---------------------------------------------------------------------------\u001b[0m",
      "\u001b[1;31mNameError\u001b[0m                                 Traceback (most recent call last)",
      "Cell \u001b[1;32mIn[1], line 1\u001b[0m\n\u001b[1;32m----> 1\u001b[0m \u001b[38;5;28mprint\u001b[39m(B)\n",
      "\u001b[1;31mNameError\u001b[0m: name 'B' is not defined"
     ]
    }
   ],
   "source": [
    "print(B)"
   ]
  },
  {
   "cell_type": "code",
   "execution_count": 2,
   "id": "010b1d3c-8916-45f9-873f-84bcbac061bd",
   "metadata": {},
   "outputs": [
    {
     "ename": "NameError",
     "evalue": "name 'a' is not defined",
     "output_type": "error",
     "traceback": [
      "\u001b[1;31m---------------------------------------------------------------------------\u001b[0m",
      "\u001b[1;31mNameError\u001b[0m                                 Traceback (most recent call last)",
      "Cell \u001b[1;32mIn[2], line 1\u001b[0m\n\u001b[1;32m----> 1\u001b[0m \u001b[38;5;28mprint\u001b[39m(\u001b[38;5;124m'\u001b[39m\u001b[38;5;124mMarks: \u001b[39m\u001b[38;5;124m'\u001b[39m,\u001b[38;5;28mlen\u001b[39m(a))\n\u001b[0;32m      2\u001b[0m \u001b[38;5;28;01mdel\u001b[39;00m a\n",
      "\u001b[1;31mNameError\u001b[0m: name 'a' is not defined"
     ]
    }
   ],
   "source": [
    "print('Marks: ',len(a))\n",
    "del a "
   ]
  },
  {
   "cell_type": "code",
   "execution_count": 4,
   "id": "b5f6558a-7c79-49ff-a5f5-59b7dc5f1f58",
   "metadata": {},
   "outputs": [
    {
     "ename": "IndentationError",
     "evalue": "unindent does not match any outer indentation level (<tokenize>, line 8)",
     "output_type": "error",
     "traceback": [
      "\u001b[1;36m  File \u001b[1;32m<tokenize>:8\u001b[1;36m\u001b[0m\n\u001b[1;33m    def mul(self):\u001b[0m\n\u001b[1;37m    ^\u001b[0m\n\u001b[1;31mIndentationError\u001b[0m\u001b[1;31m:\u001b[0m unindent does not match any outer indentation level\n"
     ]
    }
   ],
   "source": [
    "class Student:\n",
    "    Total = 500 # Class variable\n",
    "\n",
    "     def __init__(a,marks):\n",
    "         a.marks=marks\n",
    "         print(\"Initialized...\")\n",
    "\n",
    "      def mul(self):\n",
    "          return self.marks * self.Total\n",
    "p1 = Student(300)\n",
    "p1.mul()"
   ]
  },
  {
   "cell_type": "code",
   "execution_count": 6,
   "id": "407ea678-87f7-47e0-969d-7f45ff2a3081",
   "metadata": {},
   "outputs": [
    {
     "name": "stdout",
     "output_type": "stream",
     "text": [
      "Initialized...\n",
      "<__main__.Student object at 0x000002083B5A3210>\n",
      "Marks:  350\n"
     ]
    }
   ],
   "source": [
    "class Student:\n",
    "    Total = 500 # Class variable\n",
    "\n",
    "    def __init__(self, name, marks,gender):\n",
    "        self.name=name\n",
    "        self.marks=marks\n",
    "        self.gender=gender\n",
    "        print(\"Initialized...\")\n",
    "\n",
    "    def __len__(b):\n",
    "         return b.marks\n",
    "\n",
    "a = Student('champ', 350, 'male')\n",
    "print(a)\n",
    "print('Marks: ',len(a))"
   ]
  },
  {
   "cell_type": "code",
   "execution_count": 8,
   "id": "4421d900-8d72-4053-b18a-497e02a6c8f3",
   "metadata": {},
   "outputs": [
    {
     "name": "stdout",
     "output_type": "stream",
     "text": [
      "Hello my name is Papan 22\n"
     ]
    }
   ],
   "source": [
    "#The self parameter\n",
    "class Person:\n",
    "   def __init__(mysillyobject, name, age):\n",
    "     mysillyobject.name = name\n",
    "     mysillyobject.age = age\n",
    "\n",
    "   def myfunc(abc):\n",
    "     print(\"Hello my name is \" + abc.name, + abc.age )\n",
    "\n",
    "p1 = Person(\"Papan\", 22)\n",
    "p1.myfunc()"
   ]
  },
  {
   "cell_type": "code",
   "execution_count": 9,
   "id": "c4f093cc-429f-40f9-949f-0d05edad4371",
   "metadata": {},
   "outputs": [
    {
     "name": "stdout",
     "output_type": "stream",
     "text": [
      "Hello my name is Papan 40\n"
     ]
    }
   ],
   "source": [
    "#Modify Object Properties\n",
    "#Set the age of p1 to 40:\n",
    "\n",
    "p1.age = 40\n",
    "p1.myfunc()"
   ]
  },
  {
   "cell_type": "code",
   "execution_count": 10,
   "id": "d29a0c37-c6bc-4a47-8f86-5aa70892decf",
   "metadata": {},
   "outputs": [
    {
     "ename": "AttributeError",
     "evalue": "'Person' object has no attribute 'age'",
     "output_type": "error",
     "traceback": [
      "\u001b[1;31m---------------------------------------------------------------------------\u001b[0m",
      "\u001b[1;31mAttributeError\u001b[0m                            Traceback (most recent call last)",
      "Cell \u001b[1;32mIn[10], line 3\u001b[0m\n\u001b[0;32m      1\u001b[0m \u001b[38;5;66;03m#Delete object properties\u001b[39;00m\n\u001b[0;32m      2\u001b[0m \u001b[38;5;28;01mdel\u001b[39;00m p1\u001b[38;5;241m.\u001b[39mage\n\u001b[1;32m----> 3\u001b[0m p1\u001b[38;5;241m.\u001b[39mmyfunc()\n",
      "Cell \u001b[1;32mIn[8], line 8\u001b[0m, in \u001b[0;36mPerson.myfunc\u001b[1;34m(abc)\u001b[0m\n\u001b[0;32m      7\u001b[0m \u001b[38;5;28;01mdef\u001b[39;00m \u001b[38;5;21mmyfunc\u001b[39m(abc):\n\u001b[1;32m----> 8\u001b[0m   \u001b[38;5;28mprint\u001b[39m(\u001b[38;5;124m\"\u001b[39m\u001b[38;5;124mHello my name is \u001b[39m\u001b[38;5;124m\"\u001b[39m \u001b[38;5;241m+\u001b[39m abc\u001b[38;5;241m.\u001b[39mname, \u001b[38;5;241m+\u001b[39m abc\u001b[38;5;241m.\u001b[39mage )\n",
      "\u001b[1;31mAttributeError\u001b[0m: 'Person' object has no attribute 'age'"
     ]
    }
   ],
   "source": [
    "#Delete object properties\n",
    "del p1.age\n",
    "p1.myfunc()"
   ]
  },
  {
   "cell_type": "code",
   "execution_count": 11,
   "id": "ffc62dbc-c3f2-4eae-958e-9b5dffd5752f",
   "metadata": {},
   "outputs": [
    {
     "ename": "NameError",
     "evalue": "name 'p1' is not defined",
     "output_type": "error",
     "traceback": [
      "\u001b[1;31m---------------------------------------------------------------------------\u001b[0m",
      "\u001b[1;31mNameError\u001b[0m                                 Traceback (most recent call last)",
      "Cell \u001b[1;32mIn[11], line 3\u001b[0m\n\u001b[0;32m      1\u001b[0m \u001b[38;5;66;03m#Delete objects\u001b[39;00m\n\u001b[0;32m      2\u001b[0m \u001b[38;5;28;01mdel\u001b[39;00m p1\n\u001b[1;32m----> 3\u001b[0m p1\u001b[38;5;241m.\u001b[39mmyfunc()\n",
      "\u001b[1;31mNameError\u001b[0m: name 'p1' is not defined"
     ]
    }
   ],
   "source": [
    "#Delete objects\n",
    "del p1\n",
    "p1.myfunc()"
   ]
  },
  {
   "cell_type": "code",
   "execution_count": 13,
   "id": "2281418c-b295-4375-8896-e1a65f628e70",
   "metadata": {},
   "outputs": [],
   "source": [
    "#The pass statement\n",
    "class Person:\n",
    "  pass"
   ]
  },
  {
   "cell_type": "code",
   "execution_count": 14,
   "id": "f98899c2-ebc1-48ea-b749-0891e2976b57",
   "metadata": {},
   "outputs": [
    {
     "ename": "SyntaxError",
     "evalue": "incomplete input (1794715009.py, line 1)",
     "output_type": "error",
     "traceback": [
      "\u001b[1;36m  Cell \u001b[1;32mIn[14], line 1\u001b[1;36m\u001b[0m\n\u001b[1;33m    class person:\u001b[0m\n\u001b[1;37m                 ^\u001b[0m\n\u001b[1;31mSyntaxError\u001b[0m\u001b[1;31m:\u001b[0m incomplete input\n"
     ]
    }
   ],
   "source": [
    "class person:"
   ]
  },
  {
   "cell_type": "code",
   "execution_count": 18,
   "id": "631f3965-766f-4134-9020-f1db1d2a8764",
   "metadata": {},
   "outputs": [
    {
     "name": "stdout",
     "output_type": "stream",
     "text": [
      "Papan Doe\n"
     ]
    }
   ],
   "source": [
    "#Create parent class\n",
    "class Person:\n",
    "  def __init__(self, fname, lname):\n",
    "    self.firstname = fname\n",
    "    self.lastname = lname\n",
    "  def printname(self):\n",
    "    print(self.firstname, self.lastname)\n",
    "\n",
    "x = Person(\"Papan\", \"Doe\")\n",
    "x.printname()"
   ]
  },
  {
   "cell_type": "code",
   "execution_count": 17,
   "id": "533a2391-8f1c-4c78-ace9-a0a3c596ac3c",
   "metadata": {},
   "outputs": [],
   "source": [
    "#Create child class\n",
    "class Student(Person):\n",
    "  pass"
   ]
  },
  {
   "cell_type": "code",
   "execution_count": 19,
   "id": "528a0e45-2788-4402-8cb9-d6e4366c9747",
   "metadata": {},
   "outputs": [
    {
     "name": "stdout",
     "output_type": "stream",
     "text": [
      "Mikel Olsen\n"
     ]
    }
   ],
   "source": [
    "x = Student(\"Mikel\",\"Olsen\")\n",
    "x.printname()"
   ]
  },
  {
   "cell_type": "code",
   "execution_count": 21,
   "id": "da0ead20-a935-479f-863d-e680a7589a32",
   "metadata": {},
   "outputs": [],
   "source": [
    "#Add the init() function\n",
    "#Add the __init__() function to the Student class:\n",
    "class Student(Person):\n",
    "  def __init__(self,fname,lname):\n",
    "      pass\n",
    "\n",
    "#add properties etc"
   ]
  },
  {
   "cell_type": "code",
   "execution_count": 23,
   "id": "d0c18ef4-02a3-4d3f-b6b4-182bcd356855",
   "metadata": {},
   "outputs": [
    {
     "name": "stdout",
     "output_type": "stream",
     "text": [
      "Mikel Olsen\n"
     ]
    }
   ],
   "source": [
    "class Student(Person):\n",
    "  def __init__(self, fname, lname):\n",
    "    Person.__init__(self, fname, lname)\n",
    "\n",
    "    x = Student(\"Mikel\", \"Olsen\")\n",
    "x.printname()"
   ]
  },
  {
   "cell_type": "code",
   "execution_count": 24,
   "id": "e591dbdf-2b0a-484e-88ad-002ab1f8259e",
   "metadata": {},
   "outputs": [],
   "source": [
    "#Use the super() function\n",
    "class Student(Person):\n",
    "  def __init__(self, fname, lname):\n",
    "    super().__init__(fname, lname)"
   ]
  },
  {
   "cell_type": "code",
   "execution_count": 27,
   "id": "7dda152a-baa9-4cc6-847a-8a210d745f19",
   "metadata": {},
   "outputs": [
    {
     "ename": "IndentationError",
     "evalue": "unindent does not match any outer indentation level (<tokenize>, line 7)",
     "output_type": "error",
     "traceback": [
      "\u001b[1;36m  File \u001b[1;32m<tokenize>:7\u001b[1;36m\u001b[0m\n\u001b[1;33m    def printname(self):\u001b[0m\n\u001b[1;37m    ^\u001b[0m\n\u001b[1;31mIndentationError\u001b[0m\u001b[1;31m:\u001b[0m unindent does not match any outer indentation level\n"
     ]
    }
   ],
   "source": [
    "#Add a property called graduationyear to the Student class:\n",
    "class Person:\n",
    "   def __init__(self, fname, lname):\n",
    "     self.firstname  = fname\n",
    "     self.lastanme   = lname\n",
    "\n",
    "    def printname(self):\n",
    "      print(self.firstname, self.lastname)\n",
    "\n",
    "class student(Person):\n",
    "   def __init__(self,fname,lname):\n",
    "     super().__init__(fname,lname)\n",
    "     self.graduationyear = 2023\n",
    "\n",
    "x = Student(\"Mikel\",\"Olsen\")\n",
    "print(x.graduationyear)\n",
    "x.printname()"
   ]
  },
  {
   "cell_type": "code",
   "execution_count": 29,
   "id": "25bff519-ff14-4504-8a8d-a79123933c05",
   "metadata": {},
   "outputs": [
    {
     "name": "stdout",
     "output_type": "stream",
     "text": [
      "2023\n"
     ]
    }
   ],
   "source": [
    "class Person:\n",
    "  def __init__(self, fname, lname):\n",
    "    self.firstname = fname\n",
    "    self.lastname = lname\n",
    "\n",
    "  def printname(self):\n",
    "    print(self.firstname, self.lastname)\n",
    "\n",
    "class Student(Person):\n",
    "  def __init__(self, fname, lname, year):\n",
    "    super().__init__(fname, lname)\n",
    "    self.graduationyear = year\n",
    "\n",
    "x = Student(\"Mikel\", \"Olsen\", 2023)\n",
    "print(x.graduationyear)"
   ]
  },
  {
   "cell_type": "code",
   "execution_count": 31,
   "id": "6e8c052f-162e-44b6-bcce-8405f556d7f0",
   "metadata": {},
   "outputs": [
    {
     "ename": "IndentationError",
     "evalue": "unindent does not match any outer indentation level (<tokenize>, line 16)",
     "output_type": "error",
     "traceback": [
      "\u001b[1;36m  File \u001b[1;32m<tokenize>:16\u001b[1;36m\u001b[0m\n\u001b[1;33m    def welcome(self):\u001b[0m\n\u001b[1;37m    ^\u001b[0m\n\u001b[1;31mIndentationError\u001b[0m\u001b[1;31m:\u001b[0m unindent does not match any outer indentation level\n"
     ]
    }
   ],
   "source": [
    "#Add a method called welcome to the Student class:\n",
    "\n",
    "class Person:\n",
    "  def __init__(self,fname,lname):\n",
    "    self.firstname = fname\n",
    "    self.lastname  = lname\n",
    "\n",
    "  def printname(self):\n",
    "      print(self.firstname,self.lastname)\n",
    "\n",
    "class Student(Person):\n",
    "   def __init__(self,fname,lname,year):\n",
    "     super().__init__(fname,lname)\n",
    "     self.graduationyear = year\n",
    "\n",
    "    def welcome(self):\n",
    "      print(\"Welcome\",self.firstname,self.lastname,\"to the class of\",self.firstname,self.lastname)\n",
    "\n",
    "x = Student(\"Mikel\", \"Olsen\", 2023)\n",
    "x.welcome"
   ]
  },
  {
   "cell_type": "code",
   "execution_count": 32,
   "id": "0a68c8e6-903a-43e1-b69f-46ae9b4a538c",
   "metadata": {},
   "outputs": [],
   "source": [
    "#python  Inheritance\n",
    "class Elon:\n",
    "    def __init__(self):\n",
    "        print(\"Profile created\")\n",
    "\n",
    "    def name(self):\n",
    "        print(\"Elon Musk\")\n",
    "\n",
    "    def age(self):\n",
    "        print(\"40\")"
   ]
  },
  {
   "cell_type": "code",
   "execution_count": 34,
   "id": "cb454dda-d17a-4665-85fe-ea19490152ac",
   "metadata": {},
   "outputs": [],
   "source": [
    "class SpaceX(Elon):\n",
    "    def ___init__(self):\n",
    "        super().__init__()\n",
    "        print(\"Company profile is created\")\n",
    "\n",
    "    def name(self):\n",
    "        print(\"SpaceX\")\n",
    "\n",
    "    def type(self):\n",
    "        print(\"private Space travel\")"
   ]
  },
  {
   "cell_type": "code",
   "execution_count": 35,
   "id": "aa73ece0-a347-4d9c-b970-adf863d342ba",
   "metadata": {},
   "outputs": [
    {
     "name": "stdout",
     "output_type": "stream",
     "text": [
      "Profile created\n",
      "SpaceX\n",
      "40\n",
      "private Space travel\n"
     ]
    }
   ],
   "source": [
    "# Creating an instance of the SpaceX class\n",
    "spacex_profile = SpaceX()\n",
    "\n",
    "# Calling methods on the instance\n",
    "spacex_profile.name()\n",
    "spacex_profile.age()\n",
    "spacex_profile.type()"
   ]
  },
  {
   "cell_type": "code",
   "execution_count": 36,
   "id": "4a477df9-48ad-4b01-9120-6c198a923c81",
   "metadata": {},
   "outputs": [
    {
     "name": "stdout",
     "output_type": "stream",
     "text": [
      "Profile created\n"
     ]
    }
   ],
   "source": [
    "a = SpaceX()\n"
   ]
  },
  {
   "cell_type": "code",
   "execution_count": 37,
   "id": "509df891-a0e9-4d2e-a542-02d9b71d9ba6",
   "metadata": {},
   "outputs": [],
   "source": [
    "#Polymorphism\n",
    "class Elon:\n",
    "    def ___init__(self, name):\n",
    "        self.name = name\n",
    "    def type(self):\n",
    "        return \"Entrepreneur\"\n",
    "\n",
    "class Sundar:\n",
    "    def __init(self,name):\n",
    "        self.name = name\n",
    "\n",
    "    def type(self):\n",
    "        return \"CEO\""
   ]
  },
  {
   "cell_type": "code",
   "execution_count": 47,
   "id": "4dfbea0f-727a-4d39-8c7b-b5208d3f0b32",
   "metadata": {},
   "outputs": [
    {
     "ename": "TypeError",
     "evalue": "Elon() takes no arguments",
     "output_type": "error",
     "traceback": [
      "\u001b[1;31m---------------------------------------------------------------------------\u001b[0m",
      "\u001b[1;31mTypeError\u001b[0m                                 Traceback (most recent call last)",
      "Cell \u001b[1;32mIn[47], line 2\u001b[0m\n\u001b[0;32m      1\u001b[0m \u001b[38;5;66;03m# Creating instances of Elon and Sundar\u001b[39;00m\n\u001b[1;32m----> 2\u001b[0m person1 \u001b[38;5;241m=\u001b[39m Elon(\u001b[38;5;124m'\u001b[39m\u001b[38;5;124mElon Musk\u001b[39m\u001b[38;5;124m'\u001b[39m)\n\u001b[0;32m      3\u001b[0m person2 \u001b[38;5;241m=\u001b[39m Sundar(\u001b[38;5;124m'\u001b[39m\u001b[38;5;124mSundar Pichai\u001b[39m\u001b[38;5;124m'\u001b[39m)\n\u001b[0;32m      5\u001b[0m \u001b[38;5;66;03m# Function to demonstrate polymorphism\u001b[39;00m\n",
      "\u001b[1;31mTypeError\u001b[0m: Elon() takes no arguments"
     ]
    }
   ],
   "source": [
    "# Creating instances of Elon and Sundar\n",
    "person1 = Elon('Elon Musk')\n",
    "person2 = Sundar('Sundar Pichai')\n",
    "\n",
    "# Function to demonstrate polymorphism\n",
    "def print_person_type(person):\n",
    "    print(f\"{person.name} is a {person.type()}\")\n",
    "\n",
    "# Calling the function with different objects\n",
    "print_person_type(person1)\n",
    "print_person_type(person2)"
   ]
  },
  {
   "cell_type": "code",
   "execution_count": 44,
   "id": "f8e89c51-22c8-493a-85b0-cb0e976daa7e",
   "metadata": {},
   "outputs": [
    {
     "name": "stdout",
     "output_type": "stream",
     "text": [
      "3\n"
     ]
    }
   ],
   "source": [
    "class MyClass:\n",
    "    @staticmethod\n",
    "    def my_function(arg1, arg2):\n",
    "         return arg1 + arg2\n",
    "\n",
    "# You can call it directly using the class name\n",
    "result = MyClass.my_function(1, 2)\n",
    "print(result) # Output: 3"
   ]
  },
  {
   "cell_type": "code",
   "execution_count": 42,
   "id": "2a1b3f8a-1ef1-4486-a02a-46b739da050c",
   "metadata": {},
   "outputs": [
    {
     "name": "stdout",
     "output_type": "stream",
     "text": [
      "3\n"
     ]
    }
   ],
   "source": [
    "class MyClass:\n",
    "     def my_function(arg1, arg2):\n",
    "        return arg1 + arg2\n",
    "\n",
    "# You can call it directly using the class name\n",
    "result = MyClass.my_function(1, 2)\n",
    "print(result) # Output: 3"
   ]
  },
  {
   "cell_type": "code",
   "execution_count": 48,
   "id": "7cdc8c72-2385-48fe-bf17-c7c11c424a5a",
   "metadata": {},
   "outputs": [
    {
     "name": "stdout",
     "output_type": "stream",
     "text": [
      "15\n"
     ]
    }
   ],
   "source": [
    "#using class method\n",
    "class MyClass:\n",
    "    class_variable = 10\n",
    "\n",
    "    @classmethod\n",
    "    def my_function(cls, arg1):\n",
    "        return cls.class_variable + arg1\n",
    "\n",
    "# You can call it directly using the class name\n",
    "result = MyClass.my_function(5)\n",
    "print(result) # Output: 15"
   ]
  },
  {
   "cell_type": "code",
   "execution_count": 49,
   "id": "f466908a-de83-4cbc-990a-227c8c26b6e9",
   "metadata": {},
   "outputs": [
    {
     "ename": "AttributeError",
     "evalue": "'Myclass' object has no attribute 'value'",
     "output_type": "error",
     "traceback": [
      "\u001b[1;31m---------------------------------------------------------------------------\u001b[0m",
      "\u001b[1;31mAttributeError\u001b[0m                            Traceback (most recent call last)",
      "Cell \u001b[1;32mIn[49], line 13\u001b[0m\n\u001b[0;32m     10\u001b[0m instance \u001b[38;5;241m=\u001b[39m Myclass(\u001b[38;5;241m10\u001b[39m)\n\u001b[0;32m     12\u001b[0m \u001b[38;5;66;03m#call the method using the instance\u001b[39;00m\n\u001b[1;32m---> 13\u001b[0m result \u001b[38;5;241m=\u001b[39m instance\u001b[38;5;241m.\u001b[39mmy_function(\u001b[38;5;241m5\u001b[39m)\n\u001b[0;32m     14\u001b[0m \u001b[38;5;28mprint\u001b[39m(result)\n",
      "Cell \u001b[1;32mIn[49], line 7\u001b[0m, in \u001b[0;36mMyclass.my_function\u001b[1;34m(self, arg1)\u001b[0m\n\u001b[0;32m      6\u001b[0m \u001b[38;5;28;01mdef\u001b[39;00m \u001b[38;5;21mmy_function\u001b[39m(\u001b[38;5;28mself\u001b[39m,arg1):\n\u001b[1;32m----> 7\u001b[0m     \u001b[38;5;28;01mreturn\u001b[39;00m \u001b[38;5;28mself\u001b[39m\u001b[38;5;241m.\u001b[39mvalue \u001b[38;5;241m+\u001b[39m arg1\n",
      "\u001b[1;31mAttributeError\u001b[0m: 'Myclass' object has no attribute 'value'"
     ]
    }
   ],
   "source": [
    "#Using Regular Methods\n",
    "class Myclass:\n",
    "    def __init__(self, value):\n",
    "        self.vlaue = value\n",
    "\n",
    "    def my_function(self,arg1):\n",
    "        return self.value + arg1\n",
    "\n",
    "#create an instance of the class\n",
    "instance = Myclass(10)\n",
    "\n",
    "#call the method using the instance\n",
    "result = instance.my_function(5)\n",
    "print(result) #output:15"
   ]
  },
  {
   "cell_type": "code",
   "execution_count": 50,
   "id": "2eddeefd-5669-4490-ba9c-c48bcabf8307",
   "metadata": {},
   "outputs": [
    {
     "name": "stdout",
     "output_type": "stream",
     "text": [
      "10\n"
     ]
    }
   ],
   "source": [
    "#Encapsulation\n",
    "#public member\n",
    "class MyClass:\n",
    "    def __init__(self, value):\n",
    "         self.value = value\n",
    "obj = MyClass(10)\n",
    "print(obj.value) # Output: 10"
   ]
  },
  {
   "cell_type": "code",
   "execution_count": 56,
   "id": "0a0935ab-d0db-48dd-90a4-d6ba1141bf08",
   "metadata": {},
   "outputs": [
    {
     "ename": "AttributeError",
     "evalue": "'MyClass' object has no attribute '_value'",
     "output_type": "error",
     "traceback": [
      "\u001b[1;31m---------------------------------------------------------------------------\u001b[0m",
      "\u001b[1;31mAttributeError\u001b[0m                            Traceback (most recent call last)",
      "Cell \u001b[1;32mIn[56], line 10\u001b[0m\n\u001b[0;32m      7\u001b[0m         \u001b[38;5;28;01mreturn\u001b[39;00m \u001b[38;5;28mself\u001b[39m\u001b[38;5;241m.\u001b[39m_value\n\u001b[0;32m      9\u001b[0m obj \u001b[38;5;241m=\u001b[39m MyClass(\u001b[38;5;241m10\u001b[39m)\n\u001b[1;32m---> 10\u001b[0m \u001b[38;5;28mprint\u001b[39m(obj\u001b[38;5;241m.\u001b[39m_value)\n",
      "\u001b[1;31mAttributeError\u001b[0m: 'MyClass' object has no attribute '_value'"
     ]
    }
   ],
   "source": [
    "#protected member\n",
    "class MyClass:\n",
    "    def __init__(self, value):\n",
    "        self.__value = value\n",
    "\n",
    "    def _protected_method(self):\n",
    "        return self._value\n",
    "\n",
    "obj = MyClass(10)\n",
    "print(obj._value) #Output: 10"
   ]
  },
  {
   "cell_type": "code",
   "execution_count": 57,
   "id": "dfdd10a1-7f69-4c85-8f3c-b637436b6788",
   "metadata": {},
   "outputs": [
    {
     "ename": "AttributeError",
     "evalue": "'MyClass' object has no attribute '_value'",
     "output_type": "error",
     "traceback": [
      "\u001b[1;31m---------------------------------------------------------------------------\u001b[0m",
      "\u001b[1;31mAttributeError\u001b[0m                            Traceback (most recent call last)",
      "Cell \u001b[1;32mIn[57], line 1\u001b[0m\n\u001b[1;32m----> 1\u001b[0m obj\u001b[38;5;241m.\u001b[39m_protected_method()\n",
      "Cell \u001b[1;32mIn[56], line 7\u001b[0m, in \u001b[0;36mMyClass._protected_method\u001b[1;34m(self)\u001b[0m\n\u001b[0;32m      6\u001b[0m \u001b[38;5;28;01mdef\u001b[39;00m \u001b[38;5;21m_protected_method\u001b[39m(\u001b[38;5;28mself\u001b[39m):\n\u001b[1;32m----> 7\u001b[0m     \u001b[38;5;28;01mreturn\u001b[39;00m \u001b[38;5;28mself\u001b[39m\u001b[38;5;241m.\u001b[39m_value\n",
      "\u001b[1;31mAttributeError\u001b[0m: 'MyClass' object has no attribute '_value'"
     ]
    }
   ],
   "source": [
    "obj._protected_method()"
   ]
  },
  {
   "cell_type": "code",
   "execution_count": 58,
   "id": "d03e533c-737a-478a-9504-52a4beebe841",
   "metadata": {},
   "outputs": [
    {
     "name": "stdout",
     "output_type": "stream",
     "text": [
      "10\n"
     ]
    }
   ],
   "source": [
    "#private member\n",
    "class MyClass:\n",
    "    def __init__(self, value):\n",
    "        self.__value = value\n",
    "\n",
    "    def get_value(self):\n",
    "        return self.__value\n",
    "obj = MyClass(10)\n",
    "# print(obj.__value) # This will raise an AttributeError\n",
    "print(obj.get_value()) # Output: 10"
   ]
  },
  {
   "cell_type": "code",
   "execution_count": 59,
   "id": "06a1529c-3889-4180-a37c-5b138705c057",
   "metadata": {},
   "outputs": [
    {
     "ename": "AttributeError",
     "evalue": "'MyClass' object has no attribute '__value'",
     "output_type": "error",
     "traceback": [
      "\u001b[1;31m---------------------------------------------------------------------------\u001b[0m",
      "\u001b[1;31mAttributeError\u001b[0m                            Traceback (most recent call last)",
      "Cell \u001b[1;32mIn[59], line 1\u001b[0m\n\u001b[1;32m----> 1\u001b[0m \u001b[38;5;28mprint\u001b[39m(obj\u001b[38;5;241m.\u001b[39m__value)\n",
      "\u001b[1;31mAttributeError\u001b[0m: 'MyClass' object has no attribute '__value'"
     ]
    }
   ],
   "source": [
    "print(obj.__value)"
   ]
  },
  {
   "cell_type": "code",
   "execution_count": 61,
   "id": "79e72074-0bb6-46bc-aae0-23d7008c06a4",
   "metadata": {},
   "outputs": [
    {
     "ename": "SyntaxError",
     "evalue": "invalid syntax (725934227.py, line 1)",
     "output_type": "error",
     "traceback": [
      "\u001b[1;36m  Cell \u001b[1;32mIn[61], line 1\u001b[1;36m\u001b[0m\n\u001b[1;33m    print(obj._MyClass__value) Output:10\u001b[0m\n\u001b[1;37m                               ^\u001b[0m\n\u001b[1;31mSyntaxError\u001b[0m\u001b[1;31m:\u001b[0m invalid syntax\n"
     ]
    }
   ],
   "source": [
    "print(obj._MyClass__value) Output:10"
   ]
  },
  {
   "cell_type": "code",
   "execution_count": 3,
   "id": "6f87c69d-57b6-4de2-aa7d-2714e2c973e7",
   "metadata": {},
   "outputs": [
    {
     "name": "stdout",
     "output_type": "stream",
     "text": [
      "10\n",
      "20\n"
     ]
    }
   ],
   "source": [
    "#Using  Getter and Setter Methods\n",
    "class MyClass:\n",
    "    def __init__(self,value):\n",
    "        self.__value = value\n",
    "\n",
    "    def get_value(self):\n",
    "        return self.__value\n",
    "\n",
    "    def set_value(self,value):\n",
    "        self.__value = value\n",
    "\n",
    "obj = MyClass(10)\n",
    "print(obj.get_value()) #Output: 10\n",
    "obj.set_value(20)\n",
    "print(obj.get_value()) #Output: 20"
   ]
  },
  {
   "cell_type": "code",
   "execution_count": 15,
   "id": "6e2ca14c-af76-4b21-8465-a0a8d8675c3d",
   "metadata": {},
   "outputs": [
    {
     "ename": "IndentationError",
     "evalue": "unindent does not match any outer indentation level (<tokenize>, line 6)",
     "output_type": "error",
     "traceback": [
      "\u001b[1;36m  File \u001b[1;32m<tokenize>:6\u001b[1;36m\u001b[0m\n\u001b[1;33m    @property\u001b[0m\n\u001b[1;37m    ^\u001b[0m\n\u001b[1;31mIndentationError\u001b[0m\u001b[1;31m:\u001b[0m unindent does not match any outer indentation level\n"
     ]
    }
   ],
   "source": [
    "#Properties\n",
    "class MyClass:\n",
    "    def __init__(self,value):\n",
    "        self.__value = value\n",
    "\n",
    "     @property\n",
    "     def value(self):\n",
    "         return self.__value\n",
    "\n",
    "     @value.setter\n",
    "     def value(self, value):\n",
    "         self.__value = value\n",
    "\n",
    "obj = MyClass(10)\n",
    "print(obj.value) #Output:10\n",
    "obj.value = 20\n",
    "print(obj.value) #Output: 20"
   ]
  },
  {
   "cell_type": "code",
   "execution_count": null,
   "id": "fa54843a-ee78-4e91-8aaf-7b33bed0e164",
   "metadata": {},
   "outputs": [],
   "source": []
  }
 ],
 "metadata": {
  "kernelspec": {
   "display_name": "Python 3 (ipykernel)",
   "language": "python",
   "name": "python3"
  },
  "language_info": {
   "codemirror_mode": {
    "name": "ipython",
    "version": 3
   },
   "file_extension": ".py",
   "mimetype": "text/x-python",
   "name": "python",
   "nbconvert_exporter": "python",
   "pygments_lexer": "ipython3",
   "version": "3.11.7"
  }
 },
 "nbformat": 4,
 "nbformat_minor": 5
}
