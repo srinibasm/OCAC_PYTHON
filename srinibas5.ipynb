{
 "cells": [
  {
   "cell_type": "code",
   "execution_count": 1,
   "id": "bb989b7f-859e-4ce4-b79d-ce92ee7525ad",
   "metadata": {},
   "outputs": [
    {
     "name": "stdout",
     "output_type": "stream",
     "text": [
      "3\n",
      "2\n"
     ]
    }
   ],
   "source": [
    "#count\n",
    "numbers= [3,2,4,5,6,3,5,4,2,2,6]\n",
    "print(numbers.count(2))\n",
    "print(numbers.count(5))"
   ]
  },
  {
   "cell_type": "code",
   "execution_count": 4,
   "id": "4c9bc4fb-279e-4b4b-ad7a-4b775810cbf3",
   "metadata": {},
   "outputs": [
    {
     "name": "stdout",
     "output_type": "stream",
     "text": [
      "[1, 2, 3, 4]\n",
      "[1, 2, 3, 4]\n"
     ]
    }
   ],
   "source": [
    "#copy\n",
    "l1=[1,2,3]\n",
    "l2=l1\n",
    "l2.append(4)\n",
    "print(l1)\n",
    "print(l2)"
   ]
  },
  {
   "cell_type": "code",
   "execution_count": 6,
   "id": "c7635851-536c-48ec-b5e7-84c155eafe0d",
   "metadata": {},
   "outputs": [
    {
     "name": "stdout",
     "output_type": "stream",
     "text": [
      "[2, 4, 6]\n",
      "[2, 4, 6, 8]\n"
     ]
    }
   ],
   "source": [
    "#deep copy\n",
    "l1=[2,4,6]\n",
    "l2=l1.copy()\n",
    "l2.append(8)\n",
    "print(l1)\n",
    "print(l2)"
   ]
  },
  {
   "cell_type": "code",
   "execution_count": 7,
   "id": "cabeccab-cd3f-4e3f-99d3-ff37fee1c3a9",
   "metadata": {},
   "outputs": [
    {
     "data": {
      "text/plain": [
       "1"
      ]
     },
     "execution_count": 7,
     "metadata": {},
     "output_type": "execute_result"
    }
   ],
   "source": [
    "#Index\n",
    "lst=[4,6,8]\n",
    "lst.index(6)"
   ]
  },
  {
   "cell_type": "code",
   "execution_count": 8,
   "id": "6a3ce8be-520c-4d36-bf98-678b0e700aad",
   "metadata": {},
   "outputs": [
    {
     "data": {
      "text/plain": [
       "4"
      ]
     },
     "execution_count": 8,
     "metadata": {},
     "output_type": "execute_result"
    }
   ],
   "source": [
    "##min\n",
    "min(lst)"
   ]
  },
  {
   "cell_type": "code",
   "execution_count": 9,
   "id": "bbe0e948-b0b1-43b4-b5ed-5a60d775e4bb",
   "metadata": {},
   "outputs": [
    {
     "data": {
      "text/plain": [
       "8"
      ]
     },
     "execution_count": 9,
     "metadata": {},
     "output_type": "execute_result"
    }
   ],
   "source": [
    "##max\n",
    "max(lst)"
   ]
  },
  {
   "cell_type": "code",
   "execution_count": 10,
   "id": "fe37450b-b3c3-499e-a9ed-d2ecdcc6e2cd",
   "metadata": {},
   "outputs": [
    {
     "data": {
      "text/plain": [
       "27"
      ]
     },
     "execution_count": 10,
     "metadata": {},
     "output_type": "execute_result"
    }
   ],
   "source": [
    "lst=[2,3,4,5,6,7]\n",
    "sum(lst)"
   ]
  },
  {
   "cell_type": "code",
   "execution_count": 11,
   "id": "3272cc4c-ad69-4558-b83a-377491bea862",
   "metadata": {},
   "outputs": [
    {
     "data": {
      "text/plain": [
       "tuple"
      ]
     },
     "execution_count": 11,
     "metadata": {},
     "output_type": "execute_result"
    }
   ],
   "source": [
    "#Tuple\n",
    "tup1=()\n",
    "type(tup1)"
   ]
  },
  {
   "cell_type": "code",
   "execution_count": 12,
   "id": "b0844947-d1e5-468c-98a6-b29b794a6a9f",
   "metadata": {},
   "outputs": [
    {
     "data": {
      "text/plain": [
       "tuple"
      ]
     },
     "execution_count": 12,
     "metadata": {},
     "output_type": "execute_result"
    }
   ],
   "source": [
    "tup2=tuple()\n",
    "type(tup2)"
   ]
  },
  {
   "cell_type": "code",
   "execution_count": 13,
   "id": "abe02612-5145-4a09-a327-2a1a1ee82ddd",
   "metadata": {},
   "outputs": [
    {
     "data": {
      "text/plain": [
       "(200, 13.5, 'papan')"
      ]
     },
     "execution_count": 13,
     "metadata": {},
     "output_type": "execute_result"
    }
   ],
   "source": [
    "tup3=(200,13.5,'papan')\n",
    "tup3"
   ]
  },
  {
   "cell_type": "code",
   "execution_count": 14,
   "id": "eb1e89bd-2d8b-44b7-a53f-2416be9a1fb0",
   "metadata": {},
   "outputs": [],
   "source": [
    "tup4 = ('papan',22,(55,110),(200,70))"
   ]
  },
  {
   "cell_type": "code",
   "execution_count": 15,
   "id": "9d0a2686-51c6-4411-b36e-b91552abce3a",
   "metadata": {},
   "outputs": [],
   "source": [
    "tup5=('papan',22,[55,110],[200,70],{'john','David'},(99,22,35))\n"
   ]
  },
  {
   "cell_type": "code",
   "execution_count": 17,
   "id": "4d55de18-506b-484b-a40d-3540a7d3a339",
   "metadata": {},
   "outputs": [],
   "source": [
    "tup5[3][0]=300"
   ]
  },
  {
   "cell_type": "code",
   "execution_count": 18,
   "id": "d3e12607-b30c-4eb1-b055-8ce112b4af6a",
   "metadata": {},
   "outputs": [
    {
     "data": {
      "text/plain": [
       "('papan', 22, [55, 110], [300, 70], {'David', 'john'}, (99, 22, 35))"
      ]
     },
     "execution_count": 18,
     "metadata": {},
     "output_type": "execute_result"
    }
   ],
   "source": [
    "tup5"
   ]
  },
  {
   "cell_type": "code",
   "execution_count": 19,
   "id": "b7c27658-bd6f-461a-ab71-16d8e8d08fc3",
   "metadata": {},
   "outputs": [
    {
     "data": {
      "text/plain": [
       "6"
      ]
     },
     "execution_count": 19,
     "metadata": {},
     "output_type": "execute_result"
    }
   ],
   "source": [
    "len(tup5)"
   ]
  },
  {
   "cell_type": "code",
   "execution_count": 20,
   "id": "c9fc5a9f-c846-4d22-aef1-60bff28876e8",
   "metadata": {},
   "outputs": [
    {
     "data": {
      "text/plain": [
       "'papan'"
      ]
     },
     "execution_count": 20,
     "metadata": {},
     "output_type": "execute_result"
    }
   ],
   "source": [
    "#Tuple indexing\n",
    "tup5[0]"
   ]
  },
  {
   "cell_type": "code",
   "execution_count": 21,
   "id": "03f4fc78-2aa3-46d6-a3e2-d2d1a5ea559a",
   "metadata": {},
   "outputs": [
    {
     "data": {
      "text/plain": [
       "300"
      ]
     },
     "execution_count": 21,
     "metadata": {},
     "output_type": "execute_result"
    }
   ],
   "source": [
    "tup5[3][0]"
   ]
  },
  {
   "cell_type": "code",
   "execution_count": 22,
   "id": "033fceff-3905-4b8a-a1db-b3c26b9d7fd3",
   "metadata": {},
   "outputs": [
    {
     "data": {
      "text/plain": [
       "(55, 110)"
      ]
     },
     "execution_count": 22,
     "metadata": {},
     "output_type": "execute_result"
    }
   ],
   "source": [
    "tup4[-2]"
   ]
  },
  {
   "cell_type": "code",
   "execution_count": 23,
   "id": "46cf5167-8a30-447d-84d1-299ea9883703",
   "metadata": {},
   "outputs": [],
   "source": [
    "#Tuple slicing\n",
    "mytuple = ('one','two','three','four','five','six','seven','eight')"
   ]
  },
  {
   "cell_type": "code",
   "execution_count": 24,
   "id": "40285331-49f8-44ed-b054-b8c6699a0866",
   "metadata": {},
   "outputs": [
    {
     "data": {
      "text/plain": [
       "('one', 'two', 'three', 'four')"
      ]
     },
     "execution_count": 24,
     "metadata": {},
     "output_type": "execute_result"
    }
   ],
   "source": [
    "mytuple[0:4]"
   ]
  },
  {
   "cell_type": "code",
   "execution_count": 25,
   "id": "3210cf55-9327-4554-b342-240f51d17b39",
   "metadata": {},
   "outputs": [
    {
     "data": {
      "text/plain": [
       "('one', 'two', 'three', 'four', 'five')"
      ]
     },
     "execution_count": 25,
     "metadata": {},
     "output_type": "execute_result"
    }
   ],
   "source": [
    "mytuple[:5]"
   ]
  },
  {
   "cell_type": "code",
   "execution_count": 26,
   "id": "ff05f599-3e87-4975-911b-4c41f5355855",
   "metadata": {},
   "outputs": [
    {
     "data": {
      "text/plain": [
       "('six', 'seven', 'eight')"
      ]
     },
     "execution_count": 26,
     "metadata": {},
     "output_type": "execute_result"
    }
   ],
   "source": [
    "mytuple[-3:]"
   ]
  },
  {
   "cell_type": "code",
   "execution_count": 28,
   "id": "dcd5221f-fd90-4b98-ade7-a632df3c6e20",
   "metadata": {},
   "outputs": [
    {
     "data": {
      "text/plain": [
       "('one', 'two')"
      ]
     },
     "execution_count": 28,
     "metadata": {},
     "output_type": "execute_result"
    }
   ],
   "source": [
    "mytuple[:2]"
   ]
  },
  {
   "cell_type": "code",
   "execution_count": 29,
   "id": "4d3c18ff-eb0d-4e7e-a071-3a17b348c907",
   "metadata": {},
   "outputs": [
    {
     "data": {
      "text/plain": [
       "('one', 'two', 'three', 'four', 'five', 'six', 'seven', 'eight')"
      ]
     },
     "execution_count": 29,
     "metadata": {},
     "output_type": "execute_result"
    }
   ],
   "source": [
    "#Remove and change item\n",
    "mytuple"
   ]
  },
  {
   "cell_type": "code",
   "execution_count": 30,
   "id": "832b0bc2-9f4a-4489-b36f-b5ce56f128ce",
   "metadata": {},
   "outputs": [
    {
     "ename": "TypeError",
     "evalue": "'tuple' object doesn't support item deletion",
     "output_type": "error",
     "traceback": [
      "\u001b[1;31m---------------------------------------------------------------------------\u001b[0m",
      "\u001b[1;31mTypeError\u001b[0m                                 Traceback (most recent call last)",
      "Cell \u001b[1;32mIn[30], line 1\u001b[0m\n\u001b[1;32m----> 1\u001b[0m \u001b[38;5;28;01mdel\u001b[39;00m mytuple[\u001b[38;5;241m0\u001b[39m]\n",
      "\u001b[1;31mTypeError\u001b[0m: 'tuple' object doesn't support item deletion"
     ]
    }
   ],
   "source": [
    "del mytuple[0]"
   ]
  },
  {
   "cell_type": "code",
   "execution_count": 31,
   "id": "01aa7042-3e92-4372-807f-93f1fbdfda05",
   "metadata": {},
   "outputs": [
    {
     "ename": "TypeError",
     "evalue": "'tuple' object does not support item assignment",
     "output_type": "error",
     "traceback": [
      "\u001b[1;31m---------------------------------------------------------------------------\u001b[0m",
      "\u001b[1;31mTypeError\u001b[0m                                 Traceback (most recent call last)",
      "Cell \u001b[1;32mIn[31], line 1\u001b[0m\n\u001b[1;32m----> 1\u001b[0m mytuple[\u001b[38;5;241m0\u001b[39m] \u001b[38;5;241m=\u001b[39m \u001b[38;5;241m1\u001b[39m\n",
      "\u001b[1;31mTypeError\u001b[0m: 'tuple' object does not support item assignment"
     ]
    }
   ],
   "source": [
    "mytuple[0] = 1"
   ]
  },
  {
   "cell_type": "code",
   "execution_count": 32,
   "id": "17869136-30ed-4a4a-917d-f3b0023d990a",
   "metadata": {},
   "outputs": [
    {
     "ename": "NameError",
     "evalue": "name 'mhytuple' is not defined",
     "output_type": "error",
     "traceback": [
      "\u001b[1;31m---------------------------------------------------------------------------\u001b[0m",
      "\u001b[1;31mNameError\u001b[0m                                 Traceback (most recent call last)",
      "Cell \u001b[1;32mIn[32], line 1\u001b[0m\n\u001b[1;32m----> 1\u001b[0m \u001b[38;5;28;01mdel\u001b[39;00m mhytuple\n",
      "\u001b[1;31mNameError\u001b[0m: name 'mhytuple' is not defined"
     ]
    }
   ],
   "source": [
    "del mhytuple"
   ]
  },
  {
   "cell_type": "code",
   "execution_count": 33,
   "id": "7b0346bf-9cc6-49f9-bc7f-a6475881a03c",
   "metadata": {},
   "outputs": [],
   "source": [
    "#Tuple methods\n",
    "mytuple1= ('one','two','three','four','one','one','two','three')"
   ]
  },
  {
   "cell_type": "code",
   "execution_count": 35,
   "id": "04c78ec2-fbb4-452f-8e91-20f04cad0458",
   "metadata": {},
   "outputs": [
    {
     "data": {
      "text/plain": [
       "3"
      ]
     },
     "execution_count": 35,
     "metadata": {},
     "output_type": "execute_result"
    }
   ],
   "source": [
    "#count\n",
    "mytuple1.count('one')"
   ]
  },
  {
   "cell_type": "code",
   "execution_count": 36,
   "id": "7c9f1af9-4b01-4107-a292-f64ba4aa408c",
   "metadata": {},
   "outputs": [
    {
     "data": {
      "text/plain": [
       "2"
      ]
     },
     "execution_count": 36,
     "metadata": {},
     "output_type": "execute_result"
    }
   ],
   "source": [
    "mytuple1.count('two')"
   ]
  },
  {
   "cell_type": "code",
   "execution_count": 38,
   "id": "135a4601-4ac8-4fc9-b573-a062783fbf39",
   "metadata": {},
   "outputs": [
    {
     "data": {
      "text/plain": [
       "3"
      ]
     },
     "execution_count": 38,
     "metadata": {},
     "output_type": "execute_result"
    }
   ],
   "source": [
    "#Index position\n",
    "mytuple1.index('four')"
   ]
  },
  {
   "cell_type": "code",
   "execution_count": 41,
   "id": "1c9de9f2-8dbc-4ed0-a84c-881af985ef09",
   "metadata": {},
   "outputs": [],
   "source": [
    "#Sorting\n",
    "mytuple2 = (44,67,98,52,80,55)"
   ]
  },
  {
   "cell_type": "code",
   "execution_count": 42,
   "id": "f9265975-9fa8-47a6-910b-b42677ad6952",
   "metadata": {},
   "outputs": [
    {
     "data": {
      "text/plain": [
       "[44, 52, 55, 67, 80, 98]"
      ]
     },
     "execution_count": 42,
     "metadata": {},
     "output_type": "execute_result"
    }
   ],
   "source": [
    "sorted(mytuple2)"
   ]
  },
  {
   "cell_type": "code",
   "execution_count": 46,
   "id": "b07df1f9-69cb-4ae8-9881-bca9f3f81a7e",
   "metadata": {},
   "outputs": [
    {
     "data": {
      "text/plain": [
       "(44, 67, 98, 52, 80, 55)"
      ]
     },
     "execution_count": 46,
     "metadata": {},
     "output_type": "execute_result"
    }
   ],
   "source": [
    "mytuple2"
   ]
  },
  {
   "cell_type": "code",
   "execution_count": 47,
   "id": "deffb9f0-462e-4a65-8d71-d0f0141c2d00",
   "metadata": {},
   "outputs": [],
   "source": [
    "#Tuple membership\n",
    "mytuple = ('one','two','three','four','five','six','seven','eight')"
   ]
  },
  {
   "cell_type": "code",
   "execution_count": 48,
   "id": "8263139c-8cf1-4d76-9150-f2b0e62877da",
   "metadata": {},
   "outputs": [
    {
     "data": {
      "text/plain": [
       "True"
      ]
     },
     "execution_count": 48,
     "metadata": {},
     "output_type": "execute_result"
    }
   ],
   "source": [
    "'one' in mytuple"
   ]
  },
  {
   "cell_type": "code",
   "execution_count": 49,
   "id": "56a014e1-4a19-4536-bd90-676894a0e524",
   "metadata": {},
   "outputs": [
    {
     "data": {
      "text/plain": [
       "False"
      ]
     },
     "execution_count": 49,
     "metadata": {},
     "output_type": "execute_result"
    }
   ],
   "source": [
    "'ten' in mytuple"
   ]
  },
  {
   "cell_type": "code",
   "execution_count": 1,
   "id": "7a931551-8f92-45fb-b180-907077569b4f",
   "metadata": {},
   "outputs": [
    {
     "name": "stdout",
     "output_type": "stream",
     "text": [
      "set()\n",
      "<class 'set'>\n"
     ]
    }
   ],
   "source": [
    "#SETS\n",
    "set_var = set()\n",
    "print(set_var)\n",
    "print(type(set_var))"
   ]
  },
  {
   "cell_type": "code",
   "execution_count": 3,
   "id": "adf3f3bc-64f3-4c6f-a8b7-2900c57e2879",
   "metadata": {},
   "outputs": [
    {
     "name": "stdout",
     "output_type": "stream",
     "text": [
      "{50, 90, 70, 30, 10, 'b'}\n"
     ]
    }
   ],
   "source": [
    "b = {10,30,50,70,90,'b'}\n",
    "print(b)"
   ]
  },
  {
   "cell_type": "code",
   "execution_count": 4,
   "id": "c38f0a3b-7f7a-43b6-be59-129ca92c00ce",
   "metadata": {},
   "outputs": [
    {
     "name": "stdout",
     "output_type": "stream",
     "text": [
      "{40, 10, 20}\n"
     ]
    }
   ],
   "source": [
    "x = {10,20,20,40,40,40}\n",
    "print(x)"
   ]
  },
  {
   "cell_type": "code",
   "execution_count": 5,
   "id": "16105a33-d0ee-4c47-aa7c-e0929450ad75",
   "metadata": {},
   "outputs": [
    {
     "ename": "TypeError",
     "evalue": "'set' object is not subscriptable",
     "output_type": "error",
     "traceback": [
      "\u001b[1;31m---------------------------------------------------------------------------\u001b[0m",
      "\u001b[1;31mTypeError\u001b[0m                                 Traceback (most recent call last)",
      "Cell \u001b[1;32mIn[5], line 1\u001b[0m\n\u001b[1;32m----> 1\u001b[0m \u001b[38;5;28mprint\u001b[39m(x[\u001b[38;5;241m1\u001b[39m])\n",
      "\u001b[1;31mTypeError\u001b[0m: 'set' object is not subscriptable"
     ]
    }
   ],
   "source": [
    "print(x[1])"
   ]
  },
  {
   "cell_type": "code",
   "execution_count": 6,
   "id": "2f9c6628-7579-4fd1-b2e1-905e9f8b8757",
   "metadata": {},
   "outputs": [
    {
     "name": "stdout",
     "output_type": "stream",
     "text": [
      "[1, 2, 3]\n"
     ]
    }
   ],
   "source": [
    "x=list(set([1,2,3,1,2,3,1,2]))\n",
    "print(x)"
   ]
  },
  {
   "cell_type": "code",
   "execution_count": 7,
   "id": "6274d040-fe6d-4c48-9833-cab566bff65e",
   "metadata": {},
   "outputs": [
    {
     "data": {
      "text/plain": [
       "{'a', 'b', 'c'}"
      ]
     },
     "execution_count": 7,
     "metadata": {},
     "output_type": "execute_result"
    }
   ],
   "source": [
    "tup_set = set(('a','b','c'))\n",
    "tup_set"
   ]
  },
  {
   "cell_type": "code",
   "execution_count": 8,
   "id": "961d8d10-1b6d-4ec6-a657-c430e70fa9bc",
   "metadata": {},
   "outputs": [
    {
     "data": {
      "text/plain": [
       "{4, 8, 12, 16}"
      ]
     },
     "execution_count": 8,
     "metadata": {},
     "output_type": "execute_result"
    }
   ],
   "source": [
    "i=set(range(4,20,4))\n",
    "i"
   ]
  },
  {
   "cell_type": "code",
   "execution_count": 9,
   "id": "7594ebff-f682-45f9-9a49-c04a2cd9b2bc",
   "metadata": {},
   "outputs": [
    {
     "data": {
      "text/plain": [
       "set()"
      ]
     },
     "execution_count": 9,
     "metadata": {},
     "output_type": "execute_result"
    }
   ],
   "source": [
    "#set methods\n",
    "d = set()\n",
    "d"
   ]
  },
  {
   "cell_type": "code",
   "execution_count": 10,
   "id": "213b3b3e-6463-4952-a9c0-34bbc5a67b45",
   "metadata": {},
   "outputs": [
    {
     "data": {
      "text/plain": [
       "{4}"
      ]
     },
     "execution_count": 10,
     "metadata": {},
     "output_type": "execute_result"
    }
   ],
   "source": [
    "#add\n",
    "d.add(4)\n",
    "d"
   ]
  },
  {
   "cell_type": "code",
   "execution_count": 11,
   "id": "5af2d19f-9c9d-41ae-b424-4fc5015e8fd7",
   "metadata": {},
   "outputs": [
    {
     "data": {
      "text/plain": [
       "{4, 5, 6, 'x'}"
      ]
     },
     "execution_count": 11,
     "metadata": {},
     "output_type": "execute_result"
    }
   ],
   "source": [
    "d.add(5)\n",
    "d.add(6)\n",
    "d.add('x')\n",
    "d"
   ]
  },
  {
   "cell_type": "code",
   "execution_count": 12,
   "id": "d63f4f26-9372-4564-9310-318ac2e760c8",
   "metadata": {},
   "outputs": [
    {
     "name": "stdout",
     "output_type": "stream",
     "text": [
      "{8, 2, 4, 6}\n"
     ]
    }
   ],
   "source": [
    "#update\n",
    "d=set()\n",
    "d.update([2,4,6,8])\n",
    "print(d)"
   ]
  },
  {
   "cell_type": "code",
   "execution_count": 13,
   "id": "3675f864-33e8-4f73-b15c-f2b1928d088c",
   "metadata": {},
   "outputs": [
    {
     "name": "stdout",
     "output_type": "stream",
     "text": [
      "{2, 4, 6, 8, 10}\n"
     ]
    }
   ],
   "source": [
    "#add list and set\n",
    "d.update([2,4],{6,8,10})\n",
    "print(d)"
   ]
  },
  {
   "cell_type": "code",
   "execution_count": 15,
   "id": "602c4824-34a6-4e1f-a8e1-544b54a6f51f",
   "metadata": {},
   "outputs": [
    {
     "data": {
      "text/plain": [
       "[1, 2, 3]"
      ]
     },
     "execution_count": 15,
     "metadata": {},
     "output_type": "execute_result"
    }
   ],
   "source": [
    "#copy \n",
    "d = x.copy()\n",
    "d"
   ]
  },
  {
   "cell_type": "code",
   "execution_count": 20,
   "id": "2f90b3df-6047-4d7e-9fe4-723ac960d2f1",
   "metadata": {},
   "outputs": [
    {
     "ename": "AttributeError",
     "evalue": "'list' object has no attribute 'add'",
     "output_type": "error",
     "traceback": [
      "\u001b[1;31m---------------------------------------------------------------------------\u001b[0m",
      "\u001b[1;31mAttributeError\u001b[0m                            Traceback (most recent call last)",
      "Cell \u001b[1;32mIn[20], line 1\u001b[0m\n\u001b[1;32m----> 1\u001b[0m d\u001b[38;5;241m.\u001b[39madd(\u001b[38;5;241m6\u001b[39m)\n\u001b[0;32m      2\u001b[0m d\n",
      "\u001b[1;31mAttributeError\u001b[0m: 'list' object has no attribute 'add'"
     ]
    }
   ],
   "source": [
    "d.add(6)\n",
    "d"
   ]
  },
  {
   "cell_type": "code",
   "execution_count": 21,
   "id": "c7882756-19c9-4fe3-b038-f7872f8c4a72",
   "metadata": {},
   "outputs": [
    {
     "data": {
      "text/plain": [
       "[1, 2, 3]"
      ]
     },
     "execution_count": 21,
     "metadata": {},
     "output_type": "execute_result"
    }
   ],
   "source": [
    "x"
   ]
  },
  {
   "cell_type": "code",
   "execution_count": 23,
   "id": "28d494c2-99fe-4117-9fb1-74654372631c",
   "metadata": {},
   "outputs": [
    {
     "name": "stdout",
     "output_type": "stream",
     "text": [
      "{1, 2, 3, 4, 5}\n",
      "{1, 2, 3, 5}\n"
     ]
    }
   ],
   "source": [
    "#delete element from a set\n",
    "s = {1,2,3,4,5,}\n",
    "print(s)\n",
    "s.discard(4)\n",
    "print(s)"
   ]
  },
  {
   "cell_type": "code",
   "execution_count": 24,
   "id": "04008234-5946-45dc-852e-fc7793698874",
   "metadata": {},
   "outputs": [
    {
     "name": "stdout",
     "output_type": "stream",
     "text": [
      "{1, 2, 3, 5}\n"
     ]
    }
   ],
   "source": [
    "s.discard(7)\n",
    "print(s)"
   ]
  },
  {
   "cell_type": "code",
   "execution_count": 25,
   "id": "9adbd67d-edfb-4982-b198-d8be470dbb26",
   "metadata": {},
   "outputs": [
    {
     "name": "stdout",
     "output_type": "stream",
     "text": [
      "{1, 3, 5}\n"
     ]
    }
   ],
   "source": [
    "s.remove(2)\n",
    "print(s)"
   ]
  },
  {
   "cell_type": "code",
   "execution_count": 26,
   "id": "4dfcdaba-6f65-4b0a-b4f0-ac8d602e76b2",
   "metadata": {},
   "outputs": [
    {
     "ename": "KeyError",
     "evalue": "7",
     "output_type": "error",
     "traceback": [
      "\u001b[1;31m---------------------------------------------------------------------------\u001b[0m",
      "\u001b[1;31mKeyError\u001b[0m                                  Traceback (most recent call last)",
      "Cell \u001b[1;32mIn[26], line 1\u001b[0m\n\u001b[1;32m----> 1\u001b[0m s\u001b[38;5;241m.\u001b[39mremove(\u001b[38;5;241m7\u001b[39m)\n",
      "\u001b[1;31mKeyError\u001b[0m: 7"
     ]
    }
   ],
   "source": [
    "s.remove(7)"
   ]
  },
  {
   "cell_type": "code",
   "execution_count": 27,
   "id": "b07d9785-50c5-41f0-aaeb-a31b56892bb6",
   "metadata": {},
   "outputs": [
    {
     "name": "stdout",
     "output_type": "stream",
     "text": [
      "{1, 2, 3, 4, 5, 'papan'}\n"
     ]
    }
   ],
   "source": [
    "s={1,1,2,2,3,3,5,4,'papan','banti'}\n",
    "s.pop()\n",
    "print(s)"
   ]
  },
  {
   "cell_type": "code",
   "execution_count": 28,
   "id": "5f579d52-cf01-4e62-a81f-b695f777a42e",
   "metadata": {},
   "outputs": [
    {
     "name": "stdout",
     "output_type": "stream",
     "text": [
      "set()\n"
     ]
    }
   ],
   "source": [
    "s = {1,5,2,3,7}\n",
    "s.clear()\n",
    "print(s)"
   ]
  },
  {
   "cell_type": "code",
   "execution_count": 29,
   "id": "5a8755f0-61c8-4ee1-a1e4-6d8fda386e5c",
   "metadata": {},
   "outputs": [],
   "source": [
    "s = {1,3,6,8,2}\n",
    "del s"
   ]
  },
  {
   "cell_type": "code",
   "execution_count": 30,
   "id": "6ab9dd22-89c5-42c6-8da0-42f75e1fcc90",
   "metadata": {},
   "outputs": [
    {
     "ename": "NameError",
     "evalue": "name 's' is not defined",
     "output_type": "error",
     "traceback": [
      "\u001b[1;31m---------------------------------------------------------------------------\u001b[0m",
      "\u001b[1;31mNameError\u001b[0m                                 Traceback (most recent call last)",
      "Cell \u001b[1;32mIn[30], line 1\u001b[0m\n\u001b[1;32m----> 1\u001b[0m \u001b[38;5;28mprint\u001b[39m(s)\n",
      "\u001b[1;31mNameError\u001b[0m: name 's' is not defined"
     ]
    }
   ],
   "source": [
    "print(s)"
   ]
  },
  {
   "cell_type": "code",
   "execution_count": 31,
   "id": "0e612eb2-2284-46ec-a380-1144d2a72acb",
   "metadata": {},
   "outputs": [],
   "source": [
    "#set operations Union\n",
    "set1 = {1,2,3,4,5,6}\n",
    "set2 = {4,5,6,7,8,9}"
   ]
  },
  {
   "cell_type": "code",
   "execution_count": 32,
   "id": "81ff17a0-2369-41f3-964d-6bbf7108703c",
   "metadata": {},
   "outputs": [
    {
     "name": "stdout",
     "output_type": "stream",
     "text": [
      "{1, 2, 3, 4, 5, 6, 7, 8, 9}\n"
     ]
    }
   ],
   "source": [
    "print(set1|set2)"
   ]
  },
  {
   "cell_type": "code",
   "execution_count": 33,
   "id": "243ad351-2a6a-473d-93f9-f6379cb44166",
   "metadata": {},
   "outputs": [
    {
     "name": "stdout",
     "output_type": "stream",
     "text": [
      "{1, 2, 3, 4, 5, 6, 7, 8, 9}\n"
     ]
    }
   ],
   "source": [
    "print(set1.union(set2))"
   ]
  },
  {
   "cell_type": "code",
   "execution_count": 34,
   "id": "bb86acc0-534d-4efc-a404-c78d511c2ed5",
   "metadata": {},
   "outputs": [
    {
     "data": {
      "text/plain": [
       "{1, 2, 3, 4, 5, 6}"
      ]
     },
     "execution_count": 34,
     "metadata": {},
     "output_type": "execute_result"
    }
   ],
   "source": [
    "set1"
   ]
  },
  {
   "cell_type": "code",
   "execution_count": 35,
   "id": "105f96d2-32e3-476c-90f1-69fb2f98a1a1",
   "metadata": {},
   "outputs": [
    {
     "data": {
      "text/plain": [
       "{4, 5, 6, 7, 8, 9}"
      ]
     },
     "execution_count": 35,
     "metadata": {},
     "output_type": "execute_result"
    }
   ],
   "source": [
    "set2"
   ]
  },
  {
   "cell_type": "code",
   "execution_count": 36,
   "id": "c7471cce-1e3d-4d65-8cbf-941b0ea22b9b",
   "metadata": {},
   "outputs": [
    {
     "name": "stdout",
     "output_type": "stream",
     "text": [
      "{4, 5, 6}\n"
     ]
    }
   ],
   "source": [
    "#Intersection\n",
    "print(set1 & set2)\n"
   ]
  },
  {
   "cell_type": "code",
   "execution_count": 37,
   "id": "cc9ad712-37d6-4176-abf3-ab0005c51d2c",
   "metadata": {},
   "outputs": [
    {
     "name": "stdout",
     "output_type": "stream",
     "text": [
      "{4, 5, 6}\n"
     ]
    }
   ],
   "source": [
    "print(set1.intersection(set2))"
   ]
  },
  {
   "cell_type": "code",
   "execution_count": 42,
   "id": "784785c0-ce0d-4425-9c98-8fd1e78c67bd",
   "metadata": {},
   "outputs": [
    {
     "name": "stdout",
     "output_type": "stream",
     "text": [
      "{1, 2, 3}\n"
     ]
    }
   ],
   "source": [
    "#difference\n",
    "print(set1 - set2)"
   ]
  },
  {
   "cell_type": "code",
   "execution_count": 47,
   "id": "dcd86d15-2431-4235-ba02-69ba5cd6fb38",
   "metadata": {},
   "outputs": [
    {
     "name": "stdout",
     "output_type": "stream",
     "text": [
      "{1, 2, 3}\n"
     ]
    }
   ],
   "source": [
    "print(set1.difference(set2))"
   ]
  },
  {
   "cell_type": "code",
   "execution_count": 45,
   "id": "d94861e7-c43c-4e95-8973-a6435649642f",
   "metadata": {},
   "outputs": [
    {
     "name": "stdout",
     "output_type": "stream",
     "text": [
      "{8, 9, 7}\n"
     ]
    }
   ],
   "source": [
    "print(set2-set1)"
   ]
  },
  {
   "cell_type": "code",
   "execution_count": 50,
   "id": "6e00ca45-60f3-4c31-94e7-04bd6b6e5c16",
   "metadata": {},
   "outputs": [
    {
     "data": {
      "text/plain": [
       "{1, 2, 3}"
      ]
     },
     "execution_count": 50,
     "metadata": {},
     "output_type": "execute_result"
    }
   ],
   "source": [
    "#Difference_update\n",
    "set1.difference_update(set2)\n",
    "set1"
   ]
  },
  {
   "cell_type": "code",
   "execution_count": 51,
   "id": "abdb9034-f6fd-47f4-9eec-15f3425684cc",
   "metadata": {},
   "outputs": [
    {
     "data": {
      "text/plain": [
       "{4, 5, 6, 7, 8, 9}"
      ]
     },
     "execution_count": 51,
     "metadata": {},
     "output_type": "execute_result"
    }
   ],
   "source": [
    "set2.difference_update(set1)\n",
    "set2"
   ]
  },
  {
   "cell_type": "code",
   "execution_count": 52,
   "id": "81ea5ef9-53f9-4982-8064-d18f11fa339e",
   "metadata": {},
   "outputs": [],
   "source": [
    "#symmetric difference\n",
    "set1 = {2,3,4,5,6}\n",
    "set2 = {1,2,3,8,9,10}"
   ]
  },
  {
   "cell_type": "code",
   "execution_count": 53,
   "id": "ad1e9aac-05e6-4453-86bf-06fd51f85a17",
   "metadata": {},
   "outputs": [
    {
     "name": "stdout",
     "output_type": "stream",
     "text": [
      "{1, 4, 5, 6, 8, 9, 10}\n"
     ]
    }
   ],
   "source": [
    "print(set1^set2)"
   ]
  },
  {
   "cell_type": "code",
   "execution_count": 54,
   "id": "99cb9835-ba7a-4345-8deb-40da2a6b13a9",
   "metadata": {},
   "outputs": [
    {
     "name": "stdout",
     "output_type": "stream",
     "text": [
      "{1, 4, 5, 6, 8, 9, 10}\n"
     ]
    }
   ],
   "source": [
    "print(set1.symmetric_difference(set2))"
   ]
  },
  {
   "cell_type": "code",
   "execution_count": 56,
   "id": "a2b1bc6b-721e-4512-8638-4925441a6609",
   "metadata": {},
   "outputs": [
    {
     "data": {
      "text/plain": [
       "{1, 4, 5, 6, 8, 9, 10}"
      ]
     },
     "execution_count": 56,
     "metadata": {},
     "output_type": "execute_result"
    }
   ],
   "source": [
    "#symmetric_difference_update()\n",
    "set2.symmetric_difference_update(set1)\n",
    "set2"
   ]
  },
  {
   "cell_type": "code",
   "execution_count": 57,
   "id": "155c82f1-4c56-4f79-a003-ff68b9ba7e24",
   "metadata": {},
   "outputs": [],
   "source": [
    "#issubset\n",
    "a = {2,4,6}\n",
    "b = {2,4,6,8}\n"
   ]
  },
  {
   "cell_type": "code",
   "execution_count": 58,
   "id": "6e1667cb-506d-4ec1-8487-454c4dc9765b",
   "metadata": {},
   "outputs": [
    {
     "data": {
      "text/plain": [
       "True"
      ]
     },
     "execution_count": 58,
     "metadata": {},
     "output_type": "execute_result"
    }
   ],
   "source": [
    "a.issubset(a)"
   ]
  },
  {
   "cell_type": "code",
   "execution_count": 59,
   "id": "3a4f2cd0-875b-4995-aaa0-ee1dfbf17098",
   "metadata": {},
   "outputs": [
    {
     "data": {
      "text/plain": [
       "True"
      ]
     },
     "execution_count": 59,
     "metadata": {},
     "output_type": "execute_result"
    }
   ],
   "source": [
    "b.issubset(b)"
   ]
  },
  {
   "cell_type": "code",
   "execution_count": 66,
   "id": "b4808456-e154-4110-9d7d-3ac935c52a9b",
   "metadata": {},
   "outputs": [
    {
     "data": {
      "text/plain": [
       "False"
      ]
     },
     "execution_count": 66,
     "metadata": {},
     "output_type": "execute_result"
    }
   ],
   "source": [
    "b.issubset(a)"
   ]
  },
  {
   "cell_type": "code",
   "execution_count": 61,
   "id": "d837994d-966e-4d09-b631-666f20439fe2",
   "metadata": {},
   "outputs": [
    {
     "data": {
      "text/plain": [
       "True"
      ]
     },
     "execution_count": 61,
     "metadata": {},
     "output_type": "execute_result"
    }
   ],
   "source": [
    "a.issubset(b)"
   ]
  },
  {
   "cell_type": "code",
   "execution_count": 62,
   "id": "3924998c-59f1-42ea-8ac7-256da968f809",
   "metadata": {},
   "outputs": [
    {
     "data": {
      "text/plain": [
       "False"
      ]
     },
     "execution_count": 62,
     "metadata": {},
     "output_type": "execute_result"
    }
   ],
   "source": [
    "#isdisjoint\n",
    "a.isdisjoint(b)"
   ]
  },
  {
   "cell_type": "code",
   "execution_count": 65,
   "id": "0a52452c-e357-4179-81f8-ddc4c117056f",
   "metadata": {},
   "outputs": [
    {
     "data": {
      "text/plain": [
       "dict"
      ]
     },
     "execution_count": 65,
     "metadata": {},
     "output_type": "execute_result"
    }
   ],
   "source": [
    "#Dictionaries\n",
    "dic = {}\n",
    "type(dic)"
   ]
  },
  {
   "cell_type": "raw",
   "id": "3b409af4-35fc-42ea-a797-0b9faddcadf5",
   "metadata": {},
   "source": []
  },
  {
   "cell_type": "code",
   "execution_count": 67,
   "id": "e1337a2f-7f1f-46be-acc5-c8cf7b76e003",
   "metadata": {},
   "outputs": [
    {
     "name": "stdout",
     "output_type": "stream",
     "text": [
      "{}\n"
     ]
    }
   ],
   "source": [
    "print(dic)"
   ]
  },
  {
   "cell_type": "code",
   "execution_count": 71,
   "id": "3152d95c-b39d-4df3-bcc9-bfba9842f38a",
   "metadata": {},
   "outputs": [
    {
     "data": {
      "text/plain": [
       "dict"
      ]
     },
     "execution_count": 71,
     "metadata": {},
     "output_type": "execute_result"
    }
   ],
   "source": [
    "my_dict={\"car1\":\"Audi\" ,\"car2\":\"BMW\",\"car3\":\"Mercidies Benz\"}\n",
    "type(my_dict)"
   ]
  },
  {
   "cell_type": "code",
   "execution_count": 72,
   "id": "5342849a-0a1a-4b45-8b89-394d7f0257d3",
   "metadata": {},
   "outputs": [
    {
     "data": {
      "text/plain": [
       "'Audi'"
      ]
     },
     "execution_count": 72,
     "metadata": {},
     "output_type": "execute_result"
    }
   ],
   "source": [
    "my_dict['car1']"
   ]
  },
  {
   "cell_type": "code",
   "execution_count": 73,
   "id": "4aa20ff6-8faa-4e34-bc2b-93cc2d92b1c7",
   "metadata": {},
   "outputs": [
    {
     "data": {
      "text/plain": [
       "'Mercidies Benz'"
      ]
     },
     "execution_count": 73,
     "metadata": {},
     "output_type": "execute_result"
    }
   ],
   "source": [
    "my_dict['car3']"
   ]
  },
  {
   "cell_type": "code",
   "execution_count": 74,
   "id": "62692757-83df-462a-80b3-925971deb9b9",
   "metadata": {},
   "outputs": [],
   "source": [
    "dict1 = {'key1':555, 'key2':[2,4,6], 'key3':(78,93,7), 'key4':['item1','item2','item3']}"
   ]
  },
  {
   "cell_type": "code",
   "execution_count": 75,
   "id": "282777bb-67f6-4079-bd9d-86471d270564",
   "metadata": {},
   "outputs": [
    {
     "data": {
      "text/plain": [
       "[2, 4, 6]"
      ]
     },
     "execution_count": 75,
     "metadata": {},
     "output_type": "execute_result"
    }
   ],
   "source": [
    "dict1['key2']"
   ]
  },
  {
   "cell_type": "code",
   "execution_count": 76,
   "id": "1c29a890-2abd-4827-a2a2-4b9ca8dbac49",
   "metadata": {},
   "outputs": [
    {
     "data": {
      "text/plain": [
       "dict_keys(['key1', 'key2', 'key3', 'key4'])"
      ]
     },
     "execution_count": 76,
     "metadata": {},
     "output_type": "execute_result"
    }
   ],
   "source": [
    "dict1.keys()"
   ]
  },
  {
   "cell_type": "code",
   "execution_count": 78,
   "id": "b924be9d-7502-4c15-937f-bc0d1bb32875",
   "metadata": {},
   "outputs": [
    {
     "data": {
      "text/plain": [
       "dict_values([555, [2, 4, 6], (78, 93, 7), ['item1', 'item2', 'item3']])"
      ]
     },
     "execution_count": 78,
     "metadata": {},
     "output_type": "execute_result"
    }
   ],
   "source": [
    "dict1.values()"
   ]
  },
  {
   "cell_type": "code",
   "execution_count": 79,
   "id": "3a05b620-679e-423f-b8fa-2aa0cb3f5fd8",
   "metadata": {},
   "outputs": [
    {
     "data": {
      "text/plain": [
       "dict_items([('car1', 'Audi'), ('car2', 'BMW'), ('car3', 'Mercidies Benz')])"
      ]
     },
     "execution_count": 79,
     "metadata": {},
     "output_type": "execute_result"
    }
   ],
   "source": [
    "my_dict.items()"
   ]
  },
  {
   "cell_type": "code",
   "execution_count": 80,
   "id": "7431b420-726a-453a-a73a-e0d8db3cf7fa",
   "metadata": {},
   "outputs": [],
   "source": [
    "my_dict['car4']='audi 2.0'"
   ]
  },
  {
   "cell_type": "code",
   "execution_count": 81,
   "id": "e92ee32c-9cb3-4eef-9dc7-9493ca4845b5",
   "metadata": {},
   "outputs": [
    {
     "data": {
      "text/plain": [
       "{'car1': 'Audi', 'car2': 'BMW', 'car3': 'Mercidies Benz', 'car4': 'audi 2.0'}"
      ]
     },
     "execution_count": 81,
     "metadata": {},
     "output_type": "execute_result"
    }
   ],
   "source": [
    "my_dict"
   ]
  },
  {
   "cell_type": "code",
   "execution_count": 4,
   "id": "4ae3bbe6-a15f-487f-8b5d-ab2eec22b6b9",
   "metadata": {},
   "outputs": [
    {
     "ename": "NameError",
     "evalue": "name 'my_dict' is not defined",
     "output_type": "error",
     "traceback": [
      "\u001b[1;31m---------------------------------------------------------------------------\u001b[0m",
      "\u001b[1;31mNameError\u001b[0m                                 Traceback (most recent call last)",
      "Cell \u001b[1;32mIn[4], line 1\u001b[0m\n\u001b[1;32m----> 1\u001b[0m my_dict[\u001b[38;5;124m'\u001b[39m\u001b[38;5;124mcar1\u001b[39m\u001b[38;5;124m'\u001b[39m]\u001b[38;5;241m=\u001b[39m\u001b[38;5;124m'\u001b[39m\u001b[38;5;124mmaruti\u001b[39m\u001b[38;5;124m'\u001b[39m\n",
      "\u001b[1;31mNameError\u001b[0m: name 'my_dict' is not defined"
     ]
    }
   ],
   "source": [
    "my_dict['car1']='maruti'"
   ]
  },
  {
   "cell_type": "code",
   "execution_count": 5,
   "id": "0d634f80-a812-4191-9590-7778995110f7",
   "metadata": {},
   "outputs": [
    {
     "ename": "NameError",
     "evalue": "name 'my_dict' is not defined",
     "output_type": "error",
     "traceback": [
      "\u001b[1;31m---------------------------------------------------------------------------\u001b[0m",
      "\u001b[1;31mNameError\u001b[0m                                 Traceback (most recent call last)",
      "Cell \u001b[1;32mIn[5], line 1\u001b[0m\n\u001b[1;32m----> 1\u001b[0m my_dict\n",
      "\u001b[1;31mNameError\u001b[0m: name 'my_dict' is not defined"
     ]
    }
   ],
   "source": [
    "my_dict"
   ]
  },
  {
   "cell_type": "code",
   "execution_count": 3,
   "id": "9e3a4fc4-120f-445e-9756-773c6ddec382",
   "metadata": {},
   "outputs": [
    {
     "ename": "NameError",
     "evalue": "name 'car_mode1' is not defined",
     "output_type": "error",
     "traceback": [
      "\u001b[1;31m---------------------------------------------------------------------------\u001b[0m",
      "\u001b[1;31mNameError\u001b[0m                                 Traceback (most recent call last)",
      "Cell \u001b[1;32mIn[3], line 5\u001b[0m\n\u001b[0;32m      3\u001b[0m car2_mode1\u001b[38;5;241m=\u001b[39m{\u001b[38;5;124m'\u001b[39m\u001b[38;5;124mAudi\u001b[39m\u001b[38;5;124m'\u001b[39m:\u001b[38;5;241m1970\u001b[39m}\n\u001b[0;32m      4\u001b[0m car3_mode1\u001b[38;5;241m=\u001b[39m{\u001b[38;5;124m'\u001b[39m\u001b[38;5;124mAmbassador\u001b[39m\u001b[38;5;124m'\u001b[39m:\u001b[38;5;241m1980\u001b[39m}\n\u001b[1;32m----> 5\u001b[0m car_type\u001b[38;5;241m=\u001b[39m{\u001b[38;5;124m'\u001b[39m\u001b[38;5;124mcar1\u001b[39m\u001b[38;5;124m'\u001b[39m:car_mode1,\u001b[38;5;124m'\u001b[39m\u001b[38;5;124mcar2\u001b[39m\u001b[38;5;124m'\u001b[39m:car_mode1,\u001b[38;5;124m'\u001b[39m\u001b[38;5;124mcar3\u001b[39m\u001b[38;5;124m'\u001b[39m:car_mode1}\n",
      "\u001b[1;31mNameError\u001b[0m: name 'car_mode1' is not defined"
     ]
    }
   ],
   "source": [
    "#NestAed Dictionary\n",
    "car1_mode1={'mercedes':1960}\n",
    "car2_mode1={'Audi':1970}\n",
    "car3_mode1={'Ambassador':1980}\n",
    "car_type={'car1':car1_mode1,'car2':car2_mode1,'car3':car3_mode1}"
   ]
  },
  {
   "cell_type": "code",
   "execution_count": 7,
   "id": "db9ff313-65ae-48ef-bc3f-7bfb2991bc86",
   "metadata": {},
   "outputs": [],
   "source": [
    "#NestAed Dictionary\n",
    "car1_mode1={'mercedes':1960}\n",
    "car2_mode1={'Audi':1970}\n",
    "car3_mode1={'Ambassador':1980}\n",
    "car_type={'car1':car1_mode1,'car2':car2_mode1,'car3':car3_mode1}"
   ]
  },
  {
   "cell_type": "code",
   "execution_count": 8,
   "id": "88c4fbfc-2cc8-4c25-8b40-7e3d87de5238",
   "metadata": {},
   "outputs": [
    {
     "name": "stdout",
     "output_type": "stream",
     "text": [
      "{'car1': {'mercedes': 1960}, 'car2': {'Audi': 1970}, 'car3': {'Ambassador': 1980}}\n"
     ]
    }
   ],
   "source": [
    "print(car_type)"
   ]
  },
  {
   "cell_type": "code",
   "execution_count": 10,
   "id": "28916469-68f9-49b0-b66a-38889ab0f7f0",
   "metadata": {},
   "outputs": [
    {
     "name": "stdout",
     "output_type": "stream",
     "text": [
      "{'mercedes': 1960}\n"
     ]
    }
   ],
   "source": [
    "print(car_type['car1'])"
   ]
  },
  {
   "cell_type": "code",
   "execution_count": 12,
   "id": "2913eeeb-2019-4742-be7b-f93a28784805",
   "metadata": {},
   "outputs": [
    {
     "name": "stdout",
     "output_type": "stream",
     "text": [
      "1960\n"
     ]
    }
   ],
   "source": [
    "print(car_type['car1']['mercedes'])"
   ]
  },
  {
   "cell_type": "code",
   "execution_count": 13,
   "id": "0895815c-c37c-4efe-af8a-6fce014ed8c3",
   "metadata": {},
   "outputs": [
    {
     "name": "stdout",
     "output_type": "stream",
     "text": [
      "1960\n"
     ]
    }
   ],
   "source": [
    "print(car_type['car1']['mercedes'])"
   ]
  },
  {
   "cell_type": "code",
   "execution_count": 14,
   "id": "07fd2d26-5ef3-41b4-8963-c9a31962c9f4",
   "metadata": {},
   "outputs": [],
   "source": [
    "marks={'history':45,'Geography':54,'Hindi':56}"
   ]
  },
  {
   "cell_type": "code",
   "execution_count": 15,
   "id": "353d9fd9-5081-4e27-a8e3-74434411bb28",
   "metadata": {},
   "outputs": [
    {
     "data": {
      "text/plain": [
       "{'history': 45, 'Geography': 54, 'Hindi': 56, 'english': 47}"
      ]
     },
     "execution_count": 15,
     "metadata": {},
     "output_type": "execute_result"
    }
   ],
   "source": [
    "#adding elements\n",
    "marks['english']=47\n",
    "marks"
   ]
  },
  {
   "cell_type": "code",
   "execution_count": 17,
   "id": "5f831acf-3589-4b38-ada4-461acc2c0a0c",
   "metadata": {},
   "outputs": [
    {
     "data": {
      "text/plain": [
       "{'history': 45,\n",
       " 'Geography': 54,\n",
       " 'Hindi': 56,\n",
       " 'english': 47,\n",
       " 'chemistry': 89,\n",
       " 'physics': 99}"
      ]
     },
     "execution_count": 17,
     "metadata": {},
     "output_type": "execute_result"
    }
   ],
   "source": [
    "marks.update({'chemistry':89,'physics':99})\n",
    "marks"
   ]
  },
  {
   "cell_type": "code",
   "execution_count": 18,
   "id": "57984bc5-1155-40c1-9cf0-4303ce560b8b",
   "metadata": {},
   "outputs": [
    {
     "data": {
      "text/plain": [
       "{'history': 45,\n",
       " 'Geography': 54,\n",
       " 'Hindi': 64,\n",
       " 'english': 47,\n",
       " 'chemistry': 89,\n",
       " 'physics': 99}"
      ]
     },
     "execution_count": 18,
     "metadata": {},
     "output_type": "execute_result"
    }
   ],
   "source": [
    "marks['Hindi']=64\n",
    "marks"
   ]
  },
  {
   "cell_type": "code",
   "execution_count": 19,
   "id": "2970f0f5-39e7-46f8-beaa-5e1d2c89d001",
   "metadata": {},
   "outputs": [
    {
     "data": {
      "text/plain": [
       "{'history': 45, 'Geography': 54, 'english': 47, 'chemistry': 89, 'physics': 99}"
      ]
     },
     "execution_count": 19,
     "metadata": {},
     "output_type": "execute_result"
    }
   ],
   "source": [
    "del marks['Hindi']\n",
    "marks"
   ]
  },
  {
   "cell_type": "code",
   "execution_count": 30,
   "id": "54278451-b3b8-4010-bbe5-1f5a18684db1",
   "metadata": {},
   "outputs": [],
   "source": [
    "mix_dict = {1:23, 2:'stringvalue','name':['Joe','Jane','papan'],'key4':['person',5,8,13]}"
   ]
  },
  {
   "cell_type": "code",
   "execution_count": 31,
   "id": "a812c801-ac74-4b7e-a1c2-f5a9894f1cf1",
   "metadata": {},
   "outputs": [
    {
     "data": {
      "text/plain": [
       "4"
      ]
     },
     "execution_count": 31,
     "metadata": {},
     "output_type": "execute_result"
    }
   ],
   "source": [
    "len(mix_dict)"
   ]
  },
  {
   "cell_type": "code",
   "execution_count": 33,
   "id": "71151bc2-f0b9-4579-b09a-e51325795f4c",
   "metadata": {},
   "outputs": [
    {
     "data": {
      "text/plain": [
       "['person', 5, 8, 13]"
      ]
     },
     "execution_count": 33,
     "metadata": {},
     "output_type": "execute_result"
    }
   ],
   "source": [
    "mix_dict['key4']"
   ]
  },
  {
   "cell_type": "markdown",
   "id": "80dba06f-b7e5-4f3f-8582-17193d3331cb",
   "metadata": {},
   "source": [
    "mix_dict ['name']"
   ]
  },
  {
   "cell_type": "code",
   "execution_count": 34,
   "id": "125a7e73-0a29-478e-8881-c8a12ec908ae",
   "metadata": {},
   "outputs": [
    {
     "data": {
      "text/plain": [
       "['Joe', 'Jane', 'papan']"
      ]
     },
     "execution_count": 34,
     "metadata": {},
     "output_type": "execute_result"
    }
   ],
   "source": [
    "mix_dict['name']"
   ]
  },
  {
   "cell_type": "code",
   "execution_count": 35,
   "id": "a53f2190-0531-45ad-bdf6-161356578c54",
   "metadata": {},
   "outputs": [
    {
     "data": {
      "text/plain": [
       "'Joe'"
      ]
     },
     "execution_count": 35,
     "metadata": {},
     "output_type": "execute_result"
    }
   ],
   "source": [
    "mix_dict['name'][0]"
   ]
  },
  {
   "cell_type": "code",
   "execution_count": null,
   "id": "3603e363-263f-4e91-b32a-4bedc552df97",
   "metadata": {},
   "outputs": [],
   "source": []
  }
 ],
 "metadata": {
  "kernelspec": {
   "display_name": "Python 3 (ipykernel)",
   "language": "python",
   "name": "python3"
  },
  "language_info": {
   "codemirror_mode": {
    "name": "ipython",
    "version": 3
   },
   "file_extension": ".py",
   "mimetype": "text/x-python",
   "name": "python",
   "nbconvert_exporter": "python",
   "pygments_lexer": "ipython3",
   "version": "3.11.7"
  }
 },
 "nbformat": 4,
 "nbformat_minor": 5
}
