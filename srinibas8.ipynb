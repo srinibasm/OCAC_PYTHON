{
 "cells": [
  {
   "cell_type": "code",
   "execution_count": 1,
   "id": "808d2dc5-5908-4459-b338-414ee7e35a1a",
   "metadata": {},
   "outputs": [
    {
     "data": {
      "text/plain": [
       "200"
      ]
     },
     "execution_count": 1,
     "metadata": {},
     "output_type": "execute_result"
    }
   ],
   "source": [
    "#function\n",
    "#Built-in-function\n",
    "#abs()\n",
    "num = -200\n",
    "abs(num)"
   ]
  },
  {
   "cell_type": "code",
   "execution_count": 2,
   "id": "0f50ae40-c9fc-4070-9568-3e37aa93a243",
   "metadata": {},
   "outputs": [
    {
     "data": {
      "text/plain": [
       "(1, 2)"
      ]
     },
     "execution_count": 2,
     "metadata": {},
     "output_type": "execute_result"
    }
   ],
   "source": [
    "#divmod()\n",
    "divmod(5,3)"
   ]
  },
  {
   "cell_type": "code",
   "execution_count": 3,
   "id": "8cd63a23-a0c8-42d7-9952-c49c0f0569ee",
   "metadata": {},
   "outputs": [],
   "source": [
    "#user define function\n",
    "#define the function\n",
    "def double(num):\n",
    "    return 2 * num"
   ]
  },
  {
   "cell_type": "code",
   "execution_count": 4,
   "id": "9c185541-7275-4530-921e-1029ca150067",
   "metadata": {},
   "outputs": [
    {
     "name": "stdout",
     "output_type": "stream",
     "text": [
      "None\n"
     ]
    }
   ],
   "source": [
    "print(double.__doc__)"
   ]
  },
  {
   "cell_type": "code",
   "execution_count": 6,
   "id": "551e77b1-ef8c-4cd4-a322-87758236f58c",
   "metadata": {},
   "outputs": [
    {
     "data": {
      "text/plain": [
       "40"
      ]
     },
     "execution_count": 6,
     "metadata": {},
     "output_type": "execute_result"
    }
   ],
   "source": [
    "#function call-->once we have defined a function ,we can call it from anywhere\n",
    "double(20)"
   ]
  },
  {
   "cell_type": "code",
   "execution_count": 7,
   "id": "d516f7ce-9959-48ff-96a7-7312f2becb30",
   "metadata": {},
   "outputs": [],
   "source": [
    "#define the function\n",
    "def double(num):\n",
    "    return 2*int(num)\n",
    "    "
   ]
  },
  {
   "cell_type": "code",
   "execution_count": 8,
   "id": "6baaa633-d93c-4f0b-be96-5c2f88619d60",
   "metadata": {},
   "outputs": [
    {
     "data": {
      "text/plain": [
       "20"
      ]
     },
     "execution_count": 8,
     "metadata": {},
     "output_type": "execute_result"
    }
   ],
   "source": [
    "#function call-->once we have defined a function ,we can call it from anywhere\n",
    "double(10.7)"
   ]
  },
  {
   "cell_type": "code",
   "execution_count": 9,
   "id": "312fbb76-23d1-480d-91e7-dbc296304498",
   "metadata": {},
   "outputs": [
    {
     "data": {
      "text/plain": [
       "2"
      ]
     },
     "execution_count": 9,
     "metadata": {},
     "output_type": "execute_result"
    }
   ],
   "source": [
    "def sub(num1,num2):\n",
    "    return num1-num2\n",
    "\n",
    "sub(4,2)"
   ]
  },
  {
   "cell_type": "code",
   "execution_count": 11,
   "id": "d2c61b19-5838-4823-abaf-bb256d1ae918",
   "metadata": {},
   "outputs": [],
   "source": [
    "def print_name(a):\n",
    "    print(\"Hello\",a)"
   ]
  },
  {
   "cell_type": "code",
   "execution_count": 12,
   "id": "0ba7f08f-f6e4-4cc0-8d66-4c5e7f1de7f1",
   "metadata": {},
   "outputs": [
    {
     "name": "stdout",
     "output_type": "stream",
     "text": [
      "Hello papan\n"
     ]
    }
   ],
   "source": [
    "print_name(\"papan\")"
   ]
  },
  {
   "cell_type": "code",
   "execution_count": 13,
   "id": "030bd661-9597-495d-b1da-435f9f87d254",
   "metadata": {},
   "outputs": [
    {
     "name": "stdout",
     "output_type": "stream",
     "text": [
      "Hello 222\n"
     ]
    }
   ],
   "source": [
    "print_name(222)"
   ]
  },
  {
   "cell_type": "code",
   "execution_count": 14,
   "id": "3b25148f-4fa3-4faf-bc7e-7684a7e53bbf",
   "metadata": {},
   "outputs": [
    {
     "data": {
      "text/plain": [
       "20"
      ]
     },
     "execution_count": 14,
     "metadata": {},
     "output_type": "execute_result"
    }
   ],
   "source": [
    "def get_sum(lst):\n",
    "    sum = 0\n",
    "    for num in lst:\n",
    "        sum += num\n",
    "    return sum\n",
    "\n",
    "get_sum([2,4,6,8])"
   ]
  },
  {
   "cell_type": "code",
   "execution_count": 17,
   "id": "65f9562a-d6e3-4ae5-a8f0-d5efc73c9643",
   "metadata": {},
   "outputs": [
    {
     "name": "stdout",
     "output_type": "stream",
     "text": [
      "4\n",
      "8\n",
      "16\n",
      "20\n",
      "28\n"
     ]
    }
   ],
   "source": [
    "def num_4_6(i):\n",
    "    for num in range(1,i):\n",
    "        if num%4 == 0 and num%6!=0:\n",
    "            print(num)\n",
    "\n",
    "num_4_6(30)"
   ]
  },
  {
   "cell_type": "code",
   "execution_count": 1,
   "id": "07d2a46d-ba73-404b-9a26-0a42746182a3",
   "metadata": {},
   "outputs": [
    {
     "name": "stdout",
     "output_type": "stream",
     "text": [
      "12 9\n"
     ]
    }
   ],
   "source": [
    "lst= [1,2,3,4,5,6]\n",
    "\n",
    "even_sum=0\n",
    "odd_sum=0\n",
    "for i in lst:\n",
    "    if i%2==0:\n",
    "        even_sum=even_sum+i\n",
    "    else:\n",
    "        odd_sum=odd_sum+i\n",
    "\n",
    "print(even_sum,odd_sum)"
   ]
  },
  {
   "cell_type": "code",
   "execution_count": 1,
   "id": "b4db362f-905e-40f8-a736-fbe8ca7fe00c",
   "metadata": {},
   "outputs": [],
   "source": [
    "#define the function\n",
    "def f_n(l):\n",
    "    even_sum=0\n",
    "    odd_sum=0\n",
    "    for i in l:\n",
    "        if i%2==0:\n",
    "            even_sum=even_sum+i\n",
    "        else:\n",
    "            odd_sum=odd_sum+i\n",
    "\n",
    "    print(even_sum,odd_sum)\n",
    "      "
   ]
  },
  {
   "cell_type": "code",
   "execution_count": 2,
   "id": "606d660b-1fb0-45d4-b0aa-3972cd296ce6",
   "metadata": {},
   "outputs": [
    {
     "name": "stdout",
     "output_type": "stream",
     "text": [
      "6 9\n"
     ]
    }
   ],
   "source": [
    "#function call\n",
    "f_n([1,2,3,4,5])"
   ]
  },
  {
   "cell_type": "code",
   "execution_count": 4,
   "id": "62b458db-d4e6-461f-895a-c08b985999cd",
   "metadata": {},
   "outputs": [
    {
     "name": "stdout",
     "output_type": "stream",
     "text": [
      "Hello papan , Good Morning\n"
     ]
    }
   ],
   "source": [
    "#function Arguements\n",
    "def greet(name,msg):\n",
    "    print(\"Hello {} , {}\".format(name, msg))\n",
    "          \n",
    "#call the function with arguemnts\n",
    "greet(\"papan\",\"Good Morning\")\n",
    "\n",
    "        "
   ]
  },
  {
   "cell_type": "code",
   "execution_count": 5,
   "id": "84999909-4fba-4e58-8c8b-08adc89855d1",
   "metadata": {},
   "outputs": [
    {
     "ename": "TypeError",
     "evalue": "greet() missing 1 required positional argument: 'msg'",
     "output_type": "error",
     "traceback": [
      "\u001b[1;31m---------------------------------------------------------------------------\u001b[0m",
      "\u001b[1;31mTypeError\u001b[0m                                 Traceback (most recent call last)",
      "Cell \u001b[1;32mIn[5], line 2\u001b[0m\n\u001b[0;32m      1\u001b[0m \u001b[38;5;66;03m#suppose if we pass one arguement\u001b[39;00m\n\u001b[1;32m----> 2\u001b[0m greet(\u001b[38;5;124m\"\u001b[39m\u001b[38;5;124mpapan\u001b[39m\u001b[38;5;124m\"\u001b[39m)\n",
      "\u001b[1;31mTypeError\u001b[0m: greet() missing 1 required positional argument: 'msg'"
     ]
    }
   ],
   "source": [
    "#suppose if we pass one arguement\n",
    "greet(\"papan\")#will get an error"
   ]
  },
  {
   "cell_type": "code",
   "execution_count": 7,
   "id": "a349775d-0bef-4a7e-aad0-86a8b521ecd4",
   "metadata": {},
   "outputs": [
    {
     "ename": "SyntaxError",
     "evalue": "invalid decimal literal (3109969849.py, line 2)",
     "output_type": "error",
     "traceback": [
      "\u001b[1;36m  Cell \u001b[1;32mIn[7], line 2\u001b[1;36m\u001b[0m\n\u001b[1;33m    1.Function with No Arguements\u001b[0m\n\u001b[1;37m     ^\u001b[0m\n\u001b[1;31mSyntaxError\u001b[0m\u001b[1;31m:\u001b[0m invalid decimal literal\n"
     ]
    }
   ],
   "source": [
    "#Different forms of Arguements\n",
    "1.Function with No Arguements\n",
    "def even_num():\n",
    "    lb=int(input('enter lower bound values:'))\n",
    "    ub=int(input('enter upper bound values:'))\n",
    "    for i in range(lb,ub+1):\n",
    "        if i%2==0:\n",
    "            print(i)"
   ]
  },
  {
   "cell_type": "code",
   "execution_count": 8,
   "id": "8591d20f-826e-47dd-a146-990993ada5e7",
   "metadata": {},
   "outputs": [],
   "source": [
    "def even_num():\n",
    "    lb=int(input('enter lower bound values:'))\n",
    "    ub=int(input('enter upper bound values:'))\n",
    "    for i in range(lb,ub+1):\n",
    "        if i%2==0:\n",
    "            print(i)"
   ]
  },
  {
   "cell_type": "code",
   "execution_count": 9,
   "id": "b5d82691-e072-4498-af9d-33d5b60882b1",
   "metadata": {},
   "outputs": [
    {
     "name": "stdin",
     "output_type": "stream",
     "text": [
      "enter lower bound values: 10\n",
      "enter upper bound values: 50\n"
     ]
    },
    {
     "name": "stdout",
     "output_type": "stream",
     "text": [
      "10\n",
      "12\n",
      "14\n",
      "16\n",
      "18\n",
      "20\n",
      "22\n",
      "24\n",
      "26\n",
      "28\n",
      "30\n",
      "32\n",
      "34\n",
      "36\n",
      "38\n",
      "40\n",
      "42\n",
      "44\n",
      "46\n",
      "48\n",
      "50\n"
     ]
    }
   ],
   "source": [
    "even_num()"
   ]
  },
  {
   "cell_type": "code",
   "execution_count": 12,
   "id": "b8936cb1-df31-4c7f-aaea-30c9df24d132",
   "metadata": {},
   "outputs": [
    {
     "name": "stdout",
     "output_type": "stream",
     "text": [
      "Hello papan , Good Night\n"
     ]
    }
   ],
   "source": [
    "#Default Arguments\n",
    "def greet(name,msg=\"Good Morning\"):\n",
    "    print(\"Hello {} , {}\".format(name,msg))\n",
    "\n",
    "greet(\"papan\",\"Good Night\")"
   ]
  },
  {
   "cell_type": "code",
   "execution_count": 13,
   "id": "fe918976-e5eb-478c-8321-804e1250e598",
   "metadata": {},
   "outputs": [
    {
     "name": "stdout",
     "output_type": "stream",
     "text": [
      "Hello papan , Good Morning\n"
     ]
    }
   ],
   "source": [
    "#with out msg argument\n",
    "greet(\"papan\")"
   ]
  },
  {
   "cell_type": "code",
   "execution_count": 15,
   "id": "322b9306-f8f3-43d1-b778-14cf79e3097e",
   "metadata": {},
   "outputs": [
    {
     "name": "stdout",
     "output_type": "stream",
     "text": [
      "Hello milon , Good Evening\n"
     ]
    }
   ],
   "source": [
    "#keyword arguments\n",
    "def greet(**kwargs):\n",
    "    if kwargs:\n",
    "        print(\"Hello {} , {}\".format(kwargs['name'],kwargs['msg']))\n",
    "greet(name=\"milon\" , msg=\"Good Evening\")"
   ]
  },
  {
   "cell_type": "code",
   "execution_count": 16,
   "id": "fee73c7b-fd7b-41c3-97e1-77fcd9c2f345",
   "metadata": {},
   "outputs": [],
   "source": [
    "\n",
    "def greet(*names):\n",
    "    print(names)\n",
    "    for name in names:\n",
    "        print(\"Hello, {0} \".format(name))"
   ]
  },
  {
   "cell_type": "code",
   "execution_count": 25,
   "id": "5e8aa2dd-1827-410d-bb78-c116eb897fec",
   "metadata": {},
   "outputs": [
    {
     "ename": "NameError",
     "evalue": "name 'names' is not defined",
     "output_type": "error",
     "traceback": [
      "\u001b[1;31m---------------------------------------------------------------------------\u001b[0m",
      "\u001b[1;31mNameError\u001b[0m                                 Traceback (most recent call last)",
      "Cell \u001b[1;32mIn[25], line 1\u001b[0m\n\u001b[1;32m----> 1\u001b[0m greet(\u001b[38;5;124m\"\u001b[39m\u001b[38;5;124msatish\u001b[39m\u001b[38;5;124m\"\u001b[39m , \u001b[38;5;124m\"\u001b[39m\u001b[38;5;124mpapan\u001b[39m\u001b[38;5;124m\"\u001b[39m)\n",
      "Cell \u001b[1;32mIn[16], line 3\u001b[0m, in \u001b[0;36mgreet\u001b[1;34m(*nammes)\u001b[0m\n\u001b[0;32m      2\u001b[0m \u001b[38;5;28;01mdef\u001b[39;00m \u001b[38;5;21mgreet\u001b[39m(\u001b[38;5;241m*\u001b[39mnammes):\n\u001b[1;32m----> 3\u001b[0m     \u001b[38;5;28mprint\u001b[39m(names)\n\u001b[0;32m      4\u001b[0m     \u001b[38;5;28;01mfor\u001b[39;00m name \u001b[38;5;129;01min\u001b[39;00m names:\n\u001b[0;32m      5\u001b[0m         \u001b[38;5;28mprint\u001b[39m(\u001b[38;5;124m\"\u001b[39m\u001b[38;5;124mHello, \u001b[39m\u001b[38;5;132;01m{0}\u001b[39;00m\u001b[38;5;124m\"\u001b[39m\u001b[38;5;241m.\u001b[39mformat(name))\n",
      "\u001b[1;31mNameError\u001b[0m: name 'names' is not defined"
     ]
    }
   ],
   "source": [
    "greet(\"satish\" , \"papan\")"
   ]
  },
  {
   "cell_type": "code",
   "execution_count": 26,
   "id": "c02b9f3c-d445-44f0-8fb9-185dc47671f4",
   "metadata": {},
   "outputs": [],
   "source": [
    "def greet(*names):\n",
    "    print(names)\n",
    "    for name in names:\n",
    "        print(\"Hello, {0} \".format(name))"
   ]
  },
  {
   "cell_type": "code",
   "execution_count": 27,
   "id": "26c9ced8-cead-45bc-ae56-dd37dbd785ea",
   "metadata": {},
   "outputs": [
    {
     "name": "stdout",
     "output_type": "stream",
     "text": [
      "('satish', 'papan')\n",
      "Hello, satish \n",
      "Hello, papan \n"
     ]
    }
   ],
   "source": [
    "greet(\"satish\" , \"papan\")"
   ]
  },
  {
   "cell_type": "code",
   "execution_count": 28,
   "id": "b0db4547-ceac-4adc-811e-fe68d7a3bea0",
   "metadata": {},
   "outputs": [],
   "source": [
    "#Recussive function or Recursion\n",
    "#python program to print factorial of a number using recursion\n",
    "\n",
    "def factorial(num):\n",
    "    if num==0:\n",
    "        return 1\n",
    "    else:\n",
    "        return num * factorial(num-1)"
   ]
  },
  {
   "cell_type": "code",
   "execution_count": 29,
   "id": "97400632-c9ab-49fa-a681-ec7fe31fcf6b",
   "metadata": {},
   "outputs": [
    {
     "name": "stdout",
     "output_type": "stream",
     "text": [
      "Factorial of 4 is 24\n"
     ]
    }
   ],
   "source": [
    "num=4\n",
    "print(\"Factorial of {} is {}\".format(num,factorial(num)))"
   ]
  },
  {
   "cell_type": "code",
   "execution_count": 34,
   "id": "2c4b834a-cd26-4449-89e8-ba35223fb2e5",
   "metadata": {},
   "outputs": [
    {
     "name": "stdout",
     "output_type": "stream",
     "text": [
      "select option\n",
      "1. Additon\n",
      "2. Subtraction\n",
      "3. Multiplication\n",
      "4. Division\n"
     ]
    },
    {
     "name": "stdin",
     "output_type": "stream",
     "text": [
      "Enter choice 1/2/3/4:   3\n",
      "Enter the first number:  5\n",
      "Enter the second number:  6\n"
     ]
    },
    {
     "name": "stdout",
     "output_type": "stream",
     "text": [
      "Multiplication of 5 and 5 is 30\n"
     ]
    }
   ],
   "source": [
    "#python program to make a simple calculater that can add,subtract,multiply and division\n",
    "def add(a, b):\n",
    "    return a+b\n",
    "\n",
    "def subtract(a, b):\n",
    "    return a-b\n",
    "\n",
    "def multiply(a, b):\n",
    "    return a*b\n",
    "\n",
    "def division(a, b):\n",
    "    return a/b\n",
    "\n",
    "print(\"select option\")\n",
    "print(\"1. Additon\")\n",
    "print(\"2. Subtraction\")\n",
    "print(\"3. Multiplication\")\n",
    "print(\"4. Division\")\n",
    "\n",
    "#take input from user\n",
    "choice = int(input(\"Enter choice 1/2/3/4:  \"))\n",
    "\n",
    "num1 = int(input(\"Enter the first number: \"))\n",
    "num2 = int(input(\"Enter the second number: \"))\n",
    "if choice== 1:\n",
    "    print(\"Addition of {} and {} is {}\".format(num1,num2, add(num1, num2)))\n",
    "elif choice== 2:\n",
    "    print(\"Substraction of {} and {} is {}\".format(num1,num2, substract(num1, num2)))\n",
    "elif choice== 3:\n",
    "    print(\"Multiplication of {} and {} is {}\".format(num1, num1, multiply(num1, num2)))\n",
    "elif choice== 4:\n",
    "    print(\"Division of {} and {} is {}\".format(num1, num2, division(num1, num2)))\n",
    "else:\n",
    "    print(\"Invalid choice\")"
   ]
  },
  {
   "cell_type": "code",
   "execution_count": null,
   "id": "9265893f-152f-4182-a707-fc2f14784179",
   "metadata": {},
   "outputs": [],
   "source": []
  }
 ],
 "metadata": {
  "kernelspec": {
   "display_name": "Python 3 (ipykernel)",
   "language": "python",
   "name": "python3"
  },
  "language_info": {
   "codemirror_mode": {
    "name": "ipython",
    "version": 3
   },
   "file_extension": ".py",
   "mimetype": "text/x-python",
   "name": "python",
   "nbconvert_exporter": "python",
   "pygments_lexer": "ipython3",
   "version": "3.11.7"
  }
 },
 "nbformat": 4,
 "nbformat_minor": 5
}
