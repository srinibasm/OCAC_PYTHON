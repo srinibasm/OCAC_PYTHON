{
 "cells": [
  {
   "cell_type": "code",
   "execution_count": 1,
   "id": "88fee83e-4b60-46d8-9d50-4525a4ca697e",
   "metadata": {},
   "outputs": [
    {
     "name": "stdout",
     "output_type": "stream",
     "text": [
      "50\n",
      "-10\n",
      "600\n",
      "0.6666666666666666\n",
      "20\n",
      "0\n",
      "1073741824000000000000000000000000000000\n"
     ]
    }
   ],
   "source": [
    "#Arithmatic operators\n",
    "a=20\n",
    "b=30\n",
    "print(a+b)\n",
    "print(a-b)\n",
    "print(a*b)\n",
    "print(a/b)\n",
    "print(a%b)\n",
    "print(a//b)\n",
    "0print(a**b)"
   ]
  },
  {
   "cell_type": "code",
   "execution_count": 2,
   "id": "d5acdc08-8d9a-4d68-94e0-e75ca0118b80",
   "metadata": {},
   "outputs": [
    {
     "data": {
      "text/plain": [
       "33.33333333333333"
      ]
     },
     "execution_count": 2,
     "metadata": {},
     "output_type": "execute_result"
    }
   ],
   "source": [
    "(20+30)*(20/30)"
   ]
  },
  {
   "cell_type": "code",
   "execution_count": 3,
   "id": "bdd92c4c-b68d-4efe-a260-b9eaad05deaf",
   "metadata": {},
   "outputs": [
    {
     "data": {
      "text/plain": [
       "20.0"
      ]
     },
     "execution_count": 3,
     "metadata": {},
     "output_type": "execute_result"
    }
   ],
   "source": [
    "a-b*a/b+a"
   ]
  },
  {
   "cell_type": "code",
   "execution_count": 4,
   "id": "4d87c545-d40f-4d80-b50e-4aae52d98dac",
   "metadata": {},
   "outputs": [
    {
     "data": {
      "text/plain": [
       "5.0"
      ]
     },
     "execution_count": 4,
     "metadata": {},
     "output_type": "execute_result"
    }
   ],
   "source": [
    "8//3*3/2+10%2**2"
   ]
  },
  {
   "cell_type": "code",
   "execution_count": 5,
   "id": "008342ea-13f1-4d27-87f5-b7cc64c68c78",
   "metadata": {},
   "outputs": [
    {
     "data": {
      "text/plain": [
       "16"
      ]
     },
     "execution_count": 5,
     "metadata": {},
     "output_type": "execute_result"
    }
   ],
   "source": [
    "(2*(2+6))"
   ]
  },
  {
   "cell_type": "code",
   "execution_count": 11,
   "id": "e336f96e-9878-493f-90b0-5c13e49c97b1",
   "metadata": {},
   "outputs": [
    {
     "data": {
      "text/plain": [
       "False"
      ]
     },
     "execution_count": 11,
     "metadata": {},
     "output_type": "execute_result"
    }
   ],
   "source": [
    "#comparision operator\n",
    "(3>4)"
   ]
  },
  {
   "cell_type": "code",
   "execution_count": 10,
   "id": "b5472e36-8da5-4228-8b33-c026fbd9a083",
   "metadata": {},
   "outputs": [
    {
     "data": {
      "text/plain": [
       "True"
      ]
     },
     "execution_count": 10,
     "metadata": {},
     "output_type": "execute_result"
    }
   ],
   "source": [
    "(2>1)"
   ]
  },
  {
   "cell_type": "code",
   "execution_count": 8,
   "id": "7aa9da93-c25d-4a03-ac63-b58bfca63573",
   "metadata": {},
   "outputs": [
    {
     "data": {
      "text/plain": [
       "False"
      ]
     },
     "execution_count": 8,
     "metadata": {},
     "output_type": "execute_result"
    }
   ],
   "source": [
    "3*3 <4*2"
   ]
  },
  {
   "cell_type": "code",
   "execution_count": 9,
   "id": "35922921-ae81-43ab-bd5d-b2dc95078476",
   "metadata": {},
   "outputs": [
    {
     "data": {
      "text/plain": [
       "False"
      ]
     },
     "execution_count": 9,
     "metadata": {},
     "output_type": "execute_result"
    }
   ],
   "source": [
    "4!=4\n"
   ]
  },
  {
   "cell_type": "code",
   "execution_count": 12,
   "id": "0530940e-1f3b-4e1d-ba8c-40987b18d3d8",
   "metadata": {},
   "outputs": [
    {
     "data": {
      "text/plain": [
       "True"
      ]
     },
     "execution_count": 12,
     "metadata": {},
     "output_type": "execute_result"
    }
   ],
   "source": [
    "1>=1"
   ]
  },
  {
   "cell_type": "code",
   "execution_count": 13,
   "id": "3ca40c78-9ead-4976-98e7-8846f552400b",
   "metadata": {},
   "outputs": [
    {
     "data": {
      "text/plain": [
       "True"
      ]
     },
     "execution_count": 13,
     "metadata": {},
     "output_type": "execute_result"
    }
   ],
   "source": [
    "45==45.0"
   ]
  },
  {
   "cell_type": "code",
   "execution_count": 14,
   "id": "15b62ad3-ff3e-46fe-bcf1-23f99b0e246f",
   "metadata": {},
   "outputs": [
    {
     "data": {
      "text/plain": [
       "'0b1100100'"
      ]
     },
     "execution_count": 14,
     "metadata": {},
     "output_type": "execute_result"
    }
   ],
   "source": [
    "#Bitwise operator\n",
    "bin(100)"
   ]
  },
  {
   "cell_type": "code",
   "execution_count": 15,
   "id": "2c73085a-d3dd-429f-afc6-072436a52172",
   "metadata": {},
   "outputs": [
    {
     "data": {
      "text/plain": [
       "37"
      ]
     },
     "execution_count": 15,
     "metadata": {},
     "output_type": "execute_result"
    }
   ],
   "source": [
    "0b100101"
   ]
  },
  {
   "cell_type": "code",
   "execution_count": 16,
   "id": "6665a802-0810-4ba9-b853-b2a2065c41ff",
   "metadata": {},
   "outputs": [
    {
     "name": "stdout",
     "output_type": "stream",
     "text": [
      "1\n"
     ]
    }
   ],
   "source": [
    "#Bitwise or\n",
    "a=3 #0 1 1\n",
    "b=5 #1 0 1\n",
    "print(a & b) #0 0 1 result\n"
   ]
  },
  {
   "cell_type": "code",
   "execution_count": 17,
   "id": "c06e7088-bb99-4c03-babb-24342863783a",
   "metadata": {},
   "outputs": [
    {
     "data": {
      "text/plain": [
       "15"
      ]
     },
     "execution_count": 17,
     "metadata": {},
     "output_type": "execute_result"
    }
   ],
   "source": [
    "7|9"
   ]
  },
  {
   "cell_type": "code",
   "execution_count": 18,
   "id": "5e674d9a-3392-4bd4-9bc6-c3091f0f38dd",
   "metadata": {},
   "outputs": [
    {
     "data": {
      "text/plain": [
       "1"
      ]
     },
     "execution_count": 18,
     "metadata": {},
     "output_type": "execute_result"
    }
   ],
   "source": [
    "7&9\n"
   ]
  },
  {
   "cell_type": "code",
   "execution_count": 19,
   "id": "997f2f52-66b4-4d4f-90f1-7b20c42f9b8f",
   "metadata": {},
   "outputs": [
    {
     "data": {
      "text/plain": [
       "True"
      ]
     },
     "execution_count": 19,
     "metadata": {},
     "output_type": "execute_result"
    }
   ],
   "source": [
    "#Logical operator\n",
    "(2>3)or (3>2)"
   ]
  },
  {
   "cell_type": "code",
   "execution_count": 20,
   "id": "c4fa8951-0367-4897-a94c-d3fa22dbd701",
   "metadata": {},
   "outputs": [
    {
     "data": {
      "text/plain": [
       "True"
      ]
     },
     "execution_count": 20,
     "metadata": {},
     "output_type": "execute_result"
    }
   ],
   "source": [
    "(3>1)and(4>2)"
   ]
  },
  {
   "cell_type": "code",
   "execution_count": 21,
   "id": "8da935d5-e148-43c9-9c07-c66fe2033ee6",
   "metadata": {},
   "outputs": [
    {
     "data": {
      "text/plain": [
       "False"
      ]
     },
     "execution_count": 21,
     "metadata": {},
     "output_type": "execute_result"
    }
   ],
   "source": [
    "not True"
   ]
  },
  {
   "cell_type": "code",
   "execution_count": 22,
   "id": "41f59b00-92bd-4158-8b55-ef5fb21b1911",
   "metadata": {},
   "outputs": [
    {
     "data": {
      "text/plain": [
       "True"
      ]
     },
     "execution_count": 22,
     "metadata": {},
     "output_type": "execute_result"
    }
   ],
   "source": [
    "not False"
   ]
  },
  {
   "cell_type": "code",
   "execution_count": 23,
   "id": "22f3dd1c-ad2a-464e-9c67-f99646933e64",
   "metadata": {},
   "outputs": [
    {
     "data": {
      "text/plain": [
       "True"
      ]
     },
     "execution_count": 23,
     "metadata": {},
     "output_type": "execute_result"
    }
   ],
   "source": [
    "my_str='papan'\n",
    "my_str.isalpha() or str_example.isnum()"
   ]
  },
  {
   "cell_type": "code",
   "execution_count": 24,
   "id": "ba7e15c3-fdac-41d1-ba0a-3fbec07a874f",
   "metadata": {},
   "outputs": [
    {
     "data": {
      "text/plain": [
       "True"
      ]
     },
     "execution_count": 24,
     "metadata": {},
     "output_type": "execute_result"
    }
   ],
   "source": [
    "(4==4) and (3==4) or (3==3)"
   ]
  },
  {
   "cell_type": "code",
   "execution_count": 28,
   "id": "1b30dd7e-f092-4dae-b97b-f64f874f2a2e",
   "metadata": {},
   "outputs": [
    {
     "data": {
      "text/plain": [
       "30"
      ]
     },
     "execution_count": 28,
     "metadata": {},
     "output_type": "execute_result"
    }
   ],
   "source": [
    "#Assignment operator\n",
    "a=30\n",
    "a"
   ]
  },
  {
   "cell_type": "code",
   "execution_count": 30,
   "id": "77528dd1-1afa-4a1a-8cd4-7cb47c75d8a3",
   "metadata": {},
   "outputs": [
    {
     "name": "stdout",
     "output_type": "stream",
     "text": [
      "34\n"
     ]
    }
   ],
   "source": [
    "a=a+2\n",
    "print(a)"
   ]
  },
  {
   "cell_type": "code",
   "execution_count": 31,
   "id": "de0e3d5e-e0c2-4db6-8faa-157b6cf0f755",
   "metadata": {},
   "outputs": [
    {
     "data": {
      "text/plain": [
       "37"
      ]
     },
     "execution_count": 31,
     "metadata": {},
     "output_type": "execute_result"
    }
   ],
   "source": [
    "a+=3\n",
    "a"
   ]
  },
  {
   "cell_type": "code",
   "execution_count": 33,
   "id": "56c5011e-cf2c-44f0-8614-d7bd7dc62241",
   "metadata": {},
   "outputs": [
    {
     "data": {
      "text/plain": [
       "32"
      ]
     },
     "execution_count": 33,
     "metadata": {},
     "output_type": "execute_result"
    }
   ],
   "source": [
    "a-=5\n",
    "a\n"
   ]
  },
  {
   "cell_type": "code",
   "execution_count": 35,
   "id": "578c6640-7757-4df4-9eb7-8ea903c5bb43",
   "metadata": {},
   "outputs": [
    {
     "name": "stdout",
     "output_type": "stream",
     "text": [
      "True\n"
     ]
    }
   ],
   "source": [
    "#Identity operator\n",
    "x=20\n",
    "y=20\n",
    "print(x is y)"
   ]
  },
  {
   "cell_type": "code",
   "execution_count": 36,
   "id": "ec83a0b4-9ee5-41d6-8be3-b570fc5f7632",
   "metadata": {},
   "outputs": [
    {
     "name": "stdout",
     "output_type": "stream",
     "text": [
      "True\n"
     ]
    }
   ],
   "source": [
    "s1=\"papan\"\n",
    "s2=\"papan\"\n",
    "print(s1 is s2)\n"
   ]
  },
  {
   "cell_type": "code",
   "execution_count": 37,
   "id": "1f6e251f-53bb-4500-9061-8b8a4523bbf2",
   "metadata": {},
   "outputs": [
    {
     "name": "stdout",
     "output_type": "stream",
     "text": [
      "True\n"
     ]
    }
   ],
   "source": [
    "a=6\n",
    "b=9\n",
    "print(a is not b)"
   ]
  },
  {
   "cell_type": "code",
   "execution_count": 38,
   "id": "0143af7f-d615-4fd8-aabb-75ffa737ece9",
   "metadata": {},
   "outputs": [
    {
     "data": {
      "text/plain": [
       "True"
      ]
     },
     "execution_count": 38,
     "metadata": {},
     "output_type": "execute_result"
    }
   ],
   "source": [
    "#Membership operator\n",
    "a='srinibas'\n",
    "'bas' in a"
   ]
  },
  {
   "cell_type": "code",
   "execution_count": 41,
   "id": "15cb3640-8b66-41ea-8c89-da300c31ff80",
   "metadata": {},
   "outputs": [
    {
     "data": {
      "text/plain": [
       "False"
      ]
     },
     "execution_count": 41,
     "metadata": {},
     "output_type": "execute_result"
    }
   ],
   "source": [
    "lst=[2,4,6,8]\n",
    "5  in lst"
   ]
  },
  {
   "cell_type": "code",
   "execution_count": 42,
   "id": "37237b0e-4980-43ed-a92e-cf9260f6f38a",
   "metadata": {},
   "outputs": [
    {
     "data": {
      "text/plain": [
       "True"
      ]
     },
     "execution_count": 42,
     "metadata": {},
     "output_type": "execute_result"
    }
   ],
   "source": [
    "a=[1,2,3,4,6]\n",
    "2 in a"
   ]
  },
  {
   "cell_type": "code",
   "execution_count": null,
   "id": "eced9ee9-eb3a-4a73-926c-3c4520fd116f",
   "metadata": {},
   "outputs": [],
   "source": []
  }
 ],
 "metadata": {
  "kernelspec": {
   "display_name": "Python 3 (ipykernel)",
   "language": "python",
   "name": "python3"
  },
  "language_info": {
   "codemirror_mode": {
    "name": "ipython",
    "version": 3
   },
   "file_extension": ".py",
   "mimetype": "text/x-python",
   "name": "python",
   "nbconvert_exporter": "python",
   "pygments_lexer": "ipython3",
   "version": "3.11.7"
  }
 },
 "nbformat": 4,
 "nbformat_minor": 5
}
