{
 "cells": [
  {
   "cell_type": "code",
   "execution_count": 3,
   "id": "51676718-8fea-4d52-b32a-0edeaddcc704",
   "metadata": {},
   "outputs": [
    {
     "data": {
      "text/plain": [
       "6"
      ]
     },
     "execution_count": 3,
     "metadata": {},
     "output_type": "execute_result"
    }
   ],
   "source": [
    "AN=1\n",
    "b=5\n",
    "AN+b"
   ]
  },
  {
   "cell_type": "code",
   "execution_count": 4,
   "id": "66e9a340-e566-4ac1-afc9-5db0ccd3f320",
   "metadata": {},
   "outputs": [
    {
     "name": "stdout",
     "output_type": "stream",
     "text": [
      "6\n"
     ]
    }
   ],
   "source": [
    "AN=1 #this is the variable\n",
    "b=5\n",
    "print(AN+b) "
   ]
  },
  {
   "cell_type": "code",
   "execution_count": 5,
   "id": "0506d242-f2d9-477d-91c8-dcb564d21900",
   "metadata": {},
   "outputs": [
    {
     "data": {
      "text/plain": [
       "40"
      ]
     },
     "execution_count": 5,
     "metadata": {},
     "output_type": "execute_result"
    }
   ],
   "source": [
    "z=15\n",
    "c=25\n",
    "z+c"
   ]
  },
  {
   "cell_type": "code",
   "execution_count": 6,
   "id": "25649465-5480-4543-9f45-e523ca75849c",
   "metadata": {},
   "outputs": [
    {
     "data": {
      "text/plain": [
       "25"
      ]
     },
     "execution_count": 6,
     "metadata": {},
     "output_type": "execute_result"
    }
   ],
   "source": [
    "c"
   ]
  },
  {
   "cell_type": "code",
   "execution_count": 7,
   "id": "47e64e17-8f24-4b04-86a7-222a78a1ac0f",
   "metadata": {},
   "outputs": [
    {
     "data": {
      "text/plain": [
       "15"
      ]
     },
     "execution_count": 7,
     "metadata": {},
     "output_type": "execute_result"
    }
   ],
   "source": [
    "z"
   ]
  },
  {
   "cell_type": "code",
   "execution_count": 12,
   "id": "37e4d549-e6c3-45a8-8858-5471a6df587a",
   "metadata": {},
   "outputs": [
    {
     "name": "stdout",
     "output_type": "stream",
     "text": [
      "THE SUMMATION IS - 40\n"
     ]
    },
    {
     "data": {
      "text/plain": [
       "40"
      ]
     },
     "execution_count": 12,
     "metadata": {},
     "output_type": "execute_result"
    }
   ],
   "source": [
    "Z=15\n",
    "C=25\n",
    "U=Z+C\n",
    "print(\"THE SUMMATION IS -\",Z+C)\n",
    "U"
   ]
  },
  {
   "cell_type": "code",
   "execution_count": 14,
   "id": "ddb06abd-e31d-40e9-aafb-0b2c6facdd1f",
   "metadata": {},
   "outputs": [
    {
     "name": "stdout",
     "output_type": "stream",
     "text": [
      "tHE SUMMATION IS -  40\n"
     ]
    },
    {
     "data": {
      "text/plain": [
       "40"
      ]
     },
     "execution_count": 14,
     "metadata": {},
     "output_type": "execute_result"
    }
   ],
   "source": [
    "Z=15\n",
    "C=25\n",
    "V=2558\n",
    "U=Z+C\n",
    "print(\"tHE SUMMATION IS - \",Z+C)\n",
    "V\n",
    "U"
   ]
  },
  {
   "cell_type": "code",
   "execution_count": 15,
   "id": "93ad234c-e653-4604-8fc2-017f6a87f643",
   "metadata": {},
   "outputs": [
    {
     "name": "stdout",
     "output_type": "stream",
     "text": [
      "tHE SUMMATION IS -  40\n"
     ]
    },
    {
     "data": {
      "text/plain": [
       "40"
      ]
     },
     "execution_count": 15,
     "metadata": {},
     "output_type": "execute_result"
    }
   ],
   "source": [
    "Z=15\n",
    "C=25\n",
    "V=2558\n",
    "U=Z+C\n",
    "U\n",
    "print(\"tHE SUMMATION IS - \",Z+C)\n",
    "U"
   ]
  },
  {
   "cell_type": "code",
   "execution_count": 16,
   "id": "3cc81b20-a5e6-44e9-8335-e33c257121d6",
   "metadata": {},
   "outputs": [
    {
     "ename": "SyntaxError",
     "evalue": "invalid decimal literal (1751399472.py, line 1)",
     "output_type": "error",
     "traceback": [
      "\u001b[1;36m  Cell \u001b[1;32mIn[16], line 1\u001b[1;36m\u001b[0m\n\u001b[1;33m    1A=147\u001b[0m\n\u001b[1;37m    ^\u001b[0m\n\u001b[1;31mSyntaxError\u001b[0m\u001b[1;31m:\u001b[0m invalid decimal literal\n"
     ]
    }
   ],
   "source": [
    "1A=147\n",
    "1A"
   ]
  },
  {
   "cell_type": "code",
   "execution_count": 18,
   "id": "0edd7390-4373-4e9d-be69-a7bab68a4b9e",
   "metadata": {},
   "outputs": [
    {
     "data": {
      "text/plain": [
       "20"
      ]
     },
     "execution_count": 18,
     "metadata": {},
     "output_type": "execute_result"
    }
   ],
   "source": [
    "_1A=20\n",
    "_1A"
   ]
  },
  {
   "cell_type": "code",
   "execution_count": 7,
   "id": "d1f9c611-6ecf-4ab0-a0bc-f41d0535c904",
   "metadata": {},
   "outputs": [
    {
     "name": "stdout",
     "output_type": "stream",
     "text": [
      "['False', 'None', 'True', 'and', 'as', 'assert', 'async', 'await', 'break', 'class', 'continue', 'def', 'del', 'elif', 'else', 'except', 'finally', 'for', 'from', 'global', 'if', 'import', 'in', 'is', 'lambda', 'nonlocal', 'not', 'or', 'pass', 'raise', 'return', 'try', 'while', 'with', 'yield']\n"
     ]
    }
   ],
   "source": [
    "import keyword\n",
    "keywords = keyword.kwlist\n",
    "print(keywords)"
   ]
  },
  {
   "cell_type": "code",
   "execution_count": 8,
   "id": "86ace401-b140-4581-b9eb-3f506fe98c6b",
   "metadata": {},
   "outputs": [
    {
     "data": {
      "text/plain": [
       "35"
      ]
     },
     "execution_count": 8,
     "metadata": {},
     "output_type": "execute_result"
    }
   ],
   "source": [
    "len(keywords)"
   ]
  },
  {
   "cell_type": "code",
   "execution_count": 9,
   "id": "51a6f1db-d12f-452a-9146-24577f2102c3",
   "metadata": {},
   "outputs": [
    {
     "name": "stdin",
     "output_type": "stream",
     "text": [
      "Enter your company name - ocac\n"
     ]
    },
    {
     "name": "stdout",
     "output_type": "stream",
     "text": [
      "My organisation name is -  ocac\n"
     ]
    }
   ],
   "source": [
    "b=input(\"Enter your company name -\")\n",
    "print(\"My organisation name is - \",b)"
   ]
  },
  {
   "cell_type": "code",
   "execution_count": 10,
   "id": "a7a37805-352b-44cb-ba8d-ef084b97e2ab",
   "metadata": {},
   "outputs": [
    {
     "name": "stdout",
     "output_type": "stream",
     "text": [
      "ocac IS My Organisation name\n"
     ]
    }
   ],
   "source": [
    "print(b,\"IS My Organisation name\")"
   ]
  },
  {
   "cell_type": "code",
   "execution_count": 12,
   "id": "f5b998a0-4909-4f12-bf6b-3d219fe99bf3",
   "metadata": {},
   "outputs": [
    {
     "name": "stdout",
     "output_type": "stream",
     "text": [
      " I AM FROM  ocac Where are you from ?\n"
     ]
    }
   ],
   "source": [
    "print(\" I AM FROM \", b,\"Where are you from ?\")"
   ]
  },
  {
   "cell_type": "code",
   "execution_count": 15,
   "id": "772d0469-ade5-4cb3-a20a-95714e556167",
   "metadata": {},
   "outputs": [
    {
     "name": "stdout",
     "output_type": "stream",
     "text": [
      " I AM FROM  ocac and my Employee ID is -  ocac\n"
     ]
    }
   ],
   "source": [
    "print(\" I AM FROM \",b, \"and my Employee ID is - \",b) "
   ]
  },
  {
   "cell_type": "code",
   "execution_count": 17,
   "id": "41bfc3e2-ab89-4abc-9ed8-93dea449a280",
   "metadata": {},
   "outputs": [
    {
     "name": "stdout",
     "output_type": "stream",
     "text": [
      " I am from  {} and my Employee ID is - ocac\n"
     ]
    }
   ],
   "source": [
    "print(\" I am from  {} and my Employee ID is -\",b)"
   ]
  },
  {
   "cell_type": "code",
   "execution_count": 18,
   "id": "f8e7bf1d-9d06-4ac3-9cfa-73a46c8f92bf",
   "metadata": {},
   "outputs": [
    {
     "name": "stdout",
     "output_type": "stream",
     "text": [
      "10 20 30\n"
     ]
    }
   ],
   "source": [
    "a=10\n",
    "b=20\n",
    "c=30\n",
    "print(a,b,c)"
   ]
  },
  {
   "cell_type": "code",
   "execution_count": null,
   "id": "ebe2532f-0c57-4f23-9b22-331e7918e8fd",
   "metadata": {},
   "outputs": [],
   "source": []
  }
 ],
 "metadata": {
  "kernelspec": {
   "display_name": "Python 3 (ipykernel)",
   "language": "python",
   "name": "python3"
  },
  "language_info": {
   "codemirror_mode": {
    "name": "ipython",
    "version": 3
   },
   "file_extension": ".py",
   "mimetype": "text/x-python",
   "name": "python",
   "nbconvert_exporter": "python",
   "pygments_lexer": "ipython3",
   "version": "3.11.7"
  }
 },
 "nbformat": 4,
 "nbformat_minor": 5
}
